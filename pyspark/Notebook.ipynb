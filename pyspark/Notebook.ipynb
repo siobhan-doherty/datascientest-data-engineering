{
 "cells": [
  {
   "cell_type": "code",
   "execution_count": 6,
   "id": "ddb886a8-3b21-4756-9875-3c90b74455ce",
   "metadata": {},
   "outputs": [
    {
     "name": "stderr",
     "output_type": "stream",
     "text": [
      "Setting default log level to \"WARN\".\n",
      "To adjust logging level use sc.setLogLevel(newLevel). For SparkR, use setLogLevel(newLevel).\n",
      "Setting Spark log level to \"ERROR\".\n"
     ]
    },
    {
     "data": {
      "text/html": [
       "\n",
       "            <div>\n",
       "                <p><b>SparkSession - in-memory</b></p>\n",
       "                \n",
       "        <div>\n",
       "            <p><b>SparkContext</b></p>\n",
       "\n",
       "            <p><a href=\"http://ip-172-31-18-113.eu-west-1.compute.internal:4040\">Spark UI</a></p>\n",
       "\n",
       "            <dl>\n",
       "              <dt>Version</dt>\n",
       "                <dd><code>v3.5.0</code></dd>\n",
       "              <dt>Master</dt>\n",
       "                <dd><code>local[*]</code></dd>\n",
       "              <dt>AppName</dt>\n",
       "                <dd><code>pyspark-shell</code></dd>\n",
       "            </dl>\n",
       "        </div>\n",
       "        \n",
       "            </div>\n",
       "        "
      ],
      "text/plain": [
       "<pyspark.sql.session.SparkSession at 0x7feee158b820>"
      ]
     },
     "execution_count": 6,
     "metadata": {},
     "output_type": "execute_result"
    }
   ],
   "source": [
    "# Import de Spark Session et SparkContext\n",
    "from pyspark.sql import SparkSession\n",
    "from pyspark import SparkContext\n",
    "from pyspark.conf import SparkConf\n",
    "\n",
    "conf = SparkConf()\n",
    "conf.set(\"spark.log.level\", \"error\")  # To display only errors\n",
    "conf.set(\"spark.ui.showConsoleProgress\", \"false\")  # To not display Spark job progress in Python\n",
    "\n",
    "# Define a SparkContext\n",
    "sc = SparkContext.getOrCreate(conf=conf)\n",
    "\n",
    "# Define a SparkSession\n",
    "spark = SparkSession \\\n",
    "    .builder \\\n",
    "    .master(\"local\") \\\n",
    "    .appName(\"Introduction to DataFrame\") \\\n",
    "    .getOrCreate()\n",
    "spark"
   ]
  },
  {
   "cell_type": "code",
   "execution_count": 7,
   "id": "a71075d5-a34f-407c-b6f0-ac35c3f49d21",
   "metadata": {},
   "outputs": [
    {
     "data": {
      "text/plain": [
       "[2, 4, 6, 8, 10]"
      ]
     },
     "execution_count": 7,
     "metadata": {},
     "output_type": "execute_result"
    }
   ],
   "source": [
    "rdd = sc.parallelize([1, 2, 3, 4, 5])\n",
    "rdd = rdd.map(lambda x: x*2)\n",
    "rdd.take(5)"
   ]
  },
  {
   "cell_type": "code",
   "execution_count": 8,
   "id": "de710d15-565c-43f4-a2fb-464ee11b6c89",
   "metadata": {},
   "outputs": [],
   "source": [
    "sc.stop()"
   ]
  },
  {
   "cell_type": "code",
   "execution_count": 9,
   "id": "3d36ae15-f025-4541-82c7-b5731837c757",
   "metadata": {},
   "outputs": [
    {
     "name": "stderr",
     "output_type": "stream",
     "text": [
      "Setting Spark log level to \"ERROR\".\n"
     ]
    }
   ],
   "source": [
    "from pyspark import SparkContext, SparkConf\n",
    "\n",
    "conf = SparkConf().setAppName(\"Spark Course\").setMaster(\"local[*]\")\n",
    "sc = SparkContext(conf=conf)"
   ]
  },
  {
   "cell_type": "code",
   "execution_count": 10,
   "id": "f2a2b5c2-a5d9-4afa-9fb6-cd5c7af6ca26",
   "metadata": {},
   "outputs": [],
   "source": [
    "rdd = sc.parallelize(range(10))"
   ]
  },
  {
   "cell_type": "code",
   "execution_count": 11,
   "id": "620e63bf-e031-41a0-a913-d86f1d7012cc",
   "metadata": {},
   "outputs": [
    {
     "name": "stdout",
     "output_type": "stream",
     "text": [
      "PythonRDD[1] at RDD at PythonRDD.scala:53\n"
     ]
    }
   ],
   "source": [
    "print(rdd)"
   ]
  },
  {
   "cell_type": "code",
   "execution_count": 12,
   "id": "751b4abe-939c-4ac8-a2eb-c7ad81da1eef",
   "metadata": {},
   "outputs": [
    {
     "name": "stdout",
     "output_type": "stream",
     "text": [
      "[0, 1, 2, 3, 4, 5, 6, 7, 8, 9]\n"
     ]
    }
   ],
   "source": [
    "print(rdd.collect())"
   ]
  },
  {
   "cell_type": "code",
   "execution_count": 13,
   "id": "479b89c2-a983-4c0b-8c87-3d4d07d5fcb4",
   "metadata": {},
   "outputs": [
    {
     "name": "stdout",
     "output_type": "stream",
     "text": [
      "2\n"
     ]
    }
   ],
   "source": [
    "print(rdd.getNumPartitions())"
   ]
  },
  {
   "cell_type": "code",
   "execution_count": 14,
   "id": "ea3953ed-83eb-4711-8f77-be7fba8af21e",
   "metadata": {},
   "outputs": [
    {
     "name": "stdout",
     "output_type": "stream",
     "text": [
      "[[0, 1, 2, 3, 4], [5, 6, 7, 8, 9], [10, 11, 12, 13, 14], [15, 16, 17, 18, 19], [20, 21, 22, 23, 24], [25, 26, 27, 28, 29], [30, 31, 32, 33, 34], [35, 36, 37, 38, 39], [40, 41, 42, 43, 44], [45, 46, 47, 48, 49]]\n"
     ]
    }
   ],
   "source": [
    "rdd = sc.parallelize(range(50), 10)\n",
    "print(rdd.glom().collect())"
   ]
  },
  {
   "cell_type": "code",
   "execution_count": 15,
   "id": "9ff88b79-eae3-47e9-8206-4b2e98005067",
   "metadata": {},
   "outputs": [
    {
     "name": "stdout",
     "output_type": "stream",
     "text": [
      "[0, 2, 4, 6, 8, 10, 12, 14, 16, 18]\n"
     ]
    }
   ],
   "source": [
    "def map(L, f):\n",
    "    return([f(element) for element in L])\n",
    "\n",
    "def f(integer):\n",
    "    return(2*integer)\n",
    "\n",
    "L = list(range(10))\n",
    "print(map(L, f))"
   ]
  },
  {
   "cell_type": "code",
   "execution_count": 16,
   "id": "4f15189f-846d-4835-bbf9-48164ebba5ec",
   "metadata": {},
   "outputs": [
    {
     "name": "stdout",
     "output_type": "stream",
     "text": [
      "True\n"
     ]
    }
   ],
   "source": [
    "matrix = ([[1,2],\n",
    "           [3,4]])\n",
    "\n",
    "flattened = [x for row in matrix for x in row]\n",
    "print(flattened == [1, 2, 3, 4])"
   ]
  },
  {
   "cell_type": "code",
   "execution_count": 17,
   "id": "004117c5-47ea-4012-89f6-7ac50437d5d0",
   "metadata": {},
   "outputs": [],
   "source": [
    "def f(integer):\n",
    "    return([integer, 2*integer])"
   ]
  },
  {
   "cell_type": "code",
   "execution_count": 18,
   "id": "cca82833-21c3-4b62-b845-eb0e821a17b5",
   "metadata": {},
   "outputs": [
    {
     "name": "stdout",
     "output_type": "stream",
     "text": [
      "[0, 1, 2, 3, 4, 5, 6, 7, 8]\n",
      "[0, 1, 2, 3, 4, 5, 6, 7, 8, 0, 1, 2, 3, 4, 5, 6, 7, 8]\n"
     ]
    }
   ],
   "source": [
    "L = list(range(9))\n",
    "\n",
    "def F(partition):\n",
    "    for element in partition:\n",
    "        if element%2 == 0:\n",
    "            yield element\n",
    "\n",
    "generateur = f(L)\n",
    "\n",
    "for element in generateur:\n",
    "    print(element)"
   ]
  },
  {
   "cell_type": "code",
   "execution_count": 19,
   "id": "d1e795b7-7d75-41fa-aa13-1b06e5a04479",
   "metadata": {},
   "outputs": [],
   "source": [
    "def f(a,b):\n",
    "    return(a+b)"
   ]
  },
  {
   "cell_type": "code",
   "execution_count": 20,
   "id": "757bf891-b28c-48bf-8e25-02abba55a834",
   "metadata": {},
   "outputs": [
    {
     "name": "stdout",
     "output_type": "stream",
     "text": [
      "[45]\n"
     ]
    }
   ],
   "source": [
    "def Reduce(f, L):\n",
    "    while len(L) > 1:\n",
    "        L[1] = f(L[0], L[1])\n",
    "        L.pop(0)\n",
    "    return(L)\n",
    "\n",
    "L = list(range(10))\n",
    "print(Reduce(lambda x,y: x+y, L))"
   ]
  },
  {
   "cell_type": "code",
   "execution_count": 21,
   "id": "c7a19d3d-9a6b-4f97-a436-8eee8ab23cd3",
   "metadata": {},
   "outputs": [
    {
     "name": "stdout",
     "output_type": "stream",
     "text": [
      "[45]\n"
     ]
    }
   ],
   "source": [
    "def reduce(f, L):\n",
    "    while len(L) > 1:\n",
    "        L[1] = f(L[0], L[1])\n",
    "        L.pop(0)\n",
    "    return(L)\n",
    "\n",
    "def reduceGlobal(f, L):\n",
    "    for i, element in enumerate(L):\n",
    "        reduce(f, element)\n",
    "        L[i] = element[0]\n",
    "    return(reduce(f, L))\n",
    "\n",
    "L = [[0,1,2], [3,4,5], [6,7,8,9]]\n",
    "print(reduceGlobal(lambda x,y: x+y, L))"
   ]
  },
  {
   "cell_type": "code",
   "execution_count": 22,
   "id": "b906421e-fa60-4059-8b78-645b5701491a",
   "metadata": {},
   "outputs": [
    {
     "name": "stdout",
     "output_type": "stream",
     "text": [
      "0\n"
     ]
    }
   ],
   "source": [
    "count = 0\n",
    "rdd = sc.parallelize([1,2,3,4,5])\n",
    "\n",
    "def add_count(x):\n",
    "    global count\n",
    "    count += x\n",
    "\n",
    "rdd.foreach(add_count)\n",
    "print(count)"
   ]
  },
  {
   "cell_type": "code",
   "execution_count": 23,
   "id": "c7c97e45-2cbe-497d-b807-01e8f237cf04",
   "metadata": {},
   "outputs": [
    {
     "name": "stdout",
     "output_type": "stream",
     "text": [
      "15\n"
     ]
    }
   ],
   "source": [
    "count = sc.accumulator(0)\n",
    "rdd = sc.parallelize([1,2,3,4,5])\n",
    "\n",
    "def add_count(x):\n",
    "    count.add(x)\n",
    "\n",
    "rdd.foreach(add_count)\n",
    "print(count.value)"
   ]
  },
  {
   "cell_type": "code",
   "execution_count": 24,
   "id": "1c8b4eae-2875-44c8-91f3-1053f9e60d42",
   "metadata": {},
   "outputs": [
    {
     "name": "stdout",
     "output_type": "stream",
     "text": [
      "3.14\n"
     ]
    }
   ],
   "source": [
    "pi = sc.broadcast(3.14)\n",
    "print(pi.value)"
   ]
  },
  {
   "cell_type": "code",
   "execution_count": 25,
   "id": "80134328-b4f5-4384-bfa0-15d90423e47c",
   "metadata": {},
   "outputs": [
    {
     "name": "stdout",
     "output_type": "stream",
     "text": [
      "[0, 1, 4, 9, 16, 25, 36, 49, 64, 81, 100, 121, 144, 169, 196, 225, 256, 289, 324, 361, 400, 441, 484, 529, 576, 625, 676, 729, 784, 841, 900, 961, 1024, 1089, 1156, 1225, 1296, 1369, 1444, 1521, 1600, 1681, 1764, 1849, 1936, 2025, 2116, 2209, 2304, 2401]\n"
     ]
    }
   ],
   "source": [
    "rdd = sc.parallelize(range(50))\n",
    "print(rdd.map(lambda x: x**2).collect())"
   ]
  },
  {
   "cell_type": "code",
   "execution_count": 26,
   "id": "52dbf319-73d4-4e54-b678-f8165a7d3255",
   "metadata": {},
   "outputs": [
    {
     "name": "stdout",
     "output_type": "stream",
     "text": [
      "[[0, 0], [1, 1], [2, 4], [3, 9], [4, 16], [5, 25], [6, 36], [7, 49], [8, 64], [9, 81], [10, 100], [11, 121], [12, 144], [13, 169], [14, 196], [15, 225], [16, 256], [17, 289], [18, 324], [19, 361], [20, 400], [21, 441], [22, 484], [23, 529], [24, 576], [25, 625], [26, 676], [27, 729], [28, 784], [29, 841], [30, 900], [31, 961], [32, 1024], [33, 1089], [34, 1156], [35, 1225], [36, 1296], [37, 1369], [38, 1444], [39, 1521], [40, 1600], [41, 1681], [42, 1764], [43, 1849], [44, 1936], [45, 2025], [46, 2116], [47, 2209], [48, 2304], [49, 2401]]\n"
     ]
    }
   ],
   "source": [
    "rdd = sc.parallelize(range(50))\n",
    "print(rdd.map(lambda x: [x, x**2]).collect())"
   ]
  },
  {
   "cell_type": "code",
   "execution_count": 27,
   "id": "a8bcc38f-9887-4bbc-91a0-243b32637280",
   "metadata": {},
   "outputs": [
    {
     "name": "stdout",
     "output_type": "stream",
     "text": [
      "[0, 0, 1, 1, 2, 4, 3, 9, 4, 16, 5, 25, 6, 36, 7, 49, 8, 64, 9, 81, 10, 100, 11, 121, 12, 144, 13, 169, 14, 196, 15, 225, 16, 256, 17, 289, 18, 324, 19, 361, 20, 400, 21, 441, 22, 484, 23, 529, 24, 576, 25, 625, 26, 676, 27, 729, 28, 784, 29, 841, 30, 900, 31, 961, 32, 1024, 33, 1089, 34, 1156, 35, 1225, 36, 1296, 37, 1369, 38, 1444, 39, 1521, 40, 1600, 41, 1681, 42, 1764, 43, 1849, 44, 1936, 45, 2025, 46, 2116, 47, 2209, 48, 2304, 49, 2401]\n"
     ]
    }
   ],
   "source": [
    "rdd = sc.parallelize(range(50))\n",
    "\n",
    "print(rdd.flatMap(lambda x: [x, x**2]).collect())\n",
    "\n"
   ]
  },
  {
   "cell_type": "code",
   "execution_count": 28,
   "id": "dc0bd2b3-11fb-473c-8c0b-ada7dc6f4bbb",
   "metadata": {},
   "outputs": [],
   "source": [
    "rdd = sc.parallelize(range(50), 3)\n",
    "\n",
    "\n"
   ]
  },
  {
   "cell_type": "code",
   "execution_count": 29,
   "id": "7eeb6218-3553-452b-b783-c340b9269c62",
   "metadata": {},
   "outputs": [
    {
     "name": "stdout",
     "output_type": "stream",
     "text": [
      "[[0, 1, 2, 3, 4, 5, 6, 7, 8, 9, 10, 11, 12, 13, 14, 15], [16, 17, 18, 19, 20, 21, 22, 23, 24, 25, 26, 27, 28, 29, 30, 31, 32], [33, 34, 35, 36, 37, 38, 39, 40, 41, 42, 43, 44, 45, 46, 47, 48, 49]]\n"
     ]
    }
   ],
   "source": [
    "print(rdd.glom().collect())\n",
    "\n",
    "\n"
   ]
  },
  {
   "cell_type": "code",
   "execution_count": 30,
   "id": "25eb9be5-aae6-4b99-a80b-ddf4322ee521",
   "metadata": {},
   "outputs": [],
   "source": [
    "def partition_sum(partition):\n",
    "\n",
    "    return([sum(partition)])\n",
    "\n"
   ]
  },
  {
   "cell_type": "code",
   "execution_count": 31,
   "id": "b2b28d52-7693-4844-b788-7e5c1aa91017",
   "metadata": {},
   "outputs": [
    {
     "name": "stdout",
     "output_type": "stream",
     "text": [
      "[120, 408, 697]\n"
     ]
    }
   ],
   "source": [
    "print(rdd.mapPartitions(partition_sum).collect())\n",
    "\n",
    "\n"
   ]
  },
  {
   "cell_type": "code",
   "execution_count": 32,
   "id": "66615055-76d8-4721-bfc4-f5b2904bc1e6",
   "metadata": {},
   "outputs": [],
   "source": [
    "rdd = sc.parallelize(range(10), 3)\n",
    "\n",
    "\n"
   ]
  },
  {
   "cell_type": "code",
   "execution_count": 33,
   "id": "69e37265-67de-4def-ab8c-634adbe32560",
   "metadata": {},
   "outputs": [
    {
     "name": "stdout",
     "output_type": "stream",
     "text": [
      "45\n",
      "45\n"
     ]
    }
   ],
   "source": [
    "def add(x, y):\n",
    "    return(x+y)\n",
    "\n",
    "print(rdd.reduce(add))\n",
    "print(rdd.reduce(lambda x, y: x+y))"
   ]
  },
  {
   "cell_type": "code",
   "execution_count": 34,
   "id": "38618246-8507-4254-99bb-735e31d37020",
   "metadata": {},
   "outputs": [
    {
     "name": "stdout",
     "output_type": "stream",
     "text": [
      "[(0, 600), (1, 625)]\n"
     ]
    }
   ],
   "source": [
    "rdd = sc.parallelize(range(50))\n",
    "\n",
    "def odd_key(value):\n",
    "    if value%2 == 0:\n",
    "        return(0, value)\n",
    "    else:\n",
    "        return(1, value)\n",
    "\n",
    "rdd_one = rdd.map(odd_key)\n",
    "print(rdd_one.reduceByKey(lambda x, y: x+y).collect())"
   ]
  },
  {
   "cell_type": "code",
   "execution_count": 35,
   "id": "0d208958-31ed-4b75-aee4-54dc41092351",
   "metadata": {},
   "outputs": [
    {
     "name": "stdout",
     "output_type": "stream",
     "text": [
      "[(0, 0), (0, 2), (0, 4), (0, 6), (0, 8), (0, 10), (0, 12), (0, 14), (0, 16), (0, 18), (0, 20), (0, 22), (0, 24), (0, 26), (0, 28), (0, 30), (0, 32), (0, 34), (0, 36), (0, 38), (0, 40), (0, 42), (0, 44), (0, 46), (0, 48), (1, 1), (1, 3), (1, 5), (1, 7), (1, 9), (1, 11), (1, 13), (1, 15), (1, 17), (1, 19), (1, 21), (1, 23), (1, 25), (1, 27), (1, 29), (1, 31), (1, 33), (1, 35), (1, 37), (1, 39), (1, 41), (1, 43), (1, 45), (1, 47), (1, 49)]\n"
     ]
    }
   ],
   "source": [
    "rdd = sc.parallelize(range(50))\n",
    "\n",
    "def odd_key(value):\n",
    "    if value%2 == 0:\n",
    "        return(0, value)\n",
    "    else:\n",
    "        return(1, value)\n",
    "\n",
    "rdd_one = rdd.map(odd_key)\n",
    "print(rdd_one.sortByKey().collect())"
   ]
  },
  {
   "cell_type": "code",
   "execution_count": 36,
   "id": "c5c1f489-cc0b-41cf-8417-49cc72fff70e",
   "metadata": {},
   "outputs": [
    {
     "name": "stdout",
     "output_type": "stream",
     "text": [
      "25 25\n",
      "600 625\n"
     ]
    }
   ],
   "source": [
    "rdd = sc.parallelize(range(50))\n",
    "\n",
    "\n",
    "rdd_even = rdd.filter(lambda x: x%2 == 0)\n",
    "rdd_odd = rdd.filter(lambda x: x%2 == 1)\n",
    "\n",
    "print(rdd_even.count(), rdd_odd.count())\n",
    "print(rdd_even.reduce(lambda x, y: x+y), rdd_odd.reduce(lambda x, y: x+y))\n",
    "\n"
   ]
  },
  {
   "cell_type": "code",
   "execution_count": 37,
   "id": "ca06f33d-ab49-4ec1-a7f6-80f9b286c8c2",
   "metadata": {},
   "outputs": [],
   "source": [
    "rdd = sc.parallelize(range(50))\n",
    "\n",
    "rdd_one = rdd.map(lambda x: (x%2, x))\n",
    "\n",
    "\n"
   ]
  },
  {
   "cell_type": "code",
   "execution_count": 38,
   "id": "208de387-411e-493b-976c-9e305ec4d224",
   "metadata": {},
   "outputs": [],
   "source": [
    "def partitioning(key):\n",
    "    return key % 2\n"
   ]
  },
  {
   "cell_type": "code",
   "execution_count": 39,
   "id": "69f8c9a6-6b54-4246-8bc2-643ee481a570",
   "metadata": {},
   "outputs": [
    {
     "name": "stdout",
     "output_type": "stream",
     "text": [
      "[[(0, 0), (0, 2), (0, 4), (0, 6), (0, 8), (0, 10), (0, 12), (0, 14), (0, 16), (0, 18), (0, 20), (0, 22), (0, 24), (0, 26), (0, 28), (0, 30), (0, 32), (0, 34), (0, 36), (0, 38), (0, 40), (0, 42), (0, 44), (0, 46), (0, 48)], [(1, 1), (1, 3), (1, 5), (1, 7), (1, 9), (1, 11), (1, 13), (1, 15), (1, 17), (1, 19), (1, 21), (1, 23), (1, 25), (1, 27), (1, 29), (1, 31), (1, 33), (1, 35), (1, 37), (1, 39), (1, 41), (1, 43), (1, 45), (1, 47), (1, 49)]]\n"
     ]
    }
   ],
   "source": [
    "rdd_one = rdd_one.partitionBy(2, partitioning)\n",
    "\n",
    "print(rdd_one.glom().collect())\n",
    "\n",
    "\n"
   ]
  },
  {
   "cell_type": "code",
   "execution_count": 40,
   "id": "d989f117-ab83-4dd5-905d-af0fa008891d",
   "metadata": {},
   "outputs": [
    {
     "name": "stdout",
     "output_type": "stream",
     "text": [
      "--2025-05-21 11:43:41--  https://assets-datascientest.s3.eu-west-1.amazonaws.com/shakespeare.txt\n",
      "Resolving assets-datascientest.s3.eu-west-1.amazonaws.com (assets-datascientest.s3.eu-west-1.amazonaws.com)... 52.92.2.50, 52.218.56.104, 3.5.68.232, ...\n",
      "Connecting to assets-datascientest.s3.eu-west-1.amazonaws.com (assets-datascientest.s3.eu-west-1.amazonaws.com)|52.92.2.50|:443... connected.\n",
      "HTTP request sent, awaiting response... 200 OK\n",
      "Length: 293326 (286K) [text/plain]\n",
      "Saving to: ‘shakespeare.txt.2’\n",
      "\n",
      "shakespeare.txt.2   100%[===================>] 286.45K  --.-KB/s    in 0.01s   \n",
      "\n",
      "2025-05-21 11:43:41 (25.4 MB/s) - ‘shakespeare.txt.2’ saved [293326/293326]\n",
      "\n"
     ]
    }
   ],
   "source": [
    "!wget https://assets-datascientest.s3.eu-west-1.amazonaws.com/shakespeare.txt"
   ]
  },
  {
   "cell_type": "code",
   "execution_count": 41,
   "id": "fd4342d2-9d31-4426-9602-3a0cc2ad7ecb",
   "metadata": {},
   "outputs": [],
   "source": [
    "rdd = sc.textFile(\"shakespeare.txt\")\n",
    "rdd_clean = rdd.flatMap(lambda x: x.replace('\\'', ' ').lower().split())"
   ]
  },
  {
   "cell_type": "code",
   "execution_count": 42,
   "id": "e8422ee7-b6fd-4779-ad96-8bb4231f583d",
   "metadata": {},
   "outputs": [],
   "source": [
    "rdd_count = rdd_clean.map(lambda x: (x, 1))\n"
   ]
  },
  {
   "cell_type": "code",
   "execution_count": 43,
   "id": "3a05f9aa-4cf5-4948-8dd9-d4827883030f",
   "metadata": {},
   "outputs": [
    {
     "name": "stdout",
     "output_type": "stream",
     "text": [
      "[(',', 5229), ('.', 2465), ('the', 1708), ('i', 1685), ('and', 1540), ('to', 1121), ('you', 1080), (';', 1076), ('of', 1017), ('a', 980), (':', 795), ('that', 771), ('in', 768), ('my', 761), ('is', 695), ('?', 620), ('not', 616), ('it', 551), ('me', 542), ('he', 501), ('for', 483), ('!', 480), ('your', 468), ('with', 461), ('s', 454), ('but', 447), ('his', 436), ('be', 432), ('this', 417), ('have', 407), ('d', 381), ('will', 378), ('as', 365), ('so', 360), ('him', 343), ('thou', 338), ('her', 336), ('do', 296), ('what', 287), ('no', 285), ('if', 255), ('shall', 236), ('love', 235), ('all', 235), ('are', 233), ('we', 232), ('by', 219), ('thee', 209), ('thy', 208), ('good', 202), ('she', 196), ('more', 188), ('on', 186), ('our', 185), ('am', 176), ('would', 174), ('was', 174), ('man', 171), ('o', 169), ('here', 167), ('well', 163), ('or', 160), ('which', 160), ('now', 159), ('come', 159), ('from', 158), ('when', 156), ('at', 150), ('there', 146), ('sir', 143), ('lord', 142), ('ll', 140), ('know', 139), ('they', 136), ('one', 132), ('than', 131), ('hath', 127), ('then', 125), ('let', 121), ('must', 119), ('yet', 118), ('go', 114), ('upon', 114), ('an', 110), ('them', 109), ('make', 109), ('their', 108), ('see', 108), ('how', 107), ('say', 105), ('can', 104), ('did', 104), ('may', 102), ('were', 102), ('like', 100), ('had', 99), ('should', 95), ('speak', 94), ('us', 92), ('mine', 92), ('most', 90), ('out', 89), ('why', 88), ('some', 88), ('too', 84), ('never', 83), ('such', 83), ('give', 82), ('sweet', 80), ('where', 80), ('take', 78), ('father', 77), ('tis', 77), ('think', 73), ('very', 72), ('these', 71), ('time', 68), ('who', 68), ('t', 67), ('look', 66), ('own', 66), ('fair', 66), ('away', 63), ('st', 63), ('eyes', 62), ('ever', 62), ('tell', 61), ('great', 61), ('life', 60), ('much', 60), ('night', 59), ('heart', 57), ('pray', 57), ('duke', 57), ('young', 56), ('honour', 56), ('art', 55), ('cannot', 54), ('doth', 54), ('up', 54), ('therefore', 54), ('poor', 53), ('leave', 52), ('true', 52), ('hear', 51), ('comes', 51), ('again', 50), ('into', 50), ('any', 50), ('every', 49), ('nor', 48), ('son', 48), ('fool', 48), ('madam', 48), ('nothing', 48), ('though', 47), ('could', 47), ('find', 47), ('world', 46), ('old', 46), ('play', 46), ('till', 45), ('made', 45), ('before', 44), ('ay', 44), ('pyramus', 44), ('nature', 44), ('hermia', 43), ('master', 43), ('name', 43), ('thus', 43), ('day', 43), ('er', 42), ('two', 42), ('little', 42), ('better', 42), ('other', 41), ('king', 41), ('nay', 41), ('call', 40), ('down', 40), ('demetrius', 40), ('first', 40), ('lysander', 39), ('heaven', 39), ('god', 39), ('eye', 39), ('gone', 39), ('hast', 38), ('live', 38), ('both', 38), ('youth', 38), ('marry', 38), ('men', 38), ('mother', 38), ('hand', 38), ('many', 38), ('against', 37), ('whose', 37), ('brother', 37), ('grace', 36), ('been', 36), ('through', 36), ('dear', 36), ('might', 36), ('wife', 36), ('bring', 35), ('none', 35), ('death', 35), ('place', 35), ('fortune', 35), ('part', 34), ('ring', 34), ('lady', 33), ('indeed', 33), ('off', 33), ('court', 33), ('full', 32), ('die', 32), ('things', 32), ('bear', 32), ('ere', 32), ('daughter', 31), ('maid', 31), ('gentle', 31), ('fear', 31), ('lion', 30), ('after', 30), ('thine', 30), ('knave', 30), ('another', 30), ('stay', 30), ('mistress', 30), ('truth', 30), ('dead', 30), ('wall', 30), ('thank', 30), ('way', 29), ('truly', 29), ('faith', 29), ('put', 29), ('count', 29), ('moon', 29), ('being', 29), ('follow', 29), ('friends', 29), ('word', 29), ('answer', 29), ('hope', 29), ('since', 29), ('show', 29), ('has', 29), ('myself', 28), ('thisby', 28), ('tongue', 28), ('done', 28), ('noble', 27), ('house', 27), ('meet', 27), ('pity', 27), ('himself', 27), ('those', 27), ('stand', 26), ('helen', 26), ('whom', 26), ('blood', 26), ('under', 26), ('power', 25), ('rather', 25), ('farewell', 25), ('set', 25), ('serve', 25), ('rosalind', 25), ('forth', 25), ('still', 25), ('please', 25), ('does', 25), ('helena', 24), ('best', 24), ('rest', 24), ('fairy', 24), ('hither', 24), ('even', 24), ('else', 24), ('woman', 24), ('bed', 24), ('found', 24), ('right', 23), ('said', 23), ('fall', 23), ('sing', 23), ('further', 23), ('home', 23), ('service', 23), ('keep', 23), ('heard', 22), ('loves', 22), ('believe', 22), ('end', 22), ('hour', 22), ('within', 22), ('without', 22), ('swear', 22), ('company', 22), ('enough', 22), ('get', 22), ('captain', 22), ('long', 21), ('only', 21), ('hate', 21), ('shalt', 21), ('help', 21), ('sure', 21), ('lovers', 21), ('makes', 21), ('sport', 21), ('sake', 21), ('sleep', 21), ('monsieur', 21), ('drum', 21), ('lose', 20), ('business', 20), ('something', 20), ('run', 20), ('tears', 20), ('wood', 20), ('once', 20), ('lie', 20), ('virginity', 20), ('near', 20), ('three', 20), ('prithee', 20), ('athens', 20), ('unto', 20), ('lov', 20), ('face', 20), ('seek', 20), ('hold', 20), ('about', 20), ('wilt', 20), ('together', 20), ('honest', 20), ('turn', 19), ('child', 19), ('pardon', 19), ('head', 19), ('yours', 19), ('boy', 19), ('ask', 19), ('lost', 19), ('told', 19), ('came', 19), ('yourself', 19), ('shepherd', 19), ('seem', 19), ('means', 18), ('ladies', 18), ('use', 18), ('virtue', 18), ('france', 18), ('lordship', 18), ('sight', 18), ('lover', 18), ('knows', 18), ('saw', 18), ('welcome', 18), ('majesty', 18), ('dream', 17), ('kind', 17), ('dost', 17), ('yes', 17), ('withal', 17), ('matter', 17), ('sword', 17), ('desire', 17), ('proud', 17), ('forest', 17), ('thing', 17), ('hands', 17), ('alone', 17), ('prove', 17), ('friend', 17), ('reason', 17), ('athenian', 16), ('thanks', 16), ('gentleman', 16), ('thought', 16), ('high', 16), ('fire', 16), ('kill', 16), ('scorn', 16), ('strange', 16), ('respect', 16), ('oft', 16), ('hence', 16), ('fare', 16), ('eat', 16), ('light', 16), ('words', 16), ('itself', 16), ('woo', 15), ('queen', 15), ('seen', 15), ('far', 15), ('lack', 15), ('says', 15), ('past', 15), ('given', 15), ('strong', 15), ('either', 15), ('beseech', 15), ('same', 15), ('back', 15), ('bottom', 15), ('beard', 15), ('between', 15), ('wrong', 15), ('wish', 15), ('bless', 15), ('wit', 15), ('fellow', 15), ('new', 14), ('mind', 14), ('fly', 14), ('looks', 14), ('mean', 14), ('colour', 14), ('pretty', 14), ('thousand', 14), ('wear', 14), ('living', 14), ('voice', 14), ('worthy', 14), ('thoughts', 14), ('next', 14), ('cheek', 14), ('because', 14), ('to-morrow', 14), ('horse', 14), ('met', 14), ('wind', 14), ('return', 14), ('remember', 14), ('trust', 14), ('content', 14), ('hard', 14), ('knew', 14), ('age', 14), ('methinks', 13), ('confess', 13), ('spoke', 13), ('duty', 13), ('steal', 13), ('ear', 13), ('known', 13), ('change', 13), ('worth', 13), ('neither', 13), ('wonder', 13), ('gave', 13), ('husband', 13), ('honesty', 13), ('rousillon', 13), ('soul', 13), ('along', 13), ('folly', 13), ('break', 13), ('sense', 13), ('note', 13), ('pleasure', 13), ('cousin', 13), ('themselves', 12), ('pale', 12), ('sound', 12), ('haste', 12), ('oaths', 12), ('gold', 12), ('charge', 12), ('wherefore', 12), ('understand', 12), ('common', 12), ('pass', 12), ('bid', 12), ('passion', 12), ('save', 12), ('try', 12), ('sent', 12), ('mouth', 12), ('married', 12), ('greatest', 12), ('enemy', 12), ('send', 12), ('parolles', 12), ('ourselves', 12), ('jaques', 12), ('happy', 12), ('beg', 12), ('choice', 12), ('grow', 12), ('war', 12), ('lay', 12), ('whither', 12), ('food', 12), ('coming', 12), ('joy', 12), ('canst', 12), ('lead', 12), ('lies', 12), ('manners', 12), ('present', 12), ('wherein', 12), ('seems', 12), ('buy', 12), ('holy', 12), ('days', 11), ('spirit', 11), ('melancholy', 11), ('entreat', 11), ('question', 11), ('cold', 11), ('maiden', 11), ('low', 11), ('green', 11), ('fault', 11), ('hang', 11), ('spirits', 11), ('to-night', 11), ('music', 11), ('cause', 11), ('goes', 11), ('worse', 11), ('tender', 11), ('fine', 11), ('mounsieur', 11), ('ten', 11), ('anything', 11), ('knowledge', 11), ('demand', 11), ('fortunes', 11), ('cupid', 11), ('vile', 11), ('parts', 11), ('over', 11), ('anon', 11), ('didst', 11), ('fetch', 11), ('song', 11), ('care', 11), ('virtuous', 11), ('ne', 11), ('almost', 11), ('write', 11), ('begin', 11), ('wise', 11), ('while', 11), ('left', 11), ('sorrow', 11), ('kiss', 11), ('each', 11), ('wars', 11), ('highness', 11), ('general', 11), ('charles', 11), ('news', 10), ('hair', 10), ('vow', 10), ('read', 10), ('speed', 10), ('point', 10), ('merry', 10), ('cat', 10), ('sometime', 10), ('harm', 10), ('ill', 10), ('took', 10), ('oath', 10), ('ass', 10), ('cry', 10), ('feed', 10), ('already', 10), ('country', 10), ('late', 10), ('last', 10), ('courtier', 10), ('dare', 10), ('liege', 10), ('tree', 10), ('fit', 10), ('brief', 10), ('patience', 10), ('vows', 10), ('comfort', 10), ('counsel', 10), ('hearts', 10), ('born', 10), ('talk', 10), ('sit', 10), ('e', 10), ('weak', 10), ('yonder', 10), ('remedy', 10), ('need', 10), ('body', 10), ('uncle', 10), ('four', 9), ('verses', 9), ('rose', 9), ('virgin', 9), ('single', 9), ('certain', 9), ('earth', 9), ('fancy', 9), ('women', 9), ('move', 9), ('adieu', 9), ('boys', 9), ('work', 9), ('titania', 9), ('sat', 9), ('mark', 9), ('flower', 9), ('sleeping', 9), ('mercy', 9), ('fond', 9), ('ground', 9), ('tomb', 9), ('en', 9), ('touch', 9), ('weep', 9), ('praise', 9), ('hurt', 9), ('match', 9), ('peace', 9), ('ears', 9), ('remembrance', 9), ('lords', 9), ('heavy', 9), ('command', 9), ('twas', 9), ('soldier', 9), ('just', 9), ('florence', 9), ('letter', 9), ('desires', 9), ('won', 9), ('theseus', 9), ('gracious', 9), ('diana', 9), ('promise', 9), ('skill', 9), ('often', 9), ('masters', 9), ('knight', 9), ('roar', 9), ('rich', 9), ('breath', 9), ('dog', 9), ('valour', 9), ('black', 9), ('troth', 9), ('force', 9), ('tedious', 9), ('report', 9), ('bitter', 9), ('fools', 9), ('foul', 9), ('gods', 9), ('morning', 9), ('times', 9), ('sin', 9), ('quoth', 9), ('sirrah', 9), ('herself', 9), ('thyself', 9), ('orlando', 9), ('quickly', 8), ('law', 8), ('stood', 8), ('prayers', 8), ('beauty', 8), ('midnight', 8), ('ready', 8), ('proceed', 8), ('hide', 8), ('robin', 8), ('proper', 8), ('needs', 8), ('draw', 8), ('pains', 8), ('loved', 8), ('lips', 8), ('mortal', 8), ('longer', 8), ('creature', 8), ('holds', 8), ('approach', 8), ('silence', 8), ('hers', 8), ('moonshine', 8), ('speech', 8), ('dearest', 8), ('state', 8), ('finger', 8), ('calls', 8), ('brave', 8), ('hours', 8), ('excellent', 8), ('gentlemen', 8), ('gift', 8), ('simple', 8), ('weary', 8), ('gallant', 8), ('gentlewoman', 8), ('got', 8), ('mars', 8), ('marriage', 8), ('honourable', 8), ('suit', 8), ('dearly', 8), ('danger', 8), ('letters', 8), ('wrestling', 8), ('phebe', 8), ('consent', 8), ('n', 8), ('case', 8), ('modesty', 8), ('choose', 8), ('false', 8), ('favour', 8), ('catch', 8), ('gives', 8), ('peter', 8), ('quince', 8), ('french', 8), ('oberon', 8), ('fell', 8), ('shame', 8), ('credit', 8), ('winter', 8), ('side', 8), ('chide', 8), ('wound', 8), ('desert', 8), ('half', 8), ('methought', 8), ('perceive', 8), ('soon', 8), ('fashion', 8), ('foot', 8), ('coward', 8), ('ways', 8), ('besides', 8), ('purpose', 8), ('natural', 8), ('unless', 8), ('grief', 8), ('younger', 8), ('mere', 8), ('flesh', 8), ('devil', 8), ('bound', 8), ('displeasure', 8), ('reputation', 8), ('stir', 7), ('awake', 7), ('presence', 7), ('yield', 7), ('sister', 7), ('blessed', 7), ('years', 7), ('quick', 7), ('bright', 7), ('measure', 7), ('lovely', 7), ('cut', 7), ('round', 7), ('spare', 7), ('wak', 7), ('ripe', 7), ('prologue', 7), ('enter', 7), ('awhile', 7), ('attend', 7), ('sun', 7), ('mock', 7), ('dark', 7), ('sad', 7), ('damned', 7), ('everything', 7), ('able', 7), ('bloody', 7), ('jove', 7), ('ends', 7), ('loving', 7), ('free', 7), ('shallow', 7), ('cure', 7), ('deed', 7), ('alas', 7), ('adam', 7), ('wrestler', 7), ('bow', 7), ('stol', 7), ('yea', 7), ('judgment', 7), ('bold', 7), ('arm', 7), ('course', 7), ('stands', 7), ('taste', 7), ('hail', 7), ('foolish', 7), ('discretion', 7), ('city', 7), ('fail', 7), ('bush', 7), ('dance', 7), ('laid', 7), ('deny', 7), ('owe', 7), ('lanthorn', 7), ('whisper', 7), ('remain', 7), ('thisbe', 7), ('weigh', 7), ('idle', 7), ('behind', 7), ('glad', 7), ('wast', 7), ('five', 7), ('horns', 7), ('heigh-ho', 7), ('presently', 7), ('royal', 7), ('writ', 7), ('wisdom', 7), ('receive', 7), ('lend', 7), ('whether', 7), ('office', 7), ('taught', 7), ('taken', 7), ('rowland', 7), ('motley', 7), ('wed', 6), ('bosom', 6), ('moonlight', 6), ('grows', 6), ('dies', 6), ('title', 6), ('wishes', 6), ('appear', 6), ('grant', 6), ('thinks', 6), ('wings', 6), ('flight', 6), ('thither', 6), ('assure', 6), ('twere', 6), ('summer', 6), ('perfect', 6), ('quite', 6), ('labour', 6), ('falls', 6), ('laugh', 6), ('herb', 6), ('asleep', 6), ('story', 6), ('questions', 6), ('offence', 6), ('pride', 6), ('throw', 6), ('peril', 6), ('deserve', 6), ('serpent', 6), ('hearing', 6), ('spoken', 6), ('worship', 6), ('pay', 6), ('offend', 6), ('lest', 6), ('counterfeit', 6), ('ye', 6), ('strength', 6), ('shake', 6), ('suffer', 6), ('delay', 6), ('villain', 6), ('dian', 6), ('dispatch', 6), ('saint', 6), ('possible', 6), ('imagination', 6), ('finds', 6), ('bravely', 6), ('carry', 6), ('warrant', 6), ('nose', 6), ('scar', 6), ('kept', 6), ('native', 6), ('corrupt', 6), ('strive', 6), ('hose', 6), ('sworn', 6), ('lawful', 6), ('cargo', 6), ('hippolyta', 6), ('mirth', 6), ('lives', 6), ('cheer', 6), ('want', 6), ('sharp', 6), ('broke', 6), ('air', 6), ('dote', 6), ('shine', 6), ('monstrous', 6), ('undertake', 6), ('crowns', 6), ('tall', 6), ('fairies', 6), ('land', 6), ('knowing', 6), ('fresh', 6), ('rude', 6), ('hundred', 6), ('sees', 6), ('having', 6), ('strike', 6), ('unworthy', 6), ('sick', 6), ('wide', 6), ('servant', 6), ('double', 6), ('takes', 6), ('courtesy', 6), ('becomes', 6), ('hated', 6), ('among', 6), ('cobweb', 6), ('mad', 6), ('argument', 6), ('ho', 6), ('people', 6), ('health', 6), ('worn', 6), ('forward', 6), ('rough', 6), ('fox', 6), ('whilst', 6), ('second', 6), ('virtues', 6), ('bertram', 6), ('clock', 6), ('reasons', 6), ('learned', 6), ('banish', 6), ('hadst', 6), ('pilgrim', 6), ('instance', 6), ('coz', 6), ('oliver', 6), ('nuptial', 5), ('behold', 5), ('companion', 5), ('egeus', 5), ('privilege', 5), ('endure', 5), ('betwixt', 5), ('render', 5), ('yourselves', 5), ('cross', 5), ('sickness', 5), ('making', 5), ('pursue', 5), ('dwell', 5), ('morrow', 5), ('painted', 5), ('mar', 5), ('thorough', 5), ('wild', 5), ('perforce', 5), ('flowers', 5), ('puck', 5), ('jest', 5), ('stretch', 5), ('fill', 5), ('beat', 5), ('chase', 5), ('delight', 5), ('wake', 5), ('forgot', 5), ('meaning', 5), ('until', 5), ('keen', 5), ('brings', 5), ('pluck', 5), ('casement', 5), ('chink', 5), ('heartily', 5), ('commend', 5), ('dull', 5), ('sky', 5), ('hounds', 5), ('goddess', 5), ('join', 5), ('feel', 5), ('medicine', 5), ('although', 5), ('scratch', 5), ('disgrace', 5), ('poet', 5), ('tricks', 5), ('intents', 5), ('goose', 5), ('mend', 5), ('bequeathed', 5), ('gifts', 5), ('traitors', 5), ('tax', 5), ('particular', 5), ('valiant', 5), ('year', 5), ('paris', 5), ('act', 5), ('search', 5), ('absent', 5), ('success', 5), ('attempt', 5), ('language', 5), ('bought', 5), ('lafeu', 5), ('guess', 5), ('twenty', 5), ('wiser', 5), ('blush', 5), ('em', 5), ('scarce', 5), ('instant', 5), ('recovered', 5), ('le', 5), ('keeps', 5), ('deceived', 5), ('witness', 5), ('hereafter', 5), ('prince', 5), ('banished', 5), ('wouldst', 5), ('sans', 5), ('wonderful', 5), ('feigning', 5), ('bond', 5), ('estate', 5), ('spite', 5), ('hell', 5), ('town', 5), ('graces', 5), ('wont', 5), ('thence', 5), ('qualities', 5), ('intelligence', 5), ('tyrant', 5), ('written', 5), ('rehearse', 5), ('grove', 5), ('smile', 5), ('whole', 5), ('wanton', 5), ('forsooth', 5), ('brook', 5), ('vain', 5), ('sweat', 5), ('flock', 5), ('nine', 5), ('stars', 5), ('fiery', 5), ('temple', 5), ('wicked', 5), ('repent', 5), ('spent', 5), ('gentleness', 5), ('stomach', 5), ('six', 5), ('fearful', 5), ('chamber', 5), ('pease-blossom', 5), ('acquaintance', 5), ('mustard-seed', 5), ('messenger', 5), ('sort', 5), ('fears', 5), ('apparel', 5), ('guilty', 5), ('pure', 5), ('friendship', 5), ('seeming', 5), ('parted', 5), ('doubt', 5), ('esteem', 5), ('behalf', 5), ('legs', 5), ('straight', 5), ('jewel', 5), ('offer', 5), ('naught', 5), ('plain', 5), ('trusty', 5), ('carries', 5), ('less', 5), ('issue', 5), ('going', 5), ('de', 5), ('undone', 5), ('blow', 5), ('hangs', 5), ('liking', 5), ('sovereign', 5), ('humble', 5), ('florentine', 5), ('aid', 5), ('contempt', 5), ('disdain', 5), ('acquaint', 5), ('faults', 5), ('express', 5), ('fits', 5), ('patient', 5), ('whence', 5), ('whipped', 5), ('broken', 5), ('justice', 5), ('travel', 5), ('rt', 5), ('wert', 5), ('twill', 5), ('disposition', 5), ('inform', 5), ('camp', 5), ('mightily', 5), ('paper', 5), ('trees', 5), ('apace', 4), ('pomp', 4), ('due', 4), ('figure', 4), ('r', 4), ('thrice', 4), ('protest', 4), ('private', 4), ('employ', 4), ('short', 4), ('seven', 4), ('observance', 4), ('souls', 4), ('motion', 4), ('minds', 4), ('glass', 4), ('bosoms', 4), ('forswear', 4), ('humour', 4), ('vein', 4), ('fright', 4), ('dove', 4), ('yellow', 4), ('wander', 4), ('brier', 4), ('swifter', 4), ('sphere', 4), ('dew', 4), ('mistake', 4), ('shape', 4), ('shrewd', 4), ('sometimes', 4), ('beguile', 4), ('pour', 4), ('cries', 4), ('sea', 4), ('field', 4), ('anger', 4), ('increase', 4), ('following', 4), ('injury', 4), ('chaste', 4), ('beams', 4), ('invisible', 4), ('commit', 4), ('fie', 4), ('garments', 4), ('effect', 4), ('durst', 4), ('wheresoe', 4), ('flout', 4), ('alack', 4), ('action', 4), ('killed', 4), ('eight', 4), ('consider', 4), ('shield', 4), ('neck', 4), ('toward', 4), ('hark', 4), ('truest', 4), ('dares', 4), ('bird', 4), ('rate', 4), ('scene', 4), ('answered', 4), ('sweep', 4), ('murder', 4), ('briers', 4), (',that', 4), ('band', 4), ('aside', 4), ('swore', 4), ('turns', 4), ('princess', 4), ('enterprise', 4), ('parting', 4), ('precious', 4), ('speaks', 4), ('excuse', 4), ('thief', 4), ('cheeks', 4), ('perform', 4), ('discord', 4), ('bred', 4), ('holla', 4), ('intent', 4), ('discourse', 4), ('sixpence', 4), ('therein', 4), ('stop', 4), ('hole', 4), ('stones', 4), ('lately', 4), ('promises', 4), ('goodness', 4), ('above', 4), ('ambition', 4), ('evils', 4), ('loss', 4), ('cap', 4), ('disaster', 4), ('diest', 4), ('space', 4), ('equal', 4), ('paid', 4), ('ransom', 4), ('invention', 4), ('howe', 4), ('encounter', 4), ('haply', 4), ('blame', 4), ('humbly', 4), ('horses', 4), ('ended', 4), ('promised', 4), ('heir', 4), ('grave', 4), ('wealth', 4), ('money', 4), ('nut', 4), ('fain', 4), ('deal', 4), ('suddenly', 4), ('acquainted', 4), ('altogether', 4), ('stocks', 4), ('velvet', 4), ('smell', 4), ('warp', 4), ('arden', 4), ('ta', 4), ('wisely', 4), ('cast', 4), ('verse', 4), ('ducdame', 4), ('slow', 4), ('doing', 4), ('held', 4), ('faint', 4), ('rank', 4), ('dotes', 4), ('fast', 4), ('tale', 4), ('swift', 4), ('teach', 4), ('burn', 4), ('lark', 4), ('buds', 4), ('affection', 4), ('stranger', 4), ('luck', 4), ('deep', 4), ('base', 4), ('eyne', 4), ('generally', 4), ('actors', 4), ('cruel', 4), ('wandering', 4), ('small', 4), ('tailor', 4), ('request', 4), ('elves', 4), ('revels', 4), ('heed', 4), ('sprite', 4), ('drink', 4), ('tarry', 4), ('revenge', 4), ('blest', 4), ('gait', 4), ('perchance', 4), ('aim', 4), ('waking', 4), ('charm', 4), ('flies', 4), ('sex', 4), ('crow', 4), ('lullaby', 4), ('lulla', 4), ('forbid', 4), ('monster', 4), ('shows', 4), ('sooth', 4), ('manner', 4), ('mayst', 4), ('breast', 4), ('device', 4), ('thorns', 4), ('cue', 4), ('red', 4), ('afraid', 4), ('view', 4), ('hop', 4), ('wait', 4), ('advantage', 4), ('fellows', 4), ('devise', 4), ('henceforth', 4), ('cost', 4), ('derision', 4), ('white', 4), ('snow', 4), ('exploit', 4), ('pays', 4), ('recompense', 4), ('brought', 4), ('greater', 4), ('went', 4), ('dar', 4), ('rail', 4), ('property', 4), ('exile', 4), ('forester', 4), ('fled', 4), ('fallen', 4), ('top', 4), ('arms', 4), ('terms', 4), ('hercules', 4), ('observe', 4), ('enemies', 4), ('called', 4), ('simply', 4), ('deserved', 4), ('easy', 4), ('ease', 4), ('laughter', 4), ('places', 4), ('merit', 4), ('saucy', 4), ('beginning', 4), ('beast', 4), ('stain', 4), ('fathers', 4), ('dust', 4), ('children', 4), ('safety', 4), ('star', 4), ('buried', 4), ('desperate', 4), ('goodly', 4), ('wears', 4), ('shut', 4), ('leisure', 4), ('lacks', 4), ('blessing', 4), ('deer', 4), ('sentence', 4), ('bad', 4), ('token', 4), ('reading', 4), ('gain', 4), ('owes', 4), ('reports', 4), ('traitor', 4), ('physic', 4), ('breeding', 4), ('leg', 4), ('learn', 4), ('thankful', 4), ('shouldst', 4), ('stream', 4), ('thrive', 4), ('slave', 4), ('solemn', 4), ('dissuade', 4), ('burden', 4), ('kindly', 4), ('heels', 4), ('entertainment', 4), ('main', 4), ('betray', 4), ('county', 4), ('interpreter', 4), ('breaking', 4), ('merely', 4), ('condition', 4), ('dumain', 4), ('remains', 4), ('thrown', 4), ('wretched', 4), ('youngest', 4), ('wrestle', 4), ('weeping', 4), ('pasture', 4), ('church', 4), ('fruit', 4), ('lean', 4), ('holly', 4), ('audrey', 4), ('silvius', 4), ('step', 3), ('revenue', 3), ('trifles', 3), ('ancient', 3), ('plead', 3), ('worst', 3), ('befall', 3), ('whe', 3), ('nun', 3), ('aye', 3), ('pilgrimage', 3), ('thorn', 3), ('scornful', 3), ('rain', 3), ('smooth', 3), ('trial', 3), ('league', 3), ('translated', 3), ('gates', 3), ('holding', 3), ('felt', 3), ('pain', 3), ('comedy', 3), ('players', 3), ('flute', 3), ('tom', 3), ('snout', 3), ('snug', 3), ('wits', 3), ('gently', 3), ('palace', 3), ('wants', 3), ('changeling', 3), ('jealous', 3), ('clear', 3), ('creep', 3), ('milk', 3), ('housewife', 3), ('fat', 3), ('room', 3), ('forsworn', 3), ('corin', 3), ('amorous', 3), ('wedded', 3), ('glimmering', 3), ('ox', 3), ('tread', 3), ('human', 3), ('mortals', 3), ('odorous', 3), ('evil', 3), ('madly', 3), ('minutes', 3), ('spurn', 3), ('beasts', 3), ('hind', 3), ('fight', 3), ('whereon', 3), ('hateful', 3), ('salt', 3), ('marvel', 3), ('compare', 3), ('convenient', 3), ('plot', 3), ('sayst', 3), ('ought', 3), ('dreadful', 3), ('calendar', 3), ('open', 3), ('rough-cast', 3), ('brake', 3), ('actor', 3), ('hue', 3), ('eke', 3), ('ninny', 3), ('cuckoo', 3), ('courteous', 3), ('water', 3), ('bower', 3), ('chastity', 3), ('close', 3), ('creeping', 3), ('senseless', 3), ('led', 3), ('slain', 3), ('bounds', 3), ('adder', 3), ('tartar', 3), ('fee', 3), ('appears', 3), ('rivals', 3), ('manly', 3), ('sitting', 3), ('cherry', 3), ('friendly', 3), ('rare', 3), ('hung', 3), ('fortunate', 3), ('carried', 3), ('loose', 3), ('poison', 3), ('erewhile', 3), ('earnest', 3), ('answers', 3), ('nails', 3), ('lower', 3), ('evermore', 3), ('school', 3), ('shadows', 3), ('frame', 3), ('brows', 3), ('gate', 3), ('length', 3), ('comforts', 3), ('large', 3), ('honey-bag', 3), ('bones', 3), ('hay', 3), ('shade', 3), ('musical', 3), ('pursuit', 3), ('solemnity', 3), ('concord', 3), ('feast', 3), ('latter', 3), ('hanged', 3), ('beards', 3), ('plays', 3), ('brow', 3), ('unknown', 3), ('mighty', 3), ('kinsman', 3), ('ceremony', 3), ('ice', 3), ('shed', 3), ('despite', 3), ('points', 3), ('played', 3), ('secretly', 3), ('stone', 3), ('aweary', 3), ('fairest', 3), ('balance', 3), ('epilogue', 3), ('profession', 3), ('narbon', 3), ('unclean', 3), ('advise', 3), ('plague', 3), ('capable', 3), ('virgins', 3), ('humility', 3), ('especially', 3), ('backward', 3), ('businesses', 3), ('uses', 3), ('reported', 3), ('freely', 3), ('obey', 3), ('always', 3), ('beggar', 3), ('wickedness', 3), ('kisses', 3), ('sings', 3), ('twould', 3), ('oppress', 3), ('daughter-in-law', 3), ('mystery', 3), ('religious', 3), ('soldiers', 3), ('italy', 3), ('store', 3), ('gainst', 3), ('minister', 3), ('happiness', 3), ('infinite', 3), ('deserv', 3), ('lent', 3), ('lip', 3), ('merrily', 3), ('modern', 3), ('youthful', 3), ('blushes', 3), ('wine', 3), ('distinction', 3), ('derive', 3), ('oblivion', 3), ('produce', 3), ('claims', 3), ('understood', 3), ('scarf', 3), ('beaten', 3), ('scurvy', 3), ('hush', 3), ('strangers', 3), ('teeth', 3), ('getting', 3), ('win', 3), ('provide', 3), ('officer', 3), ('nobly', 3), ('become', 3), ('pleas', 3), ('eldest', 3), ('malice', 3), ('removed', 3), ('caught', 3), ('purse', 3), ('boskos', 3), ('seventeen', 3), ('begins', 3), ('ancestors', 3), ('deeds', 3), ('stronger', 3), ('rogues', 3), ('rotten', 3), ('innocent', 3), ('rime', 3), ('price', 3), ('safest', 3), ('surety', 3), ('unhappy', 3), ('metaphor', 3), ('distress', 3), ('threw', 3), ('testament', 3), ('growth', 3), ('celia', 3), ('challenger', 3), ('suits', 3), ('tongues', 3), ('bears', 3), ('doublet', 3), ('touchstone', 3), ('forbear', 3), ('drops', 3), ('sheep', 3), ('ewes', 3), ('complexion', 3), ('cured', 3), ('poetry', 3), ('draws', 3), ('key', 3), ('vexation', 3), ('window', 3), ('cunning', 3), ('according', 3), ('compos', 3), ('worthier', 3), ('aught', 3), ('darkness', 3), ('sighs', 3), ('golden', 3), ('venus', 3), ('melody', 3), ('sway', 3), ('visage', 3), ('wing', 3), ('herein', 3), ('tear', 3), ('prison', 3), ('fates', 3), ('ah', 3), ('starveling', 3), ('joiner', 3), ('discharge', 3), ('bill', 3), ('coats', 3), ('favours', 3), ('savours', 3), ('indian', 3), ('suck', 3), ('empty', 3), ('floods', 3), ('crown', 3), ('conceive', 3), ('civil', 3), ('shot', 3), ('western', 3), ('purple', 3), ('juice', 3), ('conference', 3), ('nymph', 3), ('sleeps', 3), ('disdainful', 3), ('minute', 3), ('nigh', 3), ('true-love', 3), ('knit', 3), ('lying', 3), ('amen', 3), ('press', 3), ('wash', 3), ('season', 3), ('leads', 3), ('abus', 3), ('surfeit', 3), ('sweetest', 3), ('address', 3), ('pat', 3), ('marvellous', 3), ('afeard', 3), ('odious', 3), ('noise', 3), ('tire', 3), ('knavery', 3), ('flowery', 3), ('grapes', 3), ('crop', 3), ('weeps', 3), ('spy', 3), ('moment', 3), ('stern', 3), ('spend', 3), ('fierce', 3), ('slight', 3), ('fray', 3), ('divine', 3), ('kissing', 3), ('waste', 3), ('persever', 3), ('compel', 3), ('height', 3), ('curst', 3), ('hie', 3), ('cover', 3), ('error', 3), ('clouds', 3), ('troop', 3), ('whip', 3), ('pace', 3), ('shown', 3), ('loath', 3), ('hairy', 3), ('seeking', 3), ('loathe', 3), ('chiding', 3), ('heads', 3), ('bells', 3), ('horn', 3), ('judge', 3), ('soft', 3), ('early', 3), (',and', 3), ('ballad', 3), ('clean', 3), ('antique', 3), ('brains', 3), ('pen', 3), ('tragical', 3), ('loud', 3), ('pick', 3), ('least', 3), ('moral', 3), ('lime', 3), ('sunder', 3), ('mantle', 3), ('blade', 3), ('died', 3), ('discharged', 3), ('strife', 3), ('candle', 3), ('dole', 3), ('dumb', 3), ('bury', 3), ('door', 3), ('offended', 3), ('liar', 3), ('gerard', 3), ('education', 3), ('fairer', 3), ('commendations', 3), ('furnish', 3), ('defence', 3), ('sanctified', 3), ('principal', 3), ('withered', 3), ('advice', 3), ('certainty', 3), ('soldiership', 3), ('wore', 3), ('to-day', 3), ('judgments', 3), ('physician', 3), ('isbel', 3), ('sooner', 3), ('big', 3), ('difference', 3), ('th', 3), ('experience', 3), ('bestow', 3), ('sons', 3), ('bidding', 3), ('seldom', 3), ('profess', 3), ('courage', 3), ('whipping', 3), ('heavenly', 3), ('fore', 3), ('english', 3), ('dower', 3), ('careless', 3), ('birth', 3), ('priest', 3), ('drown', 3), ('probable', 3), ('dial', 3), ('spurs', 3), ('clothes', 3), ('writes', 3), ('sorry', 3), ('affairs', 3), ('limbs', 3), ('whoever', 3), ('effected', 3), ('constraint', 3), ('misery', 3), ('frenchman', 3), ('deliver', 3), ('stratagem', 3), ('pox', 3), ('ones', 3), ('faithfully', 3), ('cozen', 3), ('keeping', 3), ('fifty', 3), ('swears', 3), ('army', 3), ('forehead', 3), ('foolery', 3), ('whate', 3), ('villanous', 3), ('bare', 3), ('forget', 3), ('stays', 3), ('lands', 3), ('envious', 3), ('pancakes', 3), ('mustard', 3), ('beau', 3), ('wrestled', 3), ('lame', 3), ('coat', 3), ('giving', 3), ('lusty', 3), ('lin', 3), ('barks', 3), ('sawest', 3), ('feet', 3), ('ambles', 3), ('shepherdess', 3), ('poetical', 3), ('dowager', 2), ('withering', 2), ('nights', 2), ('silver', 2), ('nimble', 2), ('rimes', 2), ('impression', 2), ('rings', 2), ('messengers', 2), ('form', 2), ('wax', 2), ('wanting', 2), ('concern', 2), ('society', 2), ('cloister', 2), ('barren', 2), ('fruitless', 2), ('disobedience', 2), ('altar', 2), ('beauteous', 2), ('spotted', 2), ('inconstant', 2), ('concerns', 2), ('chance', 2), ('roses', 2), ('engag', 2), ('siege', 2), ('shadow', 2), ('confusion', 2), ('arrow', 2), ('tuneable', 2), ('frown', 2), ('smiles', 2), ('follows', 2), ('unfold', 2), ('pearl', 2), ('grass', 2), ('enrich', 2), ('scrip', 2), ('scroll', 2), ('interlude', 2), ('names', 2), ('weaver', 2), ('kills', 2), ('chief', 2), ('ercles', 2), ('bellows-mender', 2), ('tinker', 2), ('fitted', 2), ('gentleman-like', 2), ('orange-tawny', 2), ('con', 2), ('oak', 2), ('dale', 2), ('spots', 2), ('fountain', 2), ('square', 2), ('maidens', 2), ('bob', 2), ('waxen', 2), ('wasted', 2), ('pipes', 2), ('prosperity', 2), ('jealousy', 2), ('falling', 2), ('ploughman', 2), ('quaint', 2), ('undistinguishable', 2), ('icy', 2), ('wonted', 2), ('amend', 2), ('neptune', 2), ('voyage', 2), ('shun', 2), ('haunts', 2), ('downright', 2), ('dolphin', 2), ('spheres', 2), ('couldst', 2), ('watch', 2), ('liquor', 2), ('page', 2), ('slay', 2), ('fawn', 2), ('neglect', 2), ('hatred', 2), ('wildest', 2), ('wrongs', 2), ('bank', 2), ('blows', 2), ('woodbine', 2), ('skin', 2), ('weed', 2), ('fantasies', 2), ('cock', 2), ('third', 2), ('nightly', 2), ('wonders', 2), ('thorny', 2), ('snail', 2), ('&c', 2), ('languish', 2), ('turf', 2), ('innocence', 2), ('beshrew', 2), ('bachelor', 2), ('loyalty', 2), ('despised', 2), ('haunt', 2), ('richest', 2), ('refus', 2), ('prey', 2), ('stage', 2), ('bully', 2), ('abide', 2), ('parlous', 2), ('saying', 2), ('chamber-window', 2), ('person', 2), ('fingers', 2), ('cranny', 2), ('perhaps', 2), ('haunted', 2), ('changed', 2), ('walk', 2), ('sparrow', 2), ('neighbours', 2), ('jewels', 2), ('walks', 2), ('arise', 2), ('courtesies', 2), ('bread', 2), ('snatch', 2), ('sleeves', 2), ('hats', 2), ('distracted', 2), ('straightway', 2), ('love-juice', 2), ('shoes', 2), ('plunge', 2), ('knee', 2), ('murderer', 2), ('cur', 2), ('bankrupt', 2), ('ensue', 2), ('pageant', 2), ('nativity', 2), ('eastern', 2), ('seal', 2), ('unkind', 2), ('chid', 2), ('childhood', 2), ('created', 2), ('warbling', 2), ('partition', 2), ('wink', 2), ('partly', 2), ('tame', 2), (',o', 2), ('urg', 2), ('personage', 2), ('quiet', 2), ('acorn', 2), ('wilfully', 2), ('crush', 2), ('vision', 2), ('shines', 2), ('groves', 2), ('defil', 2), ('wot', 2), ('daylight', 2), ('east', 2), ('heavens', 2), ('humble-bee', 2), ('dried', 2), ('meeting', 2), ('peep', 2), ('faithful', 2), ('trip', 2), ('observation', 2), ('thereby', 2), ('melted', 2), ('couples', 2), ('mountains', 2), ('recount', 2), ('stolen', 2), ('courageous', 2), ('utter', 2), ('madmen', 2), ('apprehend', 2), ('compact', 2), ('frantic', 2), ('egypt', 2), ('admirable', 2), ('sports', 2), ('rage', 2), ('learning', 2), ('hot', 2), ('simpleness', 2), ('accent', 2), ('chain', 2), ('gentles', 2), ('curs', 2), ('deceiving', 2), ('procrus', 2), ('tide', 2), ('mouse', 2), ('thorn-bush', 2), ('shining', 2), ('furies', 2), ('lik', 2), ('ace', 2), ('spied', 2), ('silk', 2), ('paths', 2), ('team', 2), ('several', 2), ('owner', 2), ('slumber', 2), ('amends', 2), ('ward', 2), ('necessity', 2), ('physicians', 2), ('practices', 2), ('lived', 2), ('notorious', 2), ('approaches', 2), ('share', 2), ('check', 2), ('comfortable', 2), ('line', 2), ('sanctify', 2), ('fix', 2), ('politic', 2), ('metal', 2), ('feeding', 2), ('likes', 2), ('pear', 2), ('poorer', 2), ('baser', 2), ('mounts', 2), ('suppose', 2), ('florentines', 2), ('approv', 2), ('frank', 2), ('inherit', 2), ('below', 2), ('creatures', 2), ('plausive', 2), ('flame', 2), ('honey', 2), ('fam', 2), ('months', 2), ('dearer', 2), ('ladyship', 2), ('drives', 2), ('touched', 2), ('start', 2), ('groan', 2), ('wet', 2), ('vassal', 2), ('gross', 2), ('suspected', 2), ('whereof', 2), ('hurts', 2), ('legacy', 2), ('attendants', 2), ('frenchmen', 2), ('higher', 2), ('beware', 2), ('commanded', 2), ('regiment', 2), ('tidings', 2), ('kneel', 2), ('seriously', 2), ('deliverance', 2), ('praises', 2), ('towards', 2), ('bade', 2), ('self', 2), ('enforce', 2), ('modest', 2), ('babes', 2), ('reap', 2), ('reward', 2), ('impossibility', 2), ('saves', 2), ('helping', 2), ('serv', 2), ('fed', 2), ('easily', 2), ('rush', 2), ('size', 2), ('thick', 2), ('commendation', 2), ('showing', 2), ('acknowledge', 2), ('tooth', 2), ('attends', 2), ('bestowing', 2), ('forsake', 2), ('restor', 2), ('shuns', 2), ('mute', 2), ('dislik', 2), ('acts', 2), ('debosh', 2), ('damn', 2), ('praised', 2), ('contract', 2), ('recantation', 2), ('style', 2), ('contrary', 2), ('bondage', 2), ('authority', 2), ('convenience', 2), ('kernel', 2), ('traveller', 2), ('cares', 2), ('fields', 2), ('compell', 2), ('leaped', 2), ('foes', 2), ('quarrel', 2), ('ling', 2), ('isbels', 2), ('knocked', 2), ('distance', 2), ('unfortunate', 2), ('deserves', 2), ('hourly', 2), ('loses', 2), ('stings', 2), ('diverted', 2), ('prevented', 2), ('suffice', 2), ('earl', 2), ('tokens', 2), ('lust', 2), ('terrible', 2), ('succession', 2), ('grand', 2), ('ample', 2), ('surely', 2), ('yond', 2), ('bubble', 2), ('quality', 2), ('bind', 2), ('forfeit', 2), ('sticks', 2), ('subscribe', 2), ('fish', 2), ('week', 2), ('embossed', 2), ('wondrous', 2), ('borrow', 2), ('instruct', 2), ('sorts', 2), ('thirty', 2), ('secrets', 2), ('muffled', 2), ('safely', 2), ('conditions', 2), ('opinion', 2), ('longing', 2), ('obloquy', 2), ('rebellion', 2), ('overture', 2), ('verity', 2), ('mingled', 2), ('convoy', 2), ('fearing', 2), ('usurping', 2), ('confessed', 2), ('knot', 2), ('wearing', 2), ('revolt', 2), ('sadness', 2), ('lascivious', 2), ('scores', 2), ('offences', 2), ('remainder', 2), ('cardecu', 2), ('retreat', 2), ('lackey', 2), ('impudent', 2), ('nation', 2), ('braggart', 2), ('groans', 2), ('looked', 2), ('exceeding', 2), ('muddied', 2), ('allow', 2), ('survey', 2), ('reference', 2), ('strikes', 2), ('widower', 2), ('relieve', 2), ('pleases', 2), ('wrapp', 2), ('mak', 2), ('deadly', 2), ('wives', 2), ('sickens', 2), ('bail', 2), ('quit', 2), ('feels', 2), ('sayest', 2), ('profit', 2), ('penury', 2), ('first-born', 2), ('albeit', 2), ('nearer', 2), ('throat', 2), ('beloved', 2), ('foil', 2), ('treacherous', 2), ('benefits', 2), ('ill-favouredly', 2), ('lineaments', 2), ('whetstone', 2), ('swearing', 2), ('frederick', 2), ('foolishly', 2), ('presents', 2), ('ribs', 2), ('entreated', 2), ('princes', 2), ('overthrown', 2), ('weaker', 2), ('niece', 2), ('hem', 2), ('public', 2), ('coupled', 2), ('aliena', 2), ('books', 2), ('sum', 2), ('flux', 2), ('greasy', 2), ('wherever', 2), ('fourscore', 2), ('ware', 2), ('graze', 2), ('cote', 2), ('weather', 2), ('savage', 2), ('inland', 2), ('touches', 2), ('boughs', 2), ('knoll', 2), ('sighing', 2), ('jolly', 2), ('freeze', 2), ('twelvemonth', 2), ('complain', 2), ('tar', 2), ('cattle', 2), ('graff', 2), ('chin', 2), ('divers', 2), ('trots', 2), ('term', 2), ('fantastical', 2), ('goats', 2), ('feign', 2), ('covered', 2), ('judas', 2), ('breaks', 2), ('murderers', 2), ('dame', 2), ('philostrate', 2), ('complaint', 2), ('sung', 2), ('fantasy', 2), ('stubborn', 2), ('immediately', 2), ('provided', 2), ('disfigure', 2), ('livery', 2), ('distill', 2), ('patent', 2), ('yoke', 2), ('consents', 2), ('sovereignty', 2), ('everlasting', 2), ('nedar', 2), ('yields', 2), ('belike', 2), ('history', 2), ('destiny', 2), ('dreams', 2), ('aunt', 2), ('respects', 2), ('morn', 2), ('simplicity', 2), ('sail', 2), ('number', 2), ('appointed', 2), ('bated', 2), ('paradise', 2), ('ph', 2), ('wat', 2), ('ry', 2), ('devis', 2), ('dignity', 2), ('blind', 2), ('beguil', 2), ('game', 2), ('heat', 2), ('duchess', 2), ('piece', 2), ('nick', 2), ('audience', 2), ('francis', 2), ('thisne', 2), ('study', 2), ('meantime', 2), ('hill', 2), ('flood', 2), ('cowslip', 2), ('wrath', 2), ('starlight', 2), ('knavish', 2), ('bootless', 2), ('wanderer', 2), ('likeness', 2), ('gossip', 2), ('telling', 2), ('slip', 2), ('merrier', 2), ('rash', 2), ('playing', 2), ('corn', 2), ('glance', 2), ('spring', 2), ('brawls', 2), ('disturb', 2), ('attain', 2), ('drowned', 2), ('morris', 2), ('seasons', 2), ('alter', 2), ('mockery', 2), ('angry', 2), ('debate', 2), ('parents', 2), ('votaress', 2), ('order', 2), ('intend', 2), ('patiently', 2), ('dulcet', 2), ('grew', 2), ('quench', 2), ('imperial', 2), ('eyelids', 2), ('drop', 2), ('wolf', 2), ('busy', 2), ('iron', 2), ('spaniel', 2), ('pursues', 2), ('mild', 2), ('cowardice', 2), ('mischief', 2), ('musk-roses', 2), ('dances', 2), ('leathern', 2), ('philomel', 2), ('worm', 2), ('seest', 2), ('pard', 2), ('pillow', 2), ('prayer', 2), ('ugly', 2), ('dissembling', 2), ('deceive', 2), ('powers', 2), ('quake', 2), ('remov', 2), ('swound', 2), ('whit', 2), ('tremble', 2), ('loam', 2), ('ninus', 2), ('hound', 2), ('hog', 2), ('angel', 2), ('enamour', 2), ('tend', 2), ('airy', 2), ('fan', 2), ('nod', 2), ('peascod', 2), ('kindred', 2), ('tie', 2), ('awak', 2), ('curse', 2), ('mood', 2), ('mistaken', 2), ('misprision', 2), ('hit', 2), ('sink', 2), ('mistook', 2), ('bliss', 2), ('bent', 2), ('aby', 2), ('function', 2), ('sides', 2), ('bodies', 2), ('heraldry', 2), ('hates', 2), ('setting', 2), ('miserable', 2), ('absence', 2), ('grown', 2), ('truer', 2), ('puppet', 2), ('reach', 2), ('stealth', 2), ('threaten', 2), ('coil', 2), ('amaz', 2), ('knaveries', 2), ('leaden', 2), ('eyeballs', 2), ('date', 2), ('whiles', 2), ('release', 2), ('drawn', 2), ('faster', 2), ('woe', 2), ('apply', 2), ('nought', 2), ('signior', 2), ('barber', 2), ('reasonable', 2), ('dry', 2), ('bottle', 2), ('swell', 2), ('undo', 2), ('swain', 2), ('visions', 2), ('rock', 2), ('amity', 2), ('jollity', 2), ('crete', 2), ('bay', 2), ('sparta', 2), ('rite', 2), ('couple', 2), (',my', 2), ('object', 2), (',but', 2), ('peradventure', 2), ('paramour', 2), ('pare', 2), ('onions', 2), ('cool', 2), ('comprehends', 2), ('forms', 2), ('constancy', 2), ('evening', 2), ('lazy', 2), ('battle', 2), ('conn', 2), ('amiss', 2), ('greet', 2), ('dagger', 2), ('drew', 2), ('sinister', 2), ('moans', 2), ('shafalus', 2), ('imagine', 2), ('horned', 2), ('snuff', 2), ('thread', 2), ('quail', 2), ('confound', 2), ('pap', 2), ('recover', 2), ('sisters', 2), ('bergomask', 2), ('blamed', 2), ('garter', 2), ('glow', 2), ('puts', 2), ('lets', 2), ('triple', 2), ('create', 2), ('m', 2), ('scape', 2), ('worthiness', 2), ('disease', 2), ('admiringly', 2), ('hopes', 2), ('sorrows', 2), ('affect', 2), ('empire', 2), ('servants', 2), ('table', 2), ('trick', 2), ('bleak', 2), ('war-like', 2), ('blown', 2), ('mothers', 2), ('breeds', 2), ('peevish', 2), ('eats', 2), ('effects', 2), ('running', 2), ('composition', 2), ('ignorance', 2), ('fated', 2), ('pull', 2), ('miss', 2), ('continue', 2), ('vouch', 2), ('credence', 2), ('denied', 2), ('tuscan', 2), ('bravest', 2), ('bitterness', 2), ('humbled', 2), ('copy', 2), ('approof', 2), ('scatter', 2), ('began', 2), ('oil', 2), ('endeavours', 2), ('requires', 2), ('re', 2), ('knaves', 2), ('cuckold', 2), ('puritan', 2), ('herd', 2), ('sighed', 2), ('extend', 2), ('level', 2), ('assault', 2), ('delivered', 2), ('speedily', 2), ('misdoubt', 2), ('ours', 2), ('waters', 2), ('chastely', 2), ('reservation', 2), ('motive', 2), ('supposed', 2), ('venture', 2), ('malady', 2), ('fame', 2), ('spurio', 2), ('cicatrice', 2), ('received', 2), ('followed', 2), ('sinewy', 2), ('breathe', 2), ('powerful', 2), ('weakness', 2), ('special', 2), ('practice', 2), ('concluded', 2), ('miracles', 2), ('despair', 2), ('twice', 2), ('thievish', 2), ('strumpet', 2), ('boldness', 2), ('otherwise', 2), ('extended', 2), ('hazard', 2), ('resolv', 2), ('bountiful', 2), ('friar', 2), ('homely', 2), ('meat', 2), ('sequent', 2), ('entertain', 2), ('serves', 2), ('persons', 2), ('submit', 2), ('recovery', 2), ('weight', 2), ('breed', 2), ('honours', 2), ('obedient', 2), ('err', 2), ('scarfs', 2), ('vessel', 2), ('taking', 2), ('smack', 2), ('eternal', 2), ('filthy', 2), ('concealed', 2), ('forfeited', 2), ('italian', 2), ('serious', 2), ('restraint', 2), ('proceeding', 2), ('dangerous', 2), ('dinner', 2), ('prepar', 2), ('council', 2), ('grounds', 2), ('sold', 2), ('griefs', 2), ('hunger', 2), ('pitiful', 2), ('promising', 2), ('file', 2), ('ambitious', 2), ('juno', 2), ('courtly', 2), ('embrace', 2), ('rinaldo', 2), ('bids', 2), ('trumpets', 2), ('neighbour', 2), ('twigs', 2), ('troops', 2), ('conduct', 2), ('stole', 2), ('unlawful', 2), ('rascal', 2), ('shrewdly', 2), ('requite', 2), ('direct', 2), ('confidently', 2), ('hood', 2), ('highest', 2), ('instrument', 2), ('greatness', 2), ('encourage', 2), ('disguise', 2), ('delivers', 2), ('assay', 2), ('smoke', 2), ('hardly', 2), ('prick', 2), ('wooing', 2), ('renown', 2), ('nobility', 2), ('damnable', 2), ('needful', 2), ('parcels', 2), ('departure', 2), ('expertness', 2), ('egg', 2), ('sell', 2), ('alive', 2), ('marseilles', 2), ('alias', 2), ('runs', 2), ('thinking', 2), ('charter', 2), ('patch', 2), ('presume', 2), ('petition', 2), ('speakest', 2), ('similes', 2), ('penny', 2), ('ha', 2), ('forgotten', 2), ('praising', 2), ('enforcement', 2), ('proofs', 2), ('capilet', 2), ('discovery', 2), ('pitied', 2), ('gamester', 2), ('justly', 2), ('a-bed', 2), ('flow', 2), ('charged', 2), ('animals', 2), ('countenance', 2), ('grieves', 2), ('avoid', 2), ('brothers', 2), ('villains', 2), ('lief', 2), ('misprised', 2), ('pigeons', 2), ('adventure', 2), ('calling', 2), ('humorous', 2), ('burrs', 2), ('turning', 2), ('sudden', 2), ('poverty', 2), ('ganymede', 2), ('liberty', 2), ('churlish', 2), ('tyrants', 2), ('clown', 2), ('doors', 2), ('sav', 2), ('constant', 2), ('wages', 2), ('petticoat', 2), ('ridiculous', 2), ('cottage', 2), ('yesterday', 2), ('cheerly', 2), ('rot', 2), ('sting', 2), ('civility', 2), ('wip', 2), ('woful', 2), ('belly', 2), ('shrunk', 2), ('uncleanly', 2), ('shepherds', 2), ('civet', 2), ('gallop', 2), ('medlar', 2), ('atalanta', 2), ('atomies', 2), ('marks', 2), ('madness', 2), ('ordinary', 2), ('features', 2), ('sauce', 2), ('slut', 2), ('foulness', 2), ('martext', 2), ('village', 2), ('executioner', 2), ('midsummer-night', 1), ('lingers', 1), ('solemnities', 1), ('funerals', 1), ('renowned', 1), ('bewitch', 1), ('interchang', 1), ('love-tokens', 1), ('gawds', 1), ('knacks', 1), ('prevailment', 1), ('obedience', 1), ('harshness', 1), ('advis', 1), ('beauties', 1), ('refuse', 1), ('shady', 1), ('chanting', 1), ('hymns', 1), ('undergo', 1), ('earthlier', 1), ('unwished', 1), ('sealing-day', 1), ('fellowship', 1), ('prepare', 1), ('austerity', 1), ('relent', 1), ('crazed', 1), ('fairly', 1), ('boasts', 1), ('belov', 1), ('avouch', 1), ('devoutly', 1), ('thereof', 1), ('over-full', 1), ('schooling', 1), ('fancies', 1), ('different', 1), ('enthrall', 1), ('misgraffed', 1), ('momentany', 1), ('unfolds', 1), ('edict', 1), ('persuasion', 1), ('remote', 1), ('doves', 1), ('prospers', 1), ('carthage', 1), ('troyan', 1), ('lode-stars', 1), ('wheat', 1), ('hawthorn', 1), ('catching', 1), ('frowns', 1), ('hateth', 1), ('decking', 1), ('flights', 1), ('emptying', 1), ('companies', 1), ('playfellow', 1), ('starve', 1), ('errs', 1), ('admiring', 1), ('transpose', 1), ('unheedy', 1), ('melt', 1), ('expense', 1), ('wedding-day', 1), ('gallantly', 1), ('storms', 1), ('rocks', 1), ('lofty', 1), ('mask', 1), ('extempore', 1), ('terribly', 1), ('shriek', 1), ('aggravate', 1), ('french-crown', 1), ('bare-faced', 1), ('mile', 1), ('dogged', 1), ('obscenely', 1), ('bow-strings', 1), ('orbs', 1), ('cowslips', 1), ('dew-drops', 1), ('lob', 1), ('attendant', 1), ('trace', 1), ('forests', 1), ('withholds', 1), ('spangled', 1), ('sheen', 1), ('goodfellow', 1), ('villagery', 1), ('skim', 1), ('mislead', 1), ('neighing', 1), ('foal', 1), ('bowl', 1), ('crab', 1), ('wither', 1), ('dewlap', 1), ('wisest', 1), ('three-foot', 1), ('stool', 1), ('bum', 1), ('topples', 1), ('cough', 1), ('versing', 1), ('furthest', 1), ('amazon', 1), ('perigouna', 1), ('gle', 1), ('ariadne', 1), ('middle', 1), ('mead', 1), ('paved', 1), ('rushy', 1), ('margent', 1), ('contagious', 1), ('pelting', 1), ('continents', 1), ('rotted', 1), ('fatted', 1), ('mazes', 1), ('hymn', 1), ('governess', 1), ('diseases', 1), ('abound', 1), ('distemperature', 1), ('hoary-headed', 1), ('lap', 1), ('hiems', 1), ('childing', 1), ('liveries', 1), ('dissension', 1), ('buys', 1), ('marking', 1), ('traders', 1), ('swimming', 1), (',her', 1), ('squire', 1), ('imitate', 1), ('weddingday', 1), ('mermaid', 1), ('flying', 1), ('love-shaft', 1), ('shaft', 1), ('passed', 1), ('meditation', 1), ('fancy-free', 1), ('love-in-idleness', 1), ('swim', 1), ('forty', 1), ('meddling', 1), ('ape', 1), ('overhear', 1), ('slayeth', 1), ('adamant', 1), ('entice', 1), ('used', 1), ('tempt', 1), ('opportunity', 1), ('worlds', 1), ('brakes', 1), ('chang', 1), ('apollo', 1), ('daphne', 1), ('tiger', 1), ('thyme', 1), ('over-canopied', 1), ('eglantine', 1), ('lull', 1), ('throws', 1), ('enamell', 1), ('streak', 1), ('cankers', 1), ('musk-rose', 1), ('clamorous', 1), ('owl', 1), ('hoots', 1), ('offices', 1), ('hedge-hogs', 1), ('newts', 1), ('blind-worms', 1), ('weaving', 1), ('spiders', 1), ('beetles', 1), ('sentinel', 1), ('ounce', 1), ('bristled', 1), ('interchained', 1), ('riddles', 1), ('lied', 1), ('separation', 1), ('distant', 1), ('wisher', 1), ('stirring', 1), ('weeds', 1), ('lack-love', 1), ('kill-courtesy', 1), ('churl', 1), ('darkling', 1), ('lesser', 1), ('raven', 1), ('touching', 1), ('book', 1), ('insufficiency', 1), ('deepest', 1), ('heresy', 1), ('smiling', 1), ('lakin', 1), ('killing', 1), ('swords', 1), ('assurance', 1), (',god', 1), ('plaster', 1), ('signify', 1), ('hempen', 1), ('swaggering', 1), ('auditor', 1), ('.thisby', 1), ('lily-white', 1), ('triumphant', 1), ('brisky', 1), ('cues', 1), ('!help', 1), ('bog', 1), ('grunt', 1), ('wakes', 1), ('finch', 1), ('gray', 1), ('enthralled', 1), ('gleek', 1), ('occasion', 1), ('pressed', 1), ('purge', 1), ('grossness', 1), ('mulberries', 1), ('honey-bags', 1), ('humble-bees', 1), ('thighs', 1), ('worships', 1), ('giant-like', 1), ('devoured', 1), ('watery', 1), ('enforced', 1), ('night-rule', 1), ('consecrated', 1), ('crew', 1), ('patches', 1), ('stalls', 1), ('thick-skin', 1), ('presented', 1), ('mimick', 1), ('geese', 1), ('russet-pated', 1), ('choughs', 1), ('rising', 1), ('gun', 1), ('sever', 1), ('finish', 1), ('ey', 1), ('noontide', 1), ('grim', 1), ('pierc', 1), ('carcass', 1), ('doubler', 1), ('stung', 1), ('heaviness', 1), ('er-rules', 1), ('illusion', 1), ('archery', 1), ('espy', 1), ('gloriously', 1), ('preposterously', 1), ('badge', 1), ('scales', 1), ('congealed', 1), ('taurus', 1), ('trim', 1), ('conjure', 1), ('extort', 1), ('mockers', 1), ('guest', 1), ('seeing', 1), ('unkindly', 1), ('engilds', 1), ('oes', 1), ('lo', 1), ('confederacy', 1), ('conjoin', 1), ('injurious', 1), ('conspir', 1), ('contriv', 1), ('bait', 1), ('shar', 1), ('artificial', 1), ('cushion', 1), ('voices', 1), ('incorporate', 1), ('moulded', 1), ('rent', 1), ('asunder', 1), ('scorning', 1), ('maidenly', 1), ('amazed', 1), ('passionate', 1), ('chronicled', 1), ('withdraw', 1), ('tends', 1), ('burr', 1), ('bashfulness', 1), ('impatient', 1), ('prevail', 1), ('maypole', 1), ('counsels', 1), ('vixen', 1), ('dwarf', 1), ('hindering', 1), ('knot-grass', 1), ('bead', 1), ('officious', 1), ('jole', 1), ('quicker', 1), ('negligence', 1), ('mistak', 1), ('blameless', 1), ('proves', 1), ('nointed', 1), ('overcast', 1), ('drooping', 1), ('fog', 1), ('acheron', 1), ('testy', 1), ('batty', 1), ('roll', 1), ('wend', 1), ('harbinger', 1), ('ghosts', 1), ('cross-ways', 1), ('shames', 1), ('consort', 1), ('black-brow', 1), ('green-streams', 1), ('plainer', 1), ('runaway', 1), ('bragging', 1), ('lighter-heel', 1), ('grey', 1), ('shifting', 1), ('abate', 1), ('detest', 1), ('shuts', 1), ('females', 1), ('bedabbled', 1), ('tak', 1), ('jill', 1), ('mare', 1), ('amiable', 1), ('coy', 1), ('sleek', 1), ('weapons', 1), ('overflown', 1), ('neaf', 1), ('cavalery', 1), ('tickle', 1), ('tongs', 1), ('munch', 1), ('oats', 1), ('venturous', 1), ('handful', 1), ('pease', 1), ('honeysuckle', 1), ('female', 1), ('elm', 1), ('upbraid', 1), ('rounded', 1), ('orient', 1), ('pearls', 1), ('flowerets', 1), ('taunted', 1), ('transformed', 1), ('scalp', 1), ('repair', 1), ('accidents', 1), ('sleepers', 1), ('solemnly', 1), ('triumphantly', 1), ('pairs', 1), ('compass', 1), ('valley', 1), ('echo', 1), ('fountains', 1), ('region', 1), ('mutual', 1), ('crook-knee', 1), ('thessalian', 1), ('thessaly', 1), ('valentine', 1), ('wood-birds', 1), ('enmity', 1), ('defeated', 1), ('betroth', 1), ('overbear', 1), ('turned', 1), ('expound', 1), ('transported', 1), ('marred', 1), ('paragon', 1), ('during', 1), ('scaped', 1), ('ribbons', 1), ('pumps', 1), ('preferred', 1), ('garlic', 1), ('seething', 1), ('shaping', 1), ('devils', 1), ('shapes', 1), ('bringer', 1), ('suppos', 1), ('howsoever', 1), ('board', 1), ('after-supper', 1), ('usual', 1), ('manager', 1), ('anguish', 1), ('torturing', 1), ('abridgment', 1), ('harp', 1), ('glory', 1), ('tipsy', 1), ('thracian', 1), ('singer', 1), ('conqueror', 1), ('muses', 1), ('beggary', 1), ('sorting', 1), ('wonderous', 1), ('unbreath', 1), ('memories', 1), ('wretchedness', 1), ('ercharg', 1), ('purposed', 1), ('premeditated', 1), ('welcomes', 1), ('shiver', 1), ('periods', 1), ('midst', 1), ('throttle', 1), ('practis', 1), ('conclusion', 1), ('dumbly', 1), ('paying', 1), ('rattling', 1), ('audacious', 1), ('eloquence', 1), ('capacity', 1), ('rid', 1), ('impaired', 1), ('disordered', 1), ('presenteth', 1), ('grisly', 1), ('affright', 1), ('blameful', 1), ('mulberry', 1), ('twain', 1), ('asses', 1), ('sensible', 1), ('limander', 1), ('walls', 1), ('wilful', 1), ('silliest', 1), ('theirs', 1), ('floor', 1), ('circumference', 1), ('wane', 1), ('oh', 1), ('sunny', 1), ('glittering', 1), ('streams', 1), ('duck', 1), ('lions', 1), ('videlicet', 1), ('tragedy', 1), ('notably', 1), ('twelve', 1), ('out-sleep', 1), ('hungry', 1), ('snores', 1), ('task', 1), ('screech-owl', 1), ('screeching', 1), ('graves', 1), ('gaping', 1), ('church-way', 1), ('hecate', 1), ('drowsy', 1), ('stray', 1), ('mole', 1), ('field-dew', 1), ('theme', 1), ('yielding', 1), ('alls', 1), ('delivering', 1), ('subjection', 1), ('abundance', 1), ('amendment', 1), ('persecuted', 1), ('process', 1), ('losing', 1), ('mourningly', 1), ('sole', 1), ('overlooking', 1), ('achieves', 1), ('tyranny', 1), ('livelihood', 1), ('moderate', 1), ('lamentation', 1), ('contend', 1), ('birthright', 1), ('forged', 1), ('collateral', 1), ('comforted', 1), ('plagues', 1), ('mated', 1), ('arched', 1), ('hawking', 1), ('curls', 1), ('idolatrous', 1), ('reliques', 1), ('solely', 1), ('waiting', 1), ('monarch', 1), ('meditating', 1), ('barricado', 1), ('assails', 1), ('undermine', 1), ('blowers', 1), ('policy', 1), ('breach', 1), ('rational', 1), ('rule', 1), ('offendress', 1), ('consumes', 1), ('unsuitable', 1), ('brooch', 1), ('toothpick', 1), ('pie', 1), ('porridge', 1), ('guide', 1), ('counsellor', 1), ('gossips', 1), ('learning-place', 1), ('returns', 1), ('charitable', 1), ('predominant', 1), ('proposes', 1), ('remedies', 1), ('ascribe', 1), ('scope', 1), ('designs', 1), ('impossible', 1), ('strove', 1), ('project', 1), ('senoys', 1), ('austria', 1), ('caution', 1), ('prejudicates', 1), ('curious', 1), ('tried', 1), ('discipled', 1), ('haggish', 1), ('repairs', 1), ('unnoted', 1), ('exception', 1), ('eminent', 1), ('catastrophe', 1), ('heel', 1), ('apprehensive', 1), ('senses', 1), ('constancies', 1), ('expire', 1), ('dissolved', 1), ('hive', 1), ('clearness', 1), ('publish', 1), ('slowness', 1), ('heritage', 1), ('barnes', 1), ('blessings', 1), ('cherishes', 1), ('charbon', 1), ('poysam', 1), ('papist', 1), ('religion', 1), ('foul-mouthed', 1), ('prophet', 1), ('repeat', 1), ('troy', 1), ('priam', 1), ('tithe-woman', 1), ('parson', 1), ('blazing', 1), ('gown', 1), ('lawfully', 1), ('communicate', 1), ('surprised', 1), ('afterward', 1), ('happen', 1), ('likelihoods', 1), ('stall', 1), ('rightly', 1), ('belong', 1), ('impress', 1), ('remembrances', 1), ('foregone', 1), ('adoption', 1), ('foreign', 1), ('curd', 1), ('pulse', 1), ('asham', 1), ('proclamation', 1), ('behaviours', 1), ('hellish', 1), ('obstinacy', 1), ('disclose', 1), ('passions', 1), ('appeach', 1), ('indian-like', 1), ('aged', 1), ('seeks', 1), ('riddle-like', 1), ('notes', 1), ('faculties', 1), ('amongst', 1), ('languishings', 1), ('conversation', 1), ('unlearned', 1), ('schools', 1), ('embowell', 1), ('doctrine', 1), ('luckiest', 1), ('well-lost', 1), ('knowingly', 1), ('greetings', 1), ('receiv', 1), ('besiege', 1), ('monarchy', 1), ('questant', 1), ('shrinks', 1), ('girls', 1), ('warnings', 1), ('forehorse', 1), ('smock', 1), ('masonry', 1), ('kin', 1), ('sparks', 1), ('metals', 1), ('spacious', 1), ('muster', 1), ('influence', 1), ('swordmen', 1), ('pate', 1), ('infirmity', 1), ('quicken', 1), ('canary', 1), ('spritely', 1), ('araise', 1), ('love-line', 1), ('doctor', 1), ('convey', 1), ('admiration', 1), ('wond', 1), ('prologues', 1), ('safer', 1), ('appliance', 1), ('humbleness', 1), ('credulous', 1), ('college', 1), ('deem', 1), ('grateful', 1), ('finisher', 1), ('judges', 1), ('expectation', 1), ('fails', 1), ('proffers', 1), ('barr', 1), ('presumption', 1), ('experiment', 1), ('lending', 1), ('occidental', 1), ('damp', 1), ('moist', 1), ('impudence', 1), ('divulged', 1), ('traduc', 1), ('estimate', 1), ('intimate', 1), ('practiser', 1), ('ministers', 1), ('unpitied', 1), ('kingly', 1), ('exempted', 1), ('image', 1), ('premises', 1), ('performance', 1), ('rely', 1), ('cam', 1), ('tended', 1), ('undoubted', 1), ('precisely', 1), ('chair', 1), ('quatch-buttock', 1), ('brawn-buttock', 1), ('buttock', 1), ('groats', 1), ('attorney', 1), ('taffeta', 1), ('pancake', 1), ('quean', 1), ('beneath', 1), ('constable', 1), ('demands', 1), ('trifle', 1), ('belongs', 1), ('putting', 1), ('philosophical', 1), ('terrors', 1), ('rarest', 1), ('galen', 1), ('paracelsus', 1), ('authentic', 1), ('assured', 1), ('uncertain', 1), ('earthly', 1), ('lustier', 1), ('facinorous', 1), ('dutchman', 1), ('du', 1), ('vinaigre', 1), ('repeal', 1), ('confirmation', 1), ('naming', 1), ('bachelors', 1), ('curtal', 1), ('furniture', 1), ('wealthiest', 1), ('flames', 1), ('replies', 1), ('turk', 1), ('eunuchs', 1), ('bastards', 1), ('rais', 1), ('sickly', 1), ('differences', 1), ('additions', 1), ('dropsied', 1), ('immediate', 1), ('challenges', 1), ('trophy', 1), ('defeat', 1), ('shackle', 1), ('plant', 1), ('travails', 1), ('loosing', 1), ('nobler', 1), ('ennobled', 1), ('replete', 1), ('expecting', 1), ('succeeding', 1), ('counts', 1), ('ordinaries', 1), ('tolerable', 1), ('believing', 1), ('hen', 1), ('lattice', 1), ('dram', 1), ('default', 1), ('undeserved', 1), ('vagabond', 1), ('commission', 1), ('dog-hole', 1), ('import', 1), ('hugs', 1), ('spending', 1), ('marrow', 1), ('stable', 1), ('jades', 1), ('balls', 1), ('marr', 1), ('wrinkles', 1), ('prerogative', 1), ('sweets', 1), ('distil', 1), ('curbed', 1), ('erflow', 1), ('brim', 1), ('strengthen', 1), ('apology', 1), ('commands', 1), ('obtain', 1), ('bunting', 1), ('sinned', 1), ('transgressed', 1), ('workman', 1), ('treasure', 1), ('orders', 1), ('possession', 1), ('bride', 1), ('thirds', 1), ('nothings', 1), ('boots', 1), ('natures', 1), ('clog', 1), ('ministration', 1), ('unsettled', 1), ('muse', 1), ('coragio', 1), ('fundamental', 1), ('decision', 1), ('thirsts', 1), ('opposer', 1), ('incertain', 1), ('settle', 1), ('avails', 1), ('happened', 1), ('boot', 1), ('ran', 1), ('breadth', 1), ('misprising', 1), ('quirks', 1), ('bend', 1), ('contents', 1), ('engrossest', 1), ('robb', 1), ('consenting', 1), ('corrupts', 1), ('well-derived', 1), ('y', 1), ('expose', 1), ('event', 1), ('sportive', 1), ('smoky', 1), ('muskets', 1), ('ride', 1), ('violent', 1), ('still-piecing', 1), ('shoots', 1), ('charges', 1), ('caitiff', 1), ('miseries', 1), ('rumour', 1), ('consolate', 1), ('extreme', 1), ('edge', 1), ('prosp', 1), ('helm', 1), ('hater', 1), ('bare-foot', 1), ('plod', 1), ('sainted', 1), ('amended', 1), ('zealous', 1), ('forgive', 1), ('camping', 1), ('mildest', 1), ('letting', 1), ('delights', 1), ('sharply', 1), ('commander', 1), ('slew', 1), ('enticements', 1), ('wrack', 1), ('maidenhood', 1), ('lodge', 1), ('lodg', 1), ('hears', 1), ('coarsely', 1), ('weighs', 1), ('solicits', 1), ('guard', 1), ('honestest', 1), ('escalus', 1), ('jack-an-apes', 1), ('ring-carrier', 1), ('host', 1), ('thanking', 1), ('hilding', 1), ('notable', 1), ('reposing', 1), ('tents', 1), ('ore', 1), ('john', 1), ('inclining', 1), ('hinder', 1), ('design', 1), ('sorely', 1), ('c', 1), ('sar', 1), ('condemn', 1), ('dishonour', 1), ('quarter', 1), ('syllable', 1), ('dilemmas', 1), ('preparation', 1), ('possibility', 1), ('damns', 1), ('escape', 1), ('smoked', 1), ('sprat', 1), ('coxcomb', 1), ('staining', 1), ('woos', 1), ('yielded', 1), ('deceit', 1), ('musics', 1), ('unworthiness', 1), ('steads', 1), ('eaves', 1), ('sally', 1), ('linsey-woolsey', 1), ('adversary', 1), ('neighbouring', 1), ('chough', 1), ('gabble', 1), ('couch', 1), ('forges', 1), ('bajazet', 1), ('prattle', 1), ('cutting', 1), ('afford', 1), ('baring', 1), ('believed', 1), ('movousus', 1), ('corbo', 1), ('german', 1), ('dutch', 1), ('discover', 1), ('betake', 1), ('manka', 1), ('revania', 1), ('dulche', 1), ('gather', 1), ('purposes', 1), ('lock', 1), ('fontibell', 1), ('titled', 1), ('monument', 1), ('barely', 1), ('bareness', 1), ('attributes', 1), ('holy-cruel', 1), ('integrity', 1), ('crafts', 1), ('ropes', 1), ('conquer', 1), ('proceeds', 1), ('shaking', 1), ('incurred', 1), ('darkly', 1), ('perverted', 1), ('fleshes', 1), ('reveal', 1), ('erflows', 1), ('dieted', 1), ('anatomized', 1), ('curiously', 1), ('sanctimony', 1), ('residing', 1), ('tenderness', 1), ('confirmed', 1), ('rector', 1), ('losses', 1), ('acquired', 1), ('yarn', 1), ('offered', 1), ('tartness', 1), ('sixteen', 1), ('month', 1), ('a-piece', 1), ('abstract', 1), ('conge', 1), ('nicer', 1), ('difficulty', 1), ('model', 1), ('prophesier', 1), (',whom', 1), (',from', 1), ('confession', 1), ('hoodman', 1), ('porto', 1), ('tortures', 1), ('pinch', 1), ('chicurmurco', 1), ('scattered', 1), ('phrase', 1), ('theorick', 1), ('chape', 1), ('neatly', 1), (',or', 1), ('thereabouts', 1), ('a-foot', 1), ('corambus', 1), ('guiltian', 1), ('lodowick', 1), ('chitopher', 1), ('vaumond', 1), ('bentii', 1), ('amounts', 1), ('fifteen', 1), ('poll', 1), ('well-weighing', 1), ('sums', 1), ('inter', 1), ('gatories', 1), ('singly', 1), ('botcher', 1), ('shrieve', 1), ('lousy', 1), ('excellently', 1), ('advertisement', 1), ('devours', 1), ('fry', 1), ('both-sides', 1), ('rogue', 1), ('score', 1), ('after-debts', 1), ('devoted', 1), ('manifold', 1), ('linguist', 1), ('armipotent', 1), ('dungeon', 1), ('anywhere', 1), ('parallels', 1), ('nessus', 1), ('volubility', 1), ('drunkenness', 1), ('swine-drunk', 1), ('bed-clothes', 1), ('straw', 1), ('description', 1), ('tragedians', 1), ('files', 1), ('out-villained', 1), ('villany', 1), ('redeems', 1), ('fee-simple', 1), ('salvation', 1), ('inheritance', 1), ('entail', 1), ('remainders', 1), ('nest', 1), ('excels', 1), ('out-runs', 1), ('cramp', 1), ('drums', 1), ('headsman', 1), ('burst', 1), ('rust', 1), ('throne', 1), ('gratitude', 1), ('hies', 1), ('loathes', 1), ('instructions', 1), ('impositions', 1), ('leaves', 1), ('waggon', 1), ('snipt-taffeta', 1), ('unbaked', 1), ('doughy', 1), ('creating', 1), ('salad', 1), ('bauble', 1), ('phisnomy', 1), ('suggest', 1), ('talkest', 1), ('broad', 1), ('self-gracious', 1), ('fitter', 1), ('happily', 1), ('failed', 1), ('admitted', 1), ('pile', 1), ('dozen', 1), ('posting', 1), ('requital', 1), ('unroot', 1), ('goaded', 1), ('occasions', 1), ('nice', 1), ('lavache', 1), ('fresher', 1), ('somewhat', 1), ('strongly', 1), ('close-stool', 1), ('decayed', 1), ('rascally', 1), ('cruelly', 1), ('scratched', 1), ('justices', 1), ('cox', 1), ('blaze', 1), ('erbears', 1), ('burns', 1), ('forgiven', 1), ('captive', 1), ('perfection', 1), ('reconcil', 1), ('repetition', 1), ('deeper', 1), ('offender', 1), ('sunshine', 1), ('consumed', 1), ('noiseless', 1), ('stuck', 1), ('herald', 1), ('proportions', 1), ('remorseful', 1), ('sender', 1), ('crying', 1), ('rasher', 1), ('displeasures', 1), ('shameful', 1), ('afternoon', 1), ('maudlin', 1), ('cesse', 1), ('digested', 1), ('sparkle', 1), ('fasten', 1), ('necessitied', 1), ('craft', 1), ('reave', 1), ('deceiv', 1), ('subscrib', 1), ('ceas', 1), ('satisfaction', 1), ('plutus', 1), ('multiplying', 1), ('science', 1), ('falsely', 1), ('conjectural', 1), ('fore-past', 1), ('vainly', 1), ('husbanded', 1), ('dismal', 1), ('removes', 1), ('vanquish', 1), ('thereto', 1), ('suppliant', 1), ('\"upon', 1), ('protestations', 1), ('seducer', 1), ('son-in-law', 1), ('toll', 1), ('suitors', 1), ('doers', 1), ('sith', 1), ('monsters', 1), ('derived', 1), ('cease', 1), ('embodied', 1), ('parallel', 1), ('commoner', 1), ('preceding', 1), ('ow', 1), ('quoted', 1), ('madding', 1), ('eagerness', 1), ('subdued', 1), ('inferior', 1), ('feather', 1), ('starts', 1), ('equivocal', 1), ('limbo', 1), ('evidence', 1), ('glove', 1), ('customer', 1), ('accus', 1), ('jeweller', 1), ('kick', 1), ('riddle', 1), ('beguiles', 1), ('doubly', 1), ('untrue', 1), ('divorce', 1), ('uncropped', 1), ('keptst', 1), ('progress', 1), ('rustically', 1), ('properly', 1), ('unkept', 1), ('stalling', 1), ('dunghills', 1), ('hinds', 1), ('bars', 1), ('gentility', 1), ('mutiny', 1), ('servitude', 1), ('apart', 1), ('husks', 1), ('orchard', 1), ('nations', 1), ('elder', 1), ('begot', 1), ('pulled', 1), ('railed', 1), ('accord', 1), ('obscuring', 1), ('hiding', 1), ('exercises', 1), ('dennis', 1), ('voluntary', 1), ('revenues', 1), (',being', 1), ('cradles', 1), ('england', 1), ('fleet', 1), ('carelessly', 1), ('acquit', 1), ('intendment', 1), ('laboured', 1), ('secret', 1), ('entrap', 1), ('indirect', 1), (',there', 1), ('brotherly', 1), ('anatomize', 1), ('payment', 1), ('prize', 1), ('lovest', 1), ('equally', 1), ('goest', 1), ('reigns', 1), ('perceiving', 1), ('silenced', 1), ('news-cramm', 1), ('marketable', 1), ('destinies', 1), ('decree', 1), ('amaze', 1), ('ladyships', 1), ('necks', 1), ('served', 1), ('longs', 1), ('rib-breaking', 1), ('forwardness', 1), ('successfully', 1), ('others', 1), ('proof', 1), ('punish', 1), ('willing', 1), ('desirous', 1), ('working', 1), ('mocked', 1), ('thunderbolt', 1), ('ventur', 1), ('block', 1), ('weights', 1), ('applause', 1), ('detain', 1), ('grounded', 1), ('bounden', 1), ('cousins', 1), ('lamed', 1), ('working-day', 1), ('holiday', 1), ('trodden', 1), ('miles', 1), (',then', 1), ('mistrust', 1), ('depends', 1), ('rang', 1), ('value', 1), ('slept', 1), ('swans', 1), ('inseparable', 1), ('subtle', 1), ('smoothness', 1), ('robs', 1), ('irrevocable', 1), ('pronounce', 1), ('griev', 1), ('cheerful', 1), ('teacheth', 1), ('maids', 1), ('thieves', 1), ('attire', 1), ('umber', 1), ('assailants', 1), ('curtle-axe', 1), ('thigh', 1), ('boar-spear', 1), ('hidden', 1), ('martial', 1), ('outface', 1), ('semblances', 1), ('fittest', 1), ('penalty', 1), ('bites', 1), ('shrink', 1), ('adversity', 1), ('venomous', 1), ('exempt', 1), ('sermons', 1), ('translate', 1), ('venison', 1), ('irks', 1), ('dappled', 1), ('forked', 1), ('usurp', 1), ('amiens', 1), ('root', 1), ('stag', 1), ('cours', 1), ('piteous', 1), ('verge', 1), ('augmenting', 1), ('moralize', 1), ('spectacle', 1), ('worldlings', 1), ('citizens', 1), ('assign', 1), ('dwelling-place', 1), ('contemplation', 1), ('commenting', 1), ('sobbing', 1), ('cope', 1), ('untreasur', 1), ('roynish', 1), ('inquisition', 1), ('bony', 1), ('swiftly', 1), ('envenoms', 1), ('lodging', 1), ('butchery', 1), ('abhor', 1), ('boisterous', 1), ('road', 1), ('subject', 1), ('hire', 1), ('unregarded', 1), ('corners', 1), ('providently', 1), ('caters', 1), ('necessities', 1), ('meed', 1), ('promotion', 1), ('choke', 1), ('prun', 1), ('lieu', 1), ('husbandry', 1), ('settled', 1), ('gasp', 1), ('jupiter', 1), ('hearer', 1), ('a-night', 1), ('jane', 1), ('batler', 1), ('cow', 1), ('instead', 1), ('cods', 1), ('capers', 1), ('stale', 1), ('faints', 1), ('succour', 1), ('recks', 1), ('flocks', 1), ('sale', 1), ('buying', 1), ('willingly', 1), ('soil', 1), ('greenwood', 1), ('weasel', 1), ('sucks', 1), ('ragged', 1), ('stanzos', 1), ('compliment', 1), ('renders', 1), ('matters', 1), ('greek', 1), ('invocation', 1), ('circle', 1), ('prepared', 1), ('uncouth', 1), ('conceit', 1), ('lookest', 1), ('liest', 1), ('shelter', 1), ('jars', 1), ('shortly', 1), ('poke', 1), ('looking', 1), ('lack-lustre', 1), ('wags', 1), ('ago', 1), ('eleven', 1), ('lungs', 1), ('chanticleer', 1), ('deep-contemplative', 1), ('intermission', 1), ('biscuit', 1), ('cramm', 1), ('vents', 1), ('parish', 1), ('smart', 1), ('squandering', 1), ('glances', 1), ('invest', 1), ('infected', 1), ('libertine', 1), ('sensual', 1), ('sores', 1), ('headed', 1), ('disgorge', 1), ('shoulders', 1), ('unclaim', 1), ('bolden', 1), ('despiser', 1), ('feasts', 1), ('sacred', 1), ('engender', 1), ('suffic', 1), ('universal', 1), ('exits', 1), ('nurse', 1), ('school-boy', 1), ('satchel', 1), ('unwillingly', 1), ('eyebrow', 1), ('cannon', 1), ('capon', 1), ('formal', 1), ('saws', 1), ('instances', 1), ('sixth', 1), ('shifts', 1), ('pouch', 1), ('shank', 1), ('childish', 1), ('treble', 1), ('whistles', 1), ('eventful', 1), ('childishness', 1), ('venerable', 1), ('trouble', 1), ('ingratitude', 1), ('cave', 1), ('support', 1), ('territory', 1), ('seizure', 1), ('seize', 1), ('push', 1), ('officers', 1), ('extent', 1), ('everywhere', 1), ('carve', 1), ('philosophy', 1), ('ill-roasted', 1), ('damnation', 1), ('behaviour', 1), ('briefly', 1), ('fells', 1), ('wholesome', 1), ('sounder', 1), ('perfumed', 1), ('raw', 1), ('earn', 1), ('envy', 1), ('lambs', 1), ('rams', 1), ('copulation', 1), ('bawd', 1), ('bell-wether', 1), ('cuckoldy', 1), ('ind', 1), ('pictures', 1), ('dinners', 1), ('suppers', 1), ('excepted', 1), ('hart', 1), ('winter-garments', 1), ('slender', 1), ('cart', 1), ('rind', 1), ('infect', 1), ('earliest', 1), ('unpeopled', 1), ('sayings', 1), ('erring', 1), ('stretching', 1), ('buckles', 1), ('violated', 1), ('twixt', 1), ('rosalinda', 1), ('teaching', 1), ('cleopatra', 1), ('lucretia', 1), ('priz', 1), ('wearied', 1), ('parishioners', 1), ('bag', 1), ('carved', 1), ('palm-tree', 1), ('be-rimed', 1), ('irish', 1), ('earthquakes', 1), ('vehemence', 1), ('mightst', 1), ('cork', 1), ('hat', 1), ('mocking', 1), ('gargantua', 1), ('resolve', 1), ('propositions', 1), ('relish', 1), ('dropped', 1), ('wounded', 1), ('hunter', 1), ('ominous', 1), ('burthen', 1), ('bringest', 1), ('tune', 1), ('slink', 1), ('writing', 1), ('love-songs', 1), ('pleasing', 1), ('christened', 1), ('goldsmiths', 1), ('breather', 1), ('habit', 1), ('paces', 1), ('gallops', 1), ('trot', 1), ('solemnized', 1), ('interim', 1), ('nnight', 1), ('gallows', 1), ('moves', 1), ('skirts', 1), ('fringe', 1), ('cony', 1), ('purchase', 1), ('dwelling', 1), ('courtship', 1), ('giddy', 1), ('half-pence', 1), ('abuses', 1), ('odes', 1), ('brambles', 1), ('fancy-monger', 1), ('quotidian', 1), ('love-shaked', 1), ('neglected', 1), ('bonnet', 1), ('unbuttoned', 1), ('untied', 1), ('point-device', 1), ('accoutrements', 1), ('admired', 1), ('punished', 1), ('whippers', 1), ('curing', 1), ('moonish', 1), ('grieve', 1), ('suitor', 1), ('spot', 1), ('feature', 1), ('capricious', 1), ('goths', 1), ('ill-inhabited', 1), ('thatch', 1), ('seconded', 1), ('reckoning', 1), ('hard-favour', 1), ('sugar', 1), ('material', 1), ('vicar', 1), ('assembly', 1), ('goods', 1), ('dowry', 1), ('noblest', 1), ('huge', 1), ('walled', 1), ('curb', 1), ('falcon', 1), ('wedlock', 1), ('nibbling', 1), ('panel', 1), ('bawdry', 1), ('begone', 1), ('wedding', 1), ('chesnut', 1), ('religiously', 1), ('certainly', 1), ('horse-stealer', 1), ('goblet', 1), ('worm-eaten', 1), ('confirmers', 1), ('traverse', 1), ('puisny', 1), ('staff', 1), ('inquir', 1), ('remove', 1), ('accustom', 1), ('pin', 1), ('palm', 1), ('darted', 1), (',as', 1), ('arrows', 1), ('insult', 1), ('pitiless', 1), ('tangle', 1), ('inky', 1), ('bugle', 1), ('cream', 1), ('foggy', 1), ('properer', 1), ('ill-favour', 1), ('flatters', 1), ('knees', 1), ('fasting', 1), ('markets', 1), ('extermin', 1), ('neighbourly', 1), ('covetousness', 1), ('plenteous', 1), ('glean', 1), ('reaps', 1), ('heal', 1), ('riper', 1), ('damask', 1), ('wanes', 1), ('steep', 1), ('new-bent', 1), ('merriments', 1), ('pert', 1), ('injuries', 1), ('triumph', 1), ('revelling', 1), ('bracelets', 1), ('conceits', 1), ('nosegays', 1), ('sweetmeats', 1), ('unharden', 1), ('filch', 1), ('dispose', 1), ('imprinted', 1), ('abjure', 1), ('examine', 1), ('mew', 1), ('blessedness', 1), ('pause', 1), ('deriv', 1), ('possess', 1), ('vantage', 1), ('prosecute', 1), ('idolatry', 1), ('self-affairs', 1), ('extenuate', 1), ('confer', 1), ('nearly', 1), ('fade', 1), ('beteem', 1), ('tempest', 1), ('sympathy', 1), ('lightning', 1), ('collied', 1), ('spleen', 1), ('jaws', 1), ('devour', 1), ('customary', 1), ('followers', 1), ('widow', 1), ('leagues', 1), ('strongest', 1), ('knitteth', 1), ('unsay', 1), ('curses', 1), ('liquid', 1), ('bladed', 1), ('conceal', 1), ('primrose-beds', 1), ('doting', 1), ('quantity', 1), ('waggish', 1), ('perjur', 1), ('dissolv', 1), ('showers', 1), ('treats', 1), ('lamentable', 1), ('spread', 1), ('performing', 1), ('condole', 1), ('rarely', 1), ('split', 1), ('raging', 1), ('shivering', 1), ('shocks', 1), ('locks', 1), ('phibbus', 1), ('car', 1), ('condoling', 1), ('roaring', 1), ('sucking', 1), ('nightingale', 1), ('sweet-faced', 1), ('straw-colour', 1), ('purple-in-grain', 1), ('devices', 1), ('properties', 1), ('courageously', 1), ('park', 1), ('moone', 1), ('pensioners', 1), ('rubies', 1), ('freckles', 1), ('passing', 1), ('train', 1), ('acorn-cups', 1), ('frights', 1), ('quern', 1), ('breathless', 1), ('churn', 1), ('barm', 1), ('night-wanderers', 1), ('laughing', 1), ('hobgoblin', 1), ('aright', 1), ('bean-fed', 1), ('filly', 1), ('lurk', 1), ('roasted', 1), ('drinks', 1), ('ale', 1), ('saddest', 1), ('mistaketh', 1), ('quire', 1), ('hips', 1), ('loff', 1), ('neeze', 1), ('skip', 1), ('phillida', 1), ('steppe', 1), ('india', 1), ('bouncing', 1), ('buskin', 1), ('warrior', 1), ('ravished', 1), ('antiopa', 1), ('forgeries', 1), ('beached', 1), ('ringlets', 1), ('whistling', 1), ('winds', 1), ('piping', 1), ('fogs', 1), ('river', 1), ('overborne', 1), ('fold', 1), ('crows', 1), ('murrion', 1), ('mud', 1), ('carol', 1), ('washes', 1), ('rheumatic', 1), ('frosts', 1), ('crimson', 1), ('thin', 1), ('chaplet', 1), ('autumn', 1), ('mazed', 1), ('progeny', 1), ('original', 1), ('henchman', 1), ('spiced', 1), ('sands', 1), ('embarked', 1), ('sails', 1), ('big-bellied', 1), ('womb', 1), ('merchandise', 1), ('rear', 1), ('kingdom', 1), ('torment', 1), ('promontory', 1), ('uttering', 1), ('harmonious', 1), ('sea-maid', 1), ('vestal', 1), ('throned', 1), ('west', 1), ('loos', 1), ('smartly', 1), ('pierce', 1), ('bolt', 1), ('milk-white', 1), ('leviathan', 1), ('girdle', 1), ('bull', 1), ('monkey', 1), ('hard-hearted', 1), ('steel', 1), ('plainest', 1), ('worser', 1), ('impeach', 1), ('griffin', 1), ('scandal', 1), ('oxlips', 1), ('nodding', 1), ('violet', 1), ('luscious', 1), ('snake', 1), ('wrap', 1), ('anoint', 1), ('espies', 1), ('roundel', 1), ('rere-mice', 1), ('snakes', 1), ('spell', 1), ('ii', 1), ('long-legg', 1), ('spinners', 1), ('aloof', 1), ('boar', 1), ('bed-room', 1), ('prettily', 1), ('meant', 1), ('approve', 1), ('dank', 1), ('dirty', 1), ('seat', 1), ('eyelid', 1), ('attractive', 1), ('oftener', 1), ('sphery', 1), ('transparent', 1), ('perish', 1), ('growing', 1), ('marshal', 1), ('erlook', 1), ('stories', 1), ('loathing', 1), ('heresies', 1), ('crawling', 1), ('?lysander', 1), ('rehearsal', 1), ('hawthorn-brake', 1), ('tiring-house', 1), ('!a', 1), ('wild-fowl', 1), ('defect', 1), ('plainly', 1), ('almanack', 1), ('home-spuns', 1), ('cradle', 1), ('odours', 1), ('radiant', 1), ('juvenal', 1), ('jew', 1), ('!as', 1), ('headless', 1), ('neigh', 1), ('bark', 1), ('ass-head', 1), ('ousel-cock', 1), ('throstle', 1), ('wren', 1), ('quill', 1), ('plain-song', 1), ('now-a-days', 1), ('beautiful', 1), ('moth', 1), ('mustardseed', 1), ('gambol', 1), ('apricocks', 1), ('dewberries', 1), ('figs', 1), ('night-tapers', 1), ('glow-worm', 1), ('butterflies', 1), ('moonbeams', 1), ('squash', 1), ('cowardly', 1), ('ox-beef', 1), ('lamenting', 1), ('silently', 1), ('extremity', 1), ('mechanicals', 1), ('intended', 1), ('shallowest', 1), ('forsook', 1), ('nowl', 1), ('fixed', 1), ('fowler', 1), ('cawing', 1), ('stamp', 1), ('yielders', 1), ('latch', 1), ('rebuke', 1), ('foe', 1), ('bor', 1), ('centre', 1), ('displease', 1), ('antipodes', 1), ('cruelty', 1), ('driv', 1), ('mispris', 1), ('heavier', 1), ('debt', 1), ('fate', 1), ('million', 1), ('confounding', 1), ('fancy-sick', 1), ('dye', 1), ('apple', 1), ('pleading', 1), ('bearing', 1), ('advance', 1), ('devilish-holy', 1), ('tales', 1), ('crystal', 1), ('muddy', 1), ('cherries', 1), ('tempting', 1), ('fann', 1), ('merriment', 1), ('superpraise', 1), ('bequeath', 1), ('sojourn', 1), ('disparage', 1), ('apprehension', 1), ('impair', 1), ('bide', 1), ('yon', 1), ('ungrateful', 1), ('sister-vows', 1), ('hasty-footed', 1), ('school-days', 1), ('neelds', 1), ('sampler', 1), ('union', 1), ('berries', 1), ('stem', 1), ('crowned', 1), ('crest', 1), ('celestial', 1), ('unlov', 1), ('despise', 1), ('mouths', 1), ('threats', 1), ('whereto', 1), ('ethiop', 1), ('tawny', 1), ('loathed', 1), ('juggler', 1), ('canker-blossom', 1), ('statures', 1), ('dwarfish', 1), ('shrewishness', 1), ('hinders', 1), ('minimus', 1), ('scorns', 1), ('services', 1), ('jangling', 1), ('starry', 1), ('welking', 1), ('astray', 1), ('death-counterfeiting', 1), ('affair', 1), ('charmed', 1), ('dragons', 1), ('aurora', 1), ('churchyards', 1), ('burial', 1), ('wormy', 1), ('beds', 1), ('fiery-red', 1), ('opening', 1), ('notwithstanding', 1), ('goblin', 1), ('bushes', 1), ('recreant', 1), ('rod', 1), ('manhood', 1), ('uneven', 1), ('com', 1), ('runn', 1), ('faintness', 1), ('constraineth', 1), ('visited', 1), ('kinds', 1), ('lad', 1), ('torn', 1), ('crawl', 1), ('former', 1), ('proverb', 1), ('jack', 1), ('stick', 1), ('red-hipped', 1), ('thistle', 1), ('fret', 1), ('curtsy', 1), ('desir', 1), ('peck', 1), ('provender', 1), ('squirrel', 1), ('hoard', 1), ('nuts', 1), ('exposition', 1), ('entwist', 1), ('ivy', 1), ('enrings', 1), ('barky', 1), ('dotage', 1), ('temples', 1), ('coronet', 1), ('fragrant', 1), ('bewail', 1), ('begg', 1), ('imperfection', 1), ('awaking', 1), ('bud', 1), ('charmeth', 1), ('globe', 1), ('vaward', 1), ('uncouple', 1), ('mountain', 1), ('conjunction', 1), ('cadmus', 1), ('skies', 1), ('thunder', 1), ('spartan', 1), ('flew', 1), ('sanded', 1), ('dew-lapp', 1), ('bulls', 1), ('nymphs', 1), ('huntsmen', 1), ('rival', 1), ('reply', 1), ('amazedly', 1), (',for', 1), ('bethink', 1), ('fury', 1), ('gaud', 1), ('fortunately', 1), ('eternally', 1), ('purpos', 1), ('hunting', 1), ('far-off', 1), ('patched', 1), ('handicraft', 1), ('lads', 1), ('dined', 1), ('strings', 1), ('linen', 1), ('claws', 1), ('fables', 1), ('toys', 1), ('lunatic', 1), ('vast', 1), ('madman', 1), ('frenzy', 1), ('rolling', 1), ('local', 1), ('habitation', 1), ('imagining', 1), ('transfigur', 1), ('witnesseth', 1), ('images', 1), ('accompany', 1), ('masques', 1), ('bed-time', 1), ('masque', 1), ('centaurs', 1), ('eunuch', 1), ('riot', 1), ('bacchanals', 1), ('tearing', 1), ('thebes', 1), ('mourning', 1), ('deceas', 1), ('satire', 1), ('critical', 1), ('apt', 1), ('player', 1), ('rehears', 1), ('hard-handed', 1), ('toil', 1), ('extremely', 1), ('perishing', 1), ('kinder', 1), ('clerks', 1), ('sentences', 1), ('tongue-tied', 1), ('minding', 1), ('colt', 1), ('recorder', 1), ('government', 1), ('tangled', 1), ('hight', 1), ('scare', 1), ('fied', 1), ('whereat', 1), ('broach', 1), ('boiling', 1), ('tarrying', 1), ('crannied', 1), ('wittiest', 1), ('grim-look', 1), ('blink', 1), ('mural', 1), ('warning', 1), ('stuff', 1), ('smallest', 1), ('creeps', 1), ('lion-fell', 1), ('dam', 1), ('conscience', 1), ('listen', 1), ('crescent', 1), ('roared', 1), ('shone', 1), ('moused', 1), ('vanished', 1), ('dainty', 1), ('thrum', 1), ('conclude', 1), ('quell', 1), ('deflower', 1), ('liv', 1), ('surgeon', 1), ('mote', 1), ('lily', 1), ('moan', 1), ('leeks', 1), ('gore', 1), ('shore', 1), ('shears', 1), ('imbrue', 1), ('overwatch', 1), ('palpable-gross', 1), ('fortnight', 1), ('roars', 1), ('behowls', 1), ('fordone', 1), ('brands', 1), ('wretch', 1), ('shroud', 1), ('glide', 1), ('frolic', 1), ('hallow', 1), ('broom', 1), ('elf', 1), ('ditty', 1), ('trippingly', 1), ('rote', 1), ('bride-bed', 1), ('blots', 1), ('hare-lip', 1), ('prodigious', 1), ('consecrate', 1), ('mended', 1), ('reprehend', 1), ('unearned', 1), ('restore', 1), ('anew', 1), ('wanted', 1), ('abandoned', 1), ('passage', 1), ('!whose', 1), ('stretched', 1), ('immortal', 1), ('famous', 1), ('skilful', 1), ('mortality', 1), ('languishes', 1), ('fistula', 1), ('dispositions', 1), ('inherits', 1), ('derives', 1), ('brine', 1), ('excessive', 1), ('excess', 1), ('succeed', 1), ('few', 1), ('unseason', 1), ('radiance', 1), ('steely', 1), ('superfluous', 1), ('resistance', 1), ('underminers', 1), ('military', 1), ('quicklier', 1), ('blowing', 1), ('commonwealth', 1), ('preserve', 1), ('accuse', 1), ('infallible', 1), ('murders', 1), ('highways', 1), ('limit', 1), ('mites', 1), ('cheese', 1), ('paring', 1), ('self-love', 1), ('inhibited', 1), ('canon', 1), ('commodity', 1), ('gloss', 1), ('vendible', 1), ('richly', 1), ('suited', 1), ('pears', 1), ('drily', 1), ('formerly', 1), ('nix', 1), ('traitress', 1), ('jarring', 1), ('adoptious', 1), ('christendoms', 1), ('blinking', 1), ('wishing', 1), ('retrograde', 1), ('acutely', 1), ('instruction', 1), ('naturalize', 1), ('thrust', 1), ('unthankfulness', 1), ('mightiest', 1), ('attempts', 1), ('fought', 1), ('braving', 1), ('credible', 1), ('speedy', 1), ('denial', 1), ('amplest', 1), ('nursery', 1), ('gentry', 1), ('breathing', 1), ('betram', 1), ('corporal', 1), ('soundness', 1), ('lasted', 1), ('levity', 1), ('sharpness', 1), ('ranks', 1), ('demonstrate', 1), ('goers', 1), ('richer', 1), ('epitaph', 1), ('grafted', 1), ('pastime', 1), ('fashions', 1), ('labourers', 1), ('applications', 1), ('deservings', 1), ('complaints', 1), ('ability', 1), ('driven', 1), ('spares', 1), ('drudge', 1), ('cherisher', 1), ('ergo', 1), ('contented', 1), ('howsome', 1), ('severed', 1), ('joul', 1), ('calumnious', 1), ('grecians', 1), ('sacked', 1), ('purifying', 1), ('earthquake', 1), ('lottery', 1), ('surplice', 1), ('entirely', 1), ('owing', 1), ('wished', 1), ('estates', 1), ('rescue', 1), ('exclaim', 1), ('sithence', 1), ('honestly', 1), ('informed', 1), ('tottering', 1), ('catalogue', 1), ('enwombed', 1), ('strives', 1), ('seeds', 1), ('distemper', 1), ('many-colour', 1), ('iris', 1), ('rounds', 1), ('fondness', 1), ('loneliness', 1), ('grossly', 1), ('clew', 1), ('avail', 1), ('presumptuous', 1), ('captious', 1), ('intenible', 1), ('sieve', 1), ('adore', 1), ('worshipper', 1), ('cites', 1), ('implies', 1), ('sweetly', 1), ('prescriptions', 1), ('prov', 1), ('manifest', 1), ('collected', 1), ('heedfull', 1), ('inclusive', 1), ('receipt', 1), ('principles', 1), ('captives', 1), ('spark', 1), ('creaking', 1), ('theft', 1), ('accessary', 1), ('tortured', 1), ('heroes', 1), ('lustrous', 1), ('spinii', 1), ('emblem', 1), ('entrenched', 1), ('novices', 1), ('restrained', 1), ('list', 1), ('expressive', 1), ('dilated', 1), ('across', 1), ('pepin', 1), ('charlemain', 1), ('arriv', 1), ('cressid', 1), ('receipts', 1), ('chiefly', 1), ('darling', 1), ('malignant', 1), ('doctors', 1), ('congregated', 1), ('labouring', 1), ('inaidable', 1), ('prostitute', 1), ('past-cure', 1), ('empirics', 1), ('dissever', 1), ('entreating', 1), ('works', 1), ('weakest', 1), ('flown', 1), ('sources', 1), ('seas', 1), ('hits', 1), ('coldest', 1), ('inspired', 1), ('impostor', 1), ('proclaim', 1), ('confident', 1), ('torcher', 1), ('diurnal', 1), ('murk', 1), ('hesperus', 1), ('sleepy', 1), ('lamp', 1), ('pilot', 1), ('infirm', 1), ('confidence', 1), ('ballads', 1), ('sear', 1), ('vilest', 1), ('torture', 1), ('organ', 1), ('prime', 1), ('flinch', 1), ('sceptre', 1), ('arrogance', 1), ('propagate', 1), ('branch', 1), ('observ', 1), ('unquestion', 1), ('highly', 1), ('lowly', 1), ('buttocks', 1), ('pin-buttock', 1), ('punk', 1), ('tib', 1), ('forefinger', 1), ('shrove-tuesday', 1), ('mayday', 1), ('nail', 1), ('scolding', 1), ('wrangling', 1), ('pudding', 1), ('fitness', 1), ('hoping', 1), ('urge', 1), ('kinsmen', 1), ('employment', 1), ('fruitfully', 1), ('familiar', 1), ('supernatural', 1), ('causeless', 1), ('ensconcing', 1), ('relinquished', 1), ('artists', 1), ('incurable', 1), ('helped', 1), ('novelty', 1), ('debile', 1), ('transcendence', 1), ('lustig', 1), ('coranto', 1), ('mort', 1), ('preserver', 1), ('healthful', 1), ('parcel', 1), ('sov', 1), ('reign', 1), ('election', 1), ('peruse', 1), ('ames-ace', 1), ('threateningly', 1), ('whipp', 1), ('grape', 1), ('drunk', 1), ('fourteen', 1), ('guiding', 1), ('raising', 1), ('build', 1), ('bloods', 1), ('lowest', 1), ('dignified', 1), ('doer', 1), ('vileness', 1), ('sire', 1), ('foregoers', 1), ('stake', 1), ('poising', 1), ('defective', 1), ('scale', 1), ('beam', 1), ('staggers', 1), ('lapse', 1), ('creation', 1), ('counterpoise', 1), ('expedient', 1), ('now-born', 1), ('harsh', 1), ('satisfy', 1), ('vent', 1), ('bannerets', 1), ('manifoldly', 1), ('antiquity', 1), ('hasten', 1), ('egregious', 1), ('indignity', 1), ('bate', 1), ('scruple', 1), ('insupportable', 1), ('hell-pains', 1), ('fettering', 1), ('unfeignedly', 1), ('picking', 1), ('pomegranate', 1), ('personages', 1), ('merits', 1), ('box', 1), ('unseen', 1), ('kicky-wicky', 1), ('sustain', 1), ('curvet', 1), ('steed', 1), ('regions', 1), ('detested', 1), ('capriccio', 1), ('greets', 1), ('ail', 1), ('shakes', 1), ('undoing', 1), ('witty', 1), ('profitable', 1), ('strew', 1), ('warranted', 1), ('testimony', 1), ('accordingly', 1), ('casketed', 1), ('unkindness', 1), ('shift', 1), ('custard', 1), ('residence', 1), ('consequence', 1), ('procur', 1), ('required', 1), ('appointments', 1), ('timorous', 1), ('borrowing', 1), ('outward', 1), ('frames', 1), ('self-unable', 1), ('ruff', 1), ('manor', 1), ('bedded', 1), ('unbridled', 1), ('indignation', 1), ('standing', 1), ('thitherward', 1), ('passport', 1), ('begotten', 1), ('moiety', 1), ('swiftest', 1), ('tainted', 1), ('inducement', 1), ('worthiest', 1), ('non-sparing', 1), ('drive', 1), ('piercing', 1), ('ravin', 1), ('wins', 1), ('angels', 1), ('offic', 1), ('rous', 1), ('auspicious', 1), ('sending', 1), ('fervour', 1), ('labours', 1), ('despiteful', 1), ('over-night', 1), ('erta', 1), ('reprieve', 1), ('solicited', 1), ('suggestions', 1), ('engines', 1), ('seduced', 1), ('example', 1), ('limed', 1), ('palmers', 1), ('beside', 1), ('port', 1), ('hostess', 1), ('countryman', 1), ('whatsoe', 1), ('repeated', 1), ('deserving', 1), ('reserved', 1), ('examin', 1), ('detesting', 1), ('sadly', 1), ('brokes', 1), ('antonio', 1), ('plume', 1), ('honester', 1), ('goodlier', 1), ('handsome', 1), ('vexed', 1), ('enjoin', 1), ('penitents', 1), ('matron', 1), ('precepts', 1), ('endless', 1), ('promise-breaker', 1), ('surprise', 1), ('leaguer', 1), ('adversaries', 1), ('examination', 1), ('compulsion', 1), ('lump', 1), ('rend', 1), ('greatly', 1), ('attributed', 1), ('exact', 1), ('performer', 1), ('hic', 1), ('jacet', 1), ('its', 1), ('magnanimous', 1), ('utmost', 1), ('discoveries', 1), ('clap', 1), ('lass', 1), ('re-send', 1), ('approves', 1), ('over-pay', 1), ('lays', 1), ('important', 1), ('succeeded', 1), ('descents', 1), ('repented', 1), ('appoints', 1), ('add', 1), ('coherent', 1), ('songs', 1), ('persists', 1), ('sinful', 1), ('fact', 1), ('hedge-corner', 1), ('languages', 1), ('disgraces', 1), ('foolhardy', 1), ('daring', 1), ('ignorant', 1), ('butter-woman', 1), ('perils', 1), ('spanish', 1), ('stripped', 1), ('citadel', 1), ('fathom', 1), ('throca', 1), ('villianda', 1), ('par', 1), ('thromuldo', 1), ('muskos', 1), ('dane', 1), ('vauvado', 1), ('kerelybonto', 1), ('poniards', 1), ('oscorbidulchos', 1), ('volivorco', 1), ('hoodwink', 1), ('acordo', 1), ('linta', 1), ('granted', 1), ('woodcock', 1), ('addition', 1), ('rights', 1), ('unseal', 1), ('scarr', 1), ('champion', 1), ('knock', 1), ('future', 1), ('braid', 1), ('unjustly', 1), ('tuned', 1), ('bounty', 1), ('spoil', 1), ('monumental', 1), ('unchaste', 1), ('treasons', 1), ('abhorred', 1), ('contrives', 1), ('trumpeters', 1), ('gladly', 1), ('meddle', 1), ('pretence', 1), ('undertaking', 1), ('austere', 1), ('accomplished', 1), ('became', 1), ('justified', 1), ('confirmations', 1), ('arming', 1), ('encountered', 1), ('web', 1), ('crimes', 1), ('cherished', 1), ('street', 1), ('dispatched', 1), ('nearest', 1), ('mourned', 1), ('returning', 1), ('entertained', 1), ('dialogue', 1), ('double-meaning', 1), ('wench', 1), ('morgan', 1), ('supposes', 1), ('tartarossa', 1), ('pasty', 1), ('bosko', 1), ('chimurcho', 1), ('boblibindo', 1), ('merciful', 1), ('unserviceable', 1), ('commanders', 1), ('sacrament', 1), ('past-saving', 1), ('militarist', 1), (',i', 1), ('sebastian', 1), ('cosmo', 1), ('gratii', 1), ('muster-file', 1), ('cassocks', 1), ('pieces', 1), ('prentice', 1), ('tile', 1), ('pocket', 1), ('tent', 1), ('allurement', 1), ('ruttish', 1), ('whale', 1), ('mell', 1), ('rapes', 1), ('ravishments', 1), ('professes', 1), (',to', 1), ('belie', 1), ('except', 1), ('mile-end', 1), ('doubling', 1), ('rarity', 1), ('perpetual', 1), ('perpetually', 1), ('reputed', 1), ('saved', 1), ('drumming', 1), ('supposition', 1), ('ambush', 1), ('traitorously', 1), ('discovered', 1), ('pestiferous', 1), ('greeting', 1), ('sonnet', 1), ('crushed', 1), ('christian', 1), ('desired', 1), ('flinty', 1), ('duly', 1), ('aiding', 1), ('helper', 1), ('trusting', 1), ('defiles', 1), ('pitchy', 1), ('revives', 1), ('misled', 1), ('saffron', 1), ('advanced', 1), ('red-tailed', 1), ('partaken', 1), ('owed', 1), ('rooted', 1), ('salads', 1), ('sweet-marjoram', 1), ('salad-herbs', 1), ('nose-herbs', 1), ('nebuchadnezzar', 1), ('hotter', 1), ('woodland', 1), ('narrow', 1), ('chill', 1), ('jade', 1), ('sauciness', 1), ('moved', 1), ('minority', 1), ('propose', 1), ('conceived', 1), ('post', 1), ('numbered', 1), ('rejoices', 1), ('carbonadoed', 1), ('delicate', 1), ('feathers', 1), ('adverse', 1), ('unfit', 1), ('familiarity', 1), ('sluttish', 1), ('buttering', 1), ('spake', 1), ('stink', 1), ('foh', 1), ('nobleman', 1), ('purr', 1), ('musk-cat', 1), ('fishpond', 1), ('carp', 1), ('ingenious', 1), ('inquire', 1), ('estimation', 1), ('revenges', 1), ('shoot', 1), (',the', 1), ('astonish', 1), ('incensing', 1), ('relics', 1), ('brightest', 1), ('high-repented', 1), ('blames', 1), ('decrees', 1), ('inaudible', 1), ('steals', 1), ('infixing', 1), ('perspective', 1), ('contracted', 1), ('hideous', 1), ('prais', 1), ('excus', 1), ('compt', 1), ('slowly', 1), ('sour', 1), ('trivial', 1), ('unjust', 1), ('destroy', 1), ('knell', 1), ('marriage-day', 1), ('speaking', 1), ('stead', 1), ('reckon', 1), ('contain', 1), ('fully', 1), ('tinct', 1), ('saints', 1), ('inhuman', 1), ('vanity', 1), ('sift', 1), ('thinkings', 1), ('undertook', 1), ('attending', 1), ('importing', 1), ('verbal', 1), ('flourishes', 1), ('.\"', 1), ('foully', 1), ('marries', 1), ('validity', 1), ('gem', 1), ('conferr', 1), ('perfidious', 1), ('boarded', 1), ('angle', 1), ('impediments', 1), ('motives', 1), ('market-price', 1), ('diet', 1), ('boggle', 1), ('naughty', 1), ('orator', 1), ('knowest', 1), ('talked', 1), ('satan', 1), ('motions', 1), ('abuse', 1), ('exorcist', 1), ('real', 1), ('clearly', 1), ('handkercher', 1), ('curtsies', 1), ('resolvedly', 1), ('goldenly', 1), ('differs', 1), ('manage', 1), ('riders', 1), ('hired', 1), ('plentifully', 1), ('mines', 1), ('idleness', 1), ('employed', 1), ('hogs', 1), ('prodigal', 1), ('portion', 1), ('allows', 1), ('tradition', 1), ('reverence', 1), ('trained', 1), ('peasant', 1), ('allottery', 1), ('troubled', 1), ('rankness', 1), ('importunes', 1), ('access', 1), ('disguised', 1), ('escapes', 1), ('limb', 1), ('notice', 1), ('underhand', 1), ('resolute', 1), ('stubbornest', 1), ('emulator', 1), ('contriver', 1), ('practise', 1), ('schooled', 1), ('enchantingly', 1), ('kindle', 1), ('extraordinary', 1), ('righteously', 1), ('tempered', 1), ('rejoice', 1), ('wheel', 1), ('bestowed', 1), ('misplaced', 1), ('cutter-off', 1), ('goddesses', 1), ('dulness', 1), ('heap', 1), ('unmuzzle', 1), ('stroke', 1), ('chins', 1), ('meanest', 1), ('taxation', 1), ('bon', 1), ('jour', 1), ('trowel', 1), ('losest', 1), ('bills', 1), ('beholders', 1), ('crept', 1), ('odds', 1), ('challenged', 1), ('foiled', 1), ('shamed', 1), ('lament', 1), ('supplied', 1), ('persuaded', 1), ('breathed', 1), ('descended', 1), ('adopted', 1), ('entreaties', 1), ('exceeded', 1), ('quintain', 1), ('lifeless', 1), ('misconstrues', 1), ('smaller', 1), ('smother', 1), ('petticoats', 1), ('affections', 1), ('jests', 1), ('unborn', 1), ('purgation', 1), ('consist', 1), ('likelihood', 1), ('dukedom', 1), ('treason', 1), ('inherited', 1), ('remorse', 1), ('firm', 1), ('doom', 1), ('outstay', 1), ('girl', 1), ('provoketh', 1), ('smirch', 1), (',in', 1), ('swashing', 1), ('outside', 1), ('mannish', 1), ('cowards', 1), ('clownish', 1), ('banishment', 1), ('co-mates', 1), ('custom', 1), ('woods', 1), ('fang', 1), ('flattery', 1), ('counsellors', 1), ('feelingly', 1), ('persuade', 1), ('toad', 1), ('brooks', 1), ('stubbornness', 1), ('burghers', 1), ('confines', 1), ('haunches', 1), ('gor', 1), ('peeps', 1), ('sequester', 1), ('hunters', 1), ('animal', 1), ('heav', 1), ('bursting', 1), ('marked', 1), ('extremest', 1), ('needless', 1), ('abandon', 1), ('jumps', 1), ('invectively', 1), ('pierceth', 1), ('usurpers', 1), ('sullen', 1), ('sufferance', 1), ('also', 1), ('missing', 1), ('hisperia', 1), ('confesses', 1), ('erheard', 1), ('believes', 1), ('runaways', 1), ('memory', 1), ('overcome', 1), ('priser', 1), ('comely', 1), ('roof', 1), (',no', 1), ('overheard', 1), ('thrifty', 1), ('foster-nurse', 1), ('ravens', 1), ('rebellious', 1), ('liquors', 1), ('unbashful', 1), ('debility', 1), ('frosty', 1), ('blossom', 1), ('debtor', 1), ('travellers', 1), ('sigh', 1), ('actions', 1), ('slightest', 1), ('abruptly', 1), ('searching', 1), ('dugs', 1), ('chopped', 1), ('milked', 1), ('shins', 1), ('betters', 1), ('shear', 1), ('fleeces', 1), ('hospitality', 1), ('sheepcote', 1), ('assuredly', 1), ('feeder', 1), ('eggs', 1), ('stanzo', 1), ('dog-apes', 1), ('beggarly', 1), ('sirs', 1), ('disputable', 1), ('boast', 1), ('warble', 1), ('secking', 1), ('gets', 1), ('leaving', 1), ('banquet', 1), ('mocker', 1), ('transform', 1), ('nowhere', 1), ('bask', 1), ('brain', 1), (',he', 1), ('mangled', 1), ('galled', 1), ('anatomiz', 1), ('cleanse', 1), ('counter', 1), ('mischievous', 1), ('brutish', 1), ('licence', 1), ('party', 1), ('hugely', 1), ('ebb', 1), ('city-woman', 1), ('basest', 1), ('bravery', 1), ('mettle', 1), ('taxing', 1), ('nurture', 1), ('commandment', 1), ('inaccessible', 1), ('bell', 1), ('doe', 1), ('limp', 1), ('bit', 1), ('theatre', 1), ('pageants', 1), ('entrances', 1), ('ages', 1), ('infant', 1), ('mewling', 1), ('puking', 1), ('whining', 1), ('furnace', 1), ('bearded', 1), ('severe', 1), ('slipper', 1), ('pantaloon', 1), ('spectacles', 1), ('bite', 1), ('effigies', 1), ('limn', 1), ('residue', 1), ('expediently', 1), ('thrice-crowned', 1), ('huntress', 1), ('character', 1), ('unexpressive', 1), ('solitary', 1), ('pleaseth', 1), ('plenty', 1), ('philosopher', 1), ('mockable', 1), ('salute', 1), ('courtiers', 1), ('handling', 1), ('grease', 1), ('mutton', 1), ('tarred', 1), ('surgery', 1), ('worms-meat', 1), ('perpend', 1), ('incision', 1), ('labourer', 1), ('she-lamb', 1), ('crooked-pated', 1), ('ram', 1), ('mounted', 1), ('butter-women', 1), ('market', 1), ('sheaf', 1), ('sourest', 1), ('span', 1), ('quintessence', 1), ('charg', 1), ('enlarg', 1), ('synod', 1), ('faces', 1), ('pulpiter', 1), ('homily', 1), ('cried', 1), ('baggage', 1), ('scrippage', 1), ('lamely', 1), ('wondering', 1), ('pythagoras', 1), ('rat', 1), ('trow', 1), ('petitionary', 1), ('whooping', 1), ('caparison', 1), ('inch', 1), ('south-sea', 1), ('stammer', 1), ('narrow-mouth', 1), ('tripped', 1), ('particulars', 1), ('catechism', 1), ('freshly', 1), ('finding', 1), ('curvets', 1), ('unseasonably', 1), ('wi', 1), ('stature', 1), ('cloth', 1), ('studied', 1), ('cipher', 1), ('groaning', 1), ('detect', 1), ('travels', 1), ('se', 1), ('latin', 1), ('gout', 1), ('lacking', 1), ('wasteful', 1), ('softly', 1), ('lawyers', 1), ('vacation', 1), ('kindled', 1), ('finer', 1), ('lectures', 1), ('taxed', 1), ('plants', 1), ('carving', 1), ('hawthorns', 1), ('elegies', 1), ('deifying', 1), ('cage', 1), ('rushes', 1), ('prisoner', 1), ('blue', 1), ('sunken', 1), ('unquestionable', 1), ('ungartered', 1), ('unbanded', 1), ('sleeve', 1), ('shoe', 1), ('demonstrating', 1), ('desolation', 1), ('apter', 1), ('consciences', 1), ('lunacy', 1), ('effeminate', 1), ('changeable', 1), ('apish', 1), ('spit', 1), ('drave', 1), ('nook', 1), ('monastic', 1), ('liver', 1), ('ovid', 1), ('understanding', 1), ('swearest', 1), ('dish', 1), ('sluttishness', 1), ('stagger', 1), ('horn-beasts', 1), ('necessary', 1), ('chapel', 1), ('what-ye-call', 1), ('ild', 1), ('toy', 1), ('wainscot', 1), ('timber', 1), ('browner', 1), ('sanctity', 1), ('pair', 1), ('sisterhood', 1), ('pick-purse', 1), ('concave', 1), ('tapster', 1), ('reckonings', 1), ('asked', 1), ('parentage', 1), ('laughed', 1), ('athwart', 1), ('tilter', 1), ('guides', 1), ('feedeth', 1), ('axe', 1), ('begs', 1), ('sterner', 1), ('injure', 1), ('frail', 1), ('softest', 1), ('butchers', 1), ('impressure', 1), ('wounds', 1), ('afflict', 1), ('mocks', 1), ('exult', 1), ('sale-work', 1), ('od', 1), ('entame', 1), ('south', 1), ('puffing', 1), ('scoffer', 1), ('frowning', 1), ('falser', 1), ('tuft', 1), ('olives', 1), ('ply', 1), ('relief', 1), ('erst', 1), ('irksome', 1), ('gladness', 1), ('harvest', 1), ('carlot', 1), ('talks', 1), ('redness', 1), ('mix', 1)]\n"
     ]
    }
   ],
   "source": [
    "print(rdd_count.reduceByKey(lambda x,y : x+y).sortBy(lambda x: x[1], False).collect())\n",
    "\n",
    "\n",
    "\n"
   ]
  },
  {
   "cell_type": "code",
   "execution_count": 44,
   "id": "8dc785ef-4657-45c6-80bd-3cd50e5763ec",
   "metadata": {},
   "outputs": [
    {
     "name": "stdout",
     "output_type": "stream",
     "text": [
      "[('the', 1708), ('and', 1540), ('to', 1121), ('you', 1080), ('of', 1017), ('that', 771), ('in', 768), ('my', 761), ('is', 695), ('not', 616), ('it', 551), ('me', 542), ('he', 501), ('for', 483), ('your', 468), ('with', 461), ('but', 447), ('his', 436), ('be', 432), ('this', 417), ('have', 407), ('will', 378), ('as', 365), ('so', 360), ('him', 343), ('thou', 338), ('her', 336), ('do', 296), ('what', 287), ('no', 285), ('if', 255), ('shall', 236), ('love', 235), ('all', 235), ('are', 233), ('we', 232), ('by', 219), ('thee', 209), ('thy', 208), ('good', 202), ('she', 196), ('more', 188), ('on', 186), ('our', 185), ('am', 176), ('would', 174), ('was', 174), ('man', 171), ('here', 167), ('well', 163), ('or', 160), ('which', 160), ('now', 159), ('come', 159), ('from', 158), ('when', 156), ('at', 150), ('there', 146), ('sir', 143), ('lord', 142), ('ll', 140), ('know', 139), ('they', 136), ('one', 132), ('than', 131), ('hath', 127), ('then', 125), ('let', 121), ('must', 119), ('yet', 118), ('go', 114), ('upon', 114), ('an', 110), ('them', 109), ('make', 109), ('their', 108), ('see', 108), ('how', 107), ('say', 105), ('can', 104), ('did', 104), ('may', 102), ('were', 102), ('like', 100), ('had', 99), ('should', 95), ('speak', 94), ('us', 92), ('mine', 92), ('most', 90), ('out', 89), ('why', 88), ('some', 88), ('too', 84), ('never', 83), ('such', 83), ('give', 82), ('sweet', 80), ('where', 80), ('take', 78), ('father', 77), ('tis', 77), ('think', 73), ('very', 72), ('these', 71), ('time', 68), ('who', 68), ('look', 66), ('own', 66), ('fair', 66), ('away', 63), ('st', 63), ('eyes', 62), ('ever', 62), ('tell', 61), ('great', 61), ('life', 60), ('much', 60), ('night', 59), ('heart', 57), ('pray', 57), ('duke', 57), ('young', 56), ('honour', 56), ('art', 55), ('cannot', 54), ('doth', 54), ('up', 54), ('therefore', 54), ('poor', 53), ('leave', 52), ('true', 52), ('hear', 51), ('comes', 51), ('again', 50), ('into', 50), ('any', 50), ('every', 49), ('nor', 48), ('son', 48), ('fool', 48), ('madam', 48), ('nothing', 48), ('though', 47), ('could', 47), ('find', 47), ('world', 46), ('old', 46), ('play', 46), ('till', 45), ('made', 45), ('before', 44), ('ay', 44), ('pyramus', 44), ('nature', 44), ('hermia', 43), ('master', 43), ('name', 43), ('thus', 43), ('day', 43), ('er', 42), ('two', 42), ('little', 42), ('better', 42), ('other', 41), ('king', 41), ('nay', 41), ('call', 40), ('down', 40), ('demetrius', 40), ('first', 40), ('lysander', 39), ('heaven', 39), ('god', 39), ('eye', 39), ('gone', 39), ('hast', 38), ('live', 38), ('both', 38), ('youth', 38), ('marry', 38), ('men', 38), ('mother', 38), ('hand', 38), ('many', 38), ('against', 37), ('whose', 37), ('brother', 37), ('grace', 36), ('been', 36), ('through', 36), ('dear', 36), ('might', 36), ('wife', 36), ('bring', 35), ('none', 35), ('death', 35), ('place', 35), ('fortune', 35), ('part', 34), ('ring', 34), ('lady', 33), ('indeed', 33), ('off', 33), ('court', 33), ('full', 32), ('die', 32), ('things', 32), ('bear', 32), ('ere', 32), ('daughter', 31), ('maid', 31), ('gentle', 31), ('fear', 31), ('lion', 30), ('after', 30), ('thine', 30), ('knave', 30), ('another', 30), ('stay', 30), ('mistress', 30), ('truth', 30), ('dead', 30), ('wall', 30), ('thank', 30), ('way', 29), ('truly', 29), ('faith', 29), ('put', 29), ('count', 29), ('moon', 29), ('being', 29), ('follow', 29), ('friends', 29), ('word', 29), ('answer', 29), ('hope', 29), ('since', 29), ('show', 29), ('has', 29), ('myself', 28), ('thisby', 28), ('tongue', 28), ('done', 28), ('noble', 27), ('house', 27), ('meet', 27), ('pity', 27), ('himself', 27), ('those', 27), ('stand', 26), ('helen', 26), ('whom', 26), ('blood', 26), ('under', 26), ('power', 25), ('rather', 25), ('farewell', 25), ('set', 25), ('serve', 25), ('rosalind', 25), ('forth', 25), ('still', 25), ('please', 25), ('does', 25), ('helena', 24), ('best', 24), ('rest', 24), ('fairy', 24), ('hither', 24), ('even', 24), ('else', 24), ('woman', 24), ('bed', 24), ('found', 24), ('right', 23), ('said', 23), ('fall', 23), ('sing', 23), ('further', 23), ('home', 23), ('service', 23), ('keep', 23), ('heard', 22), ('loves', 22), ('believe', 22), ('end', 22), ('hour', 22), ('within', 22), ('without', 22), ('swear', 22), ('company', 22), ('enough', 22), ('get', 22), ('captain', 22), ('long', 21), ('only', 21), ('hate', 21), ('shalt', 21), ('help', 21), ('sure', 21), ('lovers', 21), ('makes', 21), ('sport', 21), ('sake', 21), ('sleep', 21), ('monsieur', 21), ('drum', 21), ('lose', 20), ('business', 20), ('something', 20), ('run', 20), ('tears', 20), ('wood', 20), ('once', 20), ('lie', 20), ('virginity', 20), ('near', 20), ('three', 20), ('prithee', 20), ('athens', 20), ('unto', 20), ('lov', 20), ('face', 20), ('seek', 20), ('hold', 20), ('about', 20), ('wilt', 20), ('together', 20), ('honest', 20), ('turn', 19), ('child', 19), ('pardon', 19), ('head', 19), ('yours', 19), ('boy', 19), ('ask', 19), ('lost', 19), ('told', 19), ('came', 19), ('yourself', 19), ('shepherd', 19), ('seem', 19), ('means', 18), ('ladies', 18), ('use', 18), ('virtue', 18), ('france', 18), ('lordship', 18), ('sight', 18), ('lover', 18), ('knows', 18), ('saw', 18), ('welcome', 18), ('majesty', 18), ('dream', 17), ('kind', 17), ('dost', 17), ('yes', 17), ('withal', 17), ('matter', 17), ('sword', 17), ('desire', 17), ('proud', 17), ('forest', 17), ('thing', 17), ('hands', 17), ('alone', 17), ('prove', 17), ('friend', 17), ('reason', 17), ('athenian', 16), ('thanks', 16), ('gentleman', 16), ('thought', 16), ('high', 16), ('fire', 16), ('kill', 16), ('scorn', 16), ('strange', 16), ('respect', 16), ('oft', 16), ('hence', 16), ('fare', 16), ('eat', 16), ('light', 16), ('words', 16), ('itself', 16), ('woo', 15), ('queen', 15), ('seen', 15), ('far', 15), ('lack', 15), ('says', 15), ('past', 15), ('given', 15), ('strong', 15), ('either', 15), ('beseech', 15), ('same', 15), ('back', 15), ('bottom', 15), ('beard', 15), ('between', 15), ('wrong', 15), ('wish', 15), ('bless', 15), ('wit', 15), ('fellow', 15), ('new', 14), ('mind', 14), ('fly', 14), ('looks', 14), ('mean', 14), ('colour', 14), ('pretty', 14), ('thousand', 14), ('wear', 14), ('living', 14), ('voice', 14), ('worthy', 14), ('thoughts', 14), ('next', 14), ('cheek', 14), ('because', 14), ('to-morrow', 14), ('horse', 14), ('met', 14), ('wind', 14), ('return', 14), ('remember', 14), ('trust', 14), ('content', 14), ('hard', 14), ('knew', 14), ('age', 14), ('methinks', 13), ('confess', 13), ('spoke', 13), ('duty', 13), ('steal', 13), ('ear', 13), ('known', 13), ('change', 13), ('worth', 13), ('neither', 13), ('wonder', 13), ('gave', 13), ('husband', 13), ('honesty', 13), ('rousillon', 13), ('soul', 13), ('along', 13), ('folly', 13), ('break', 13), ('sense', 13), ('note', 13), ('pleasure', 13), ('cousin', 13), ('themselves', 12), ('pale', 12), ('sound', 12), ('haste', 12), ('oaths', 12), ('gold', 12), ('charge', 12), ('wherefore', 12), ('understand', 12), ('common', 12), ('pass', 12), ('bid', 12), ('passion', 12), ('save', 12), ('try', 12), ('sent', 12), ('mouth', 12), ('married', 12), ('greatest', 12), ('enemy', 12), ('send', 12), ('parolles', 12), ('ourselves', 12), ('jaques', 12), ('happy', 12), ('beg', 12), ('choice', 12), ('grow', 12), ('war', 12), ('lay', 12), ('whither', 12), ('food', 12), ('coming', 12), ('joy', 12), ('canst', 12), ('lead', 12), ('lies', 12), ('manners', 12), ('present', 12), ('wherein', 12), ('seems', 12), ('buy', 12), ('holy', 12), ('days', 11), ('spirit', 11), ('melancholy', 11), ('entreat', 11), ('question', 11), ('cold', 11), ('maiden', 11), ('low', 11), ('green', 11), ('fault', 11), ('hang', 11), ('spirits', 11), ('to-night', 11), ('music', 11), ('cause', 11), ('goes', 11), ('worse', 11), ('tender', 11), ('fine', 11), ('mounsieur', 11), ('ten', 11), ('anything', 11), ('knowledge', 11), ('demand', 11), ('fortunes', 11), ('cupid', 11), ('vile', 11), ('parts', 11), ('over', 11), ('anon', 11), ('didst', 11), ('fetch', 11), ('song', 11), ('care', 11), ('virtuous', 11), ('ne', 11), ('almost', 11), ('write', 11), ('begin', 11), ('wise', 11), ('while', 11), ('left', 11), ('sorrow', 11), ('kiss', 11), ('each', 11), ('wars', 11), ('highness', 11), ('general', 11), ('charles', 11), ('news', 10), ('hair', 10), ('vow', 10), ('read', 10), ('speed', 10), ('point', 10), ('merry', 10), ('cat', 10), ('sometime', 10), ('harm', 10), ('ill', 10), ('took', 10), ('oath', 10), ('ass', 10), ('cry', 10), ('feed', 10), ('already', 10), ('country', 10), ('late', 10), ('last', 10), ('courtier', 10), ('dare', 10), ('liege', 10), ('tree', 10), ('fit', 10), ('brief', 10), ('patience', 10), ('vows', 10), ('comfort', 10), ('counsel', 10), ('hearts', 10), ('born', 10), ('talk', 10), ('sit', 10), ('weak', 10), ('yonder', 10), ('remedy', 10), ('need', 10), ('body', 10), ('uncle', 10), ('four', 9), ('verses', 9), ('rose', 9), ('virgin', 9), ('single', 9), ('certain', 9), ('earth', 9), ('fancy', 9), ('women', 9), ('move', 9), ('adieu', 9), ('boys', 9), ('work', 9), ('titania', 9), ('sat', 9), ('mark', 9), ('flower', 9), ('sleeping', 9), ('mercy', 9), ('fond', 9), ('ground', 9), ('tomb', 9), ('en', 9), ('touch', 9), ('weep', 9), ('praise', 9), ('hurt', 9), ('match', 9), ('peace', 9), ('ears', 9), ('remembrance', 9), ('lords', 9), ('heavy', 9), ('command', 9), ('twas', 9), ('soldier', 9), ('just', 9), ('florence', 9), ('letter', 9), ('desires', 9), ('won', 9), ('theseus', 9), ('gracious', 9), ('diana', 9), ('promise', 9), ('skill', 9), ('often', 9), ('masters', 9), ('knight', 9), ('roar', 9), ('rich', 9), ('breath', 9), ('dog', 9), ('valour', 9), ('black', 9), ('troth', 9), ('force', 9), ('tedious', 9), ('report', 9), ('bitter', 9), ('fools', 9), ('foul', 9), ('gods', 9), ('morning', 9), ('times', 9), ('sin', 9), ('quoth', 9), ('sirrah', 9), ('herself', 9), ('thyself', 9), ('orlando', 9), ('quickly', 8), ('law', 8), ('stood', 8), ('prayers', 8), ('beauty', 8), ('midnight', 8), ('ready', 8), ('proceed', 8), ('hide', 8), ('robin', 8), ('proper', 8), ('needs', 8), ('draw', 8), ('pains', 8), ('loved', 8), ('lips', 8), ('mortal', 8), ('longer', 8), ('creature', 8), ('holds', 8), ('approach', 8), ('silence', 8), ('hers', 8), ('moonshine', 8), ('speech', 8), ('dearest', 8), ('state', 8), ('finger', 8), ('calls', 8), ('brave', 8), ('hours', 8), ('excellent', 8), ('gentlemen', 8), ('gift', 8), ('simple', 8), ('weary', 8), ('gallant', 8), ('gentlewoman', 8), ('got', 8), ('mars', 8), ('marriage', 8), ('honourable', 8), ('suit', 8), ('dearly', 8), ('danger', 8), ('letters', 8), ('wrestling', 8), ('phebe', 8), ('consent', 8), ('case', 8), ('modesty', 8), ('choose', 8), ('false', 8), ('favour', 8), ('catch', 8), ('gives', 8), ('peter', 8), ('quince', 8), ('french', 8), ('oberon', 8), ('fell', 8), ('shame', 8), ('credit', 8), ('winter', 8), ('side', 8), ('chide', 8), ('wound', 8), ('desert', 8), ('half', 8), ('methought', 8), ('perceive', 8), ('soon', 8), ('fashion', 8), ('foot', 8), ('coward', 8), ('ways', 8), ('besides', 8), ('purpose', 8), ('natural', 8), ('unless', 8), ('grief', 8), ('younger', 8), ('mere', 8), ('flesh', 8), ('devil', 8), ('bound', 8), ('displeasure', 8), ('reputation', 8), ('stir', 7), ('awake', 7), ('presence', 7), ('yield', 7), ('sister', 7), ('blessed', 7), ('years', 7), ('quick', 7), ('bright', 7), ('measure', 7), ('lovely', 7), ('cut', 7), ('round', 7), ('spare', 7), ('wak', 7), ('ripe', 7), ('prologue', 7), ('enter', 7), ('awhile', 7), ('attend', 7), ('sun', 7), ('mock', 7), ('dark', 7), ('sad', 7), ('damned', 7), ('everything', 7), ('able', 7), ('bloody', 7), ('jove', 7), ('ends', 7), ('loving', 7), ('free', 7), ('shallow', 7), ('cure', 7), ('deed', 7), ('alas', 7), ('adam', 7), ('wrestler', 7), ('bow', 7), ('stol', 7), ('yea', 7), ('judgment', 7), ('bold', 7), ('arm', 7), ('course', 7), ('stands', 7), ('taste', 7), ('hail', 7), ('foolish', 7), ('discretion', 7), ('city', 7), ('fail', 7), ('bush', 7), ('dance', 7), ('laid', 7), ('deny', 7), ('owe', 7), ('lanthorn', 7), ('whisper', 7), ('remain', 7), ('thisbe', 7), ('weigh', 7), ('idle', 7), ('behind', 7), ('glad', 7), ('wast', 7), ('five', 7), ('horns', 7), ('heigh-ho', 7), ('presently', 7), ('royal', 7), ('writ', 7), ('wisdom', 7), ('receive', 7), ('lend', 7), ('whether', 7), ('office', 7), ('taught', 7), ('taken', 7), ('rowland', 7), ('motley', 7), ('wed', 6), ('bosom', 6), ('moonlight', 6), ('grows', 6), ('dies', 6), ('title', 6), ('wishes', 6), ('appear', 6), ('grant', 6), ('thinks', 6), ('wings', 6), ('flight', 6), ('thither', 6), ('assure', 6), ('twere', 6), ('summer', 6), ('perfect', 6), ('quite', 6), ('labour', 6), ('falls', 6), ('laugh', 6), ('herb', 6), ('asleep', 6), ('story', 6), ('questions', 6), ('offence', 6), ('pride', 6), ('throw', 6), ('peril', 6), ('deserve', 6), ('serpent', 6), ('hearing', 6), ('spoken', 6), ('worship', 6), ('pay', 6), ('offend', 6), ('lest', 6), ('counterfeit', 6), ('ye', 6), ('strength', 6), ('shake', 6), ('suffer', 6), ('delay', 6), ('villain', 6), ('dian', 6), ('dispatch', 6), ('saint', 6), ('possible', 6), ('imagination', 6), ('finds', 6), ('bravely', 6), ('carry', 6), ('warrant', 6), ('nose', 6), ('scar', 6), ('kept', 6), ('native', 6), ('corrupt', 6), ('strive', 6), ('hose', 6), ('sworn', 6), ('lawful', 6), ('cargo', 6), ('hippolyta', 6), ('mirth', 6), ('lives', 6), ('cheer', 6), ('want', 6), ('sharp', 6), ('broke', 6), ('air', 6), ('dote', 6), ('shine', 6), ('monstrous', 6), ('undertake', 6), ('crowns', 6), ('tall', 6), ('fairies', 6), ('land', 6), ('knowing', 6), ('fresh', 6), ('rude', 6), ('hundred', 6), ('sees', 6), ('having', 6), ('strike', 6), ('unworthy', 6), ('sick', 6), ('wide', 6), ('servant', 6), ('double', 6), ('takes', 6), ('courtesy', 6), ('becomes', 6), ('hated', 6), ('among', 6), ('cobweb', 6), ('mad', 6), ('argument', 6), ('ho', 6), ('people', 6), ('health', 6), ('worn', 6), ('forward', 6), ('rough', 6), ('fox', 6), ('whilst', 6), ('second', 6), ('virtues', 6), ('bertram', 6), ('clock', 6), ('reasons', 6), ('learned', 6), ('banish', 6), ('hadst', 6), ('pilgrim', 6), ('instance', 6), ('coz', 6), ('oliver', 6), ('nuptial', 5), ('behold', 5), ('companion', 5), ('egeus', 5), ('privilege', 5), ('endure', 5), ('betwixt', 5), ('render', 5), ('yourselves', 5), ('cross', 5), ('sickness', 5), ('making', 5), ('pursue', 5), ('dwell', 5), ('morrow', 5), ('painted', 5), ('mar', 5), ('thorough', 5), ('wild', 5), ('perforce', 5), ('flowers', 5), ('puck', 5), ('jest', 5), ('stretch', 5), ('fill', 5), ('beat', 5), ('chase', 5), ('delight', 5), ('wake', 5), ('forgot', 5), ('meaning', 5), ('until', 5), ('keen', 5), ('brings', 5), ('pluck', 5), ('casement', 5), ('chink', 5), ('heartily', 5), ('commend', 5), ('dull', 5), ('sky', 5), ('hounds', 5), ('goddess', 5), ('join', 5), ('feel', 5), ('medicine', 5), ('although', 5), ('scratch', 5), ('disgrace', 5), ('poet', 5), ('tricks', 5), ('intents', 5), ('goose', 5), ('mend', 5), ('bequeathed', 5), ('gifts', 5), ('traitors', 5), ('tax', 5), ('particular', 5), ('valiant', 5), ('year', 5), ('paris', 5), ('act', 5), ('search', 5), ('absent', 5), ('success', 5), ('attempt', 5), ('language', 5), ('bought', 5), ('lafeu', 5), ('guess', 5), ('twenty', 5), ('wiser', 5), ('blush', 5), ('em', 5), ('scarce', 5), ('instant', 5), ('recovered', 5), ('le', 5), ('keeps', 5), ('deceived', 5), ('witness', 5), ('hereafter', 5), ('prince', 5), ('banished', 5), ('wouldst', 5), ('sans', 5), ('wonderful', 5), ('feigning', 5), ('bond', 5), ('estate', 5), ('spite', 5), ('hell', 5), ('town', 5), ('graces', 5), ('wont', 5), ('thence', 5), ('qualities', 5), ('intelligence', 5), ('tyrant', 5), ('written', 5), ('rehearse', 5), ('grove', 5), ('smile', 5), ('whole', 5), ('wanton', 5), ('forsooth', 5), ('brook', 5), ('vain', 5), ('sweat', 5), ('flock', 5), ('nine', 5), ('stars', 5), ('fiery', 5), ('temple', 5), ('wicked', 5), ('repent', 5), ('spent', 5), ('gentleness', 5), ('stomach', 5), ('six', 5), ('fearful', 5), ('chamber', 5), ('pease-blossom', 5), ('acquaintance', 5), ('mustard-seed', 5), ('messenger', 5), ('sort', 5), ('fears', 5), ('apparel', 5), ('guilty', 5), ('pure', 5), ('friendship', 5), ('seeming', 5), ('parted', 5), ('doubt', 5), ('esteem', 5), ('behalf', 5), ('legs', 5), ('straight', 5), ('jewel', 5), ('offer', 5), ('naught', 5), ('plain', 5), ('trusty', 5), ('carries', 5), ('less', 5), ('issue', 5), ('going', 5), ('de', 5), ('undone', 5), ('blow', 5), ('hangs', 5), ('liking', 5), ('sovereign', 5), ('humble', 5), ('florentine', 5), ('aid', 5), ('contempt', 5), ('disdain', 5), ('acquaint', 5), ('faults', 5), ('express', 5), ('fits', 5), ('patient', 5), ('whence', 5), ('whipped', 5), ('broken', 5), ('justice', 5), ('travel', 5), ('rt', 5), ('wert', 5), ('twill', 5), ('disposition', 5), ('inform', 5), ('camp', 5), ('mightily', 5), ('paper', 5), ('trees', 5), ('apace', 4), ('pomp', 4), ('due', 4), ('figure', 4), ('thrice', 4), ('protest', 4), ('private', 4), ('employ', 4), ('short', 4), ('seven', 4), ('observance', 4), ('souls', 4), ('motion', 4), ('minds', 4), ('glass', 4), ('bosoms', 4), ('forswear', 4), ('humour', 4), ('vein', 4), ('fright', 4), ('dove', 4), ('yellow', 4), ('wander', 4), ('brier', 4), ('swifter', 4), ('sphere', 4), ('dew', 4), ('mistake', 4), ('shape', 4), ('shrewd', 4), ('sometimes', 4), ('beguile', 4), ('pour', 4), ('cries', 4), ('sea', 4), ('field', 4), ('anger', 4), ('increase', 4), ('following', 4), ('injury', 4), ('chaste', 4), ('beams', 4), ('invisible', 4), ('commit', 4), ('fie', 4), ('garments', 4), ('effect', 4), ('durst', 4), ('wheresoe', 4), ('flout', 4), ('alack', 4), ('action', 4), ('killed', 4), ('eight', 4), ('consider', 4), ('shield', 4), ('neck', 4), ('toward', 4), ('hark', 4), ('truest', 4), ('dares', 4), ('bird', 4), ('rate', 4), ('scene', 4), ('answered', 4), ('sweep', 4), ('murder', 4), ('briers', 4), (',that', 4), ('band', 4), ('aside', 4), ('swore', 4), ('turns', 4), ('princess', 4), ('enterprise', 4), ('parting', 4), ('precious', 4), ('speaks', 4), ('excuse', 4), ('thief', 4), ('cheeks', 4), ('perform', 4), ('discord', 4), ('bred', 4), ('holla', 4), ('intent', 4), ('discourse', 4), ('sixpence', 4), ('therein', 4), ('stop', 4), ('hole', 4), ('stones', 4), ('lately', 4), ('promises', 4), ('goodness', 4), ('above', 4), ('ambition', 4), ('evils', 4), ('loss', 4), ('cap', 4), ('disaster', 4), ('diest', 4), ('space', 4), ('equal', 4), ('paid', 4), ('ransom', 4), ('invention', 4), ('howe', 4), ('encounter', 4), ('haply', 4), ('blame', 4), ('humbly', 4), ('horses', 4), ('ended', 4), ('promised', 4), ('heir', 4), ('grave', 4), ('wealth', 4), ('money', 4), ('nut', 4), ('fain', 4), ('deal', 4), ('suddenly', 4), ('acquainted', 4), ('altogether', 4), ('stocks', 4), ('velvet', 4), ('smell', 4), ('warp', 4), ('arden', 4), ('ta', 4), ('wisely', 4), ('cast', 4), ('verse', 4), ('ducdame', 4), ('slow', 4), ('doing', 4), ('held', 4), ('faint', 4), ('rank', 4), ('dotes', 4), ('fast', 4), ('tale', 4), ('swift', 4), ('teach', 4), ('burn', 4), ('lark', 4), ('buds', 4), ('affection', 4), ('stranger', 4), ('luck', 4), ('deep', 4), ('base', 4), ('eyne', 4), ('generally', 4), ('actors', 4), ('cruel', 4), ('wandering', 4), ('small', 4), ('tailor', 4), ('request', 4), ('elves', 4), ('revels', 4), ('heed', 4), ('sprite', 4), ('drink', 4), ('tarry', 4), ('revenge', 4), ('blest', 4), ('gait', 4), ('perchance', 4), ('aim', 4), ('waking', 4), ('charm', 4), ('flies', 4), ('sex', 4), ('crow', 4), ('lullaby', 4), ('lulla', 4), ('forbid', 4), ('monster', 4), ('shows', 4), ('sooth', 4), ('manner', 4), ('mayst', 4), ('breast', 4), ('device', 4), ('thorns', 4), ('cue', 4), ('red', 4), ('afraid', 4), ('view', 4), ('hop', 4), ('wait', 4), ('advantage', 4), ('fellows', 4), ('devise', 4), ('henceforth', 4), ('cost', 4), ('derision', 4), ('white', 4), ('snow', 4), ('exploit', 4), ('pays', 4), ('recompense', 4), ('brought', 4), ('greater', 4), ('went', 4), ('dar', 4), ('rail', 4), ('property', 4), ('exile', 4), ('forester', 4), ('fled', 4), ('fallen', 4), ('top', 4), ('arms', 4), ('terms', 4), ('hercules', 4), ('observe', 4), ('enemies', 4), ('called', 4), ('simply', 4), ('deserved', 4), ('easy', 4), ('ease', 4), ('laughter', 4), ('places', 4), ('merit', 4), ('saucy', 4), ('beginning', 4), ('beast', 4), ('stain', 4), ('fathers', 4), ('dust', 4), ('children', 4), ('safety', 4), ('star', 4), ('buried', 4), ('desperate', 4), ('goodly', 4), ('wears', 4), ('shut', 4), ('leisure', 4), ('lacks', 4), ('blessing', 4), ('deer', 4), ('sentence', 4), ('bad', 4), ('token', 4), ('reading', 4), ('gain', 4), ('owes', 4), ('reports', 4), ('traitor', 4), ('physic', 4), ('breeding', 4), ('leg', 4), ('learn', 4), ('thankful', 4), ('shouldst', 4), ('stream', 4), ('thrive', 4), ('slave', 4), ('solemn', 4), ('dissuade', 4), ('burden', 4), ('kindly', 4), ('heels', 4), ('entertainment', 4), ('main', 4), ('betray', 4), ('county', 4), ('interpreter', 4), ('breaking', 4), ('merely', 4), ('condition', 4), ('dumain', 4), ('remains', 4), ('thrown', 4), ('wretched', 4), ('youngest', 4), ('wrestle', 4), ('weeping', 4), ('pasture', 4), ('church', 4), ('fruit', 4), ('lean', 4), ('holly', 4), ('audrey', 4), ('silvius', 4), ('step', 3), ('revenue', 3), ('trifles', 3), ('ancient', 3), ('plead', 3), ('worst', 3), ('befall', 3), ('whe', 3), ('nun', 3), ('aye', 3), ('pilgrimage', 3), ('thorn', 3), ('scornful', 3), ('rain', 3), ('smooth', 3), ('trial', 3), ('league', 3), ('translated', 3), ('gates', 3), ('holding', 3), ('felt', 3), ('pain', 3), ('comedy', 3), ('players', 3), ('flute', 3), ('tom', 3), ('snout', 3), ('snug', 3), ('wits', 3), ('gently', 3), ('palace', 3), ('wants', 3), ('changeling', 3), ('jealous', 3), ('clear', 3), ('creep', 3), ('milk', 3), ('housewife', 3), ('fat', 3), ('room', 3), ('forsworn', 3), ('corin', 3), ('amorous', 3), ('wedded', 3), ('glimmering', 3), ('ox', 3), ('tread', 3), ('human', 3), ('mortals', 3), ('odorous', 3), ('evil', 3), ('madly', 3), ('minutes', 3), ('spurn', 3), ('beasts', 3), ('hind', 3), ('fight', 3), ('whereon', 3), ('hateful', 3), ('salt', 3), ('marvel', 3), ('compare', 3), ('convenient', 3), ('plot', 3), ('sayst', 3), ('ought', 3), ('dreadful', 3), ('calendar', 3), ('open', 3), ('rough-cast', 3), ('brake', 3), ('actor', 3), ('hue', 3), ('eke', 3), ('ninny', 3), ('cuckoo', 3), ('courteous', 3), ('water', 3), ('bower', 3), ('chastity', 3), ('close', 3), ('creeping', 3), ('senseless', 3), ('led', 3), ('slain', 3), ('bounds', 3), ('adder', 3), ('tartar', 3), ('fee', 3), ('appears', 3), ('rivals', 3), ('manly', 3), ('sitting', 3), ('cherry', 3), ('friendly', 3), ('rare', 3), ('hung', 3), ('fortunate', 3), ('carried', 3), ('loose', 3), ('poison', 3), ('erewhile', 3), ('earnest', 3), ('answers', 3), ('nails', 3), ('lower', 3), ('evermore', 3), ('school', 3), ('shadows', 3), ('frame', 3), ('brows', 3), ('gate', 3), ('length', 3), ('comforts', 3), ('large', 3), ('honey-bag', 3), ('bones', 3), ('hay', 3), ('shade', 3), ('musical', 3), ('pursuit', 3), ('solemnity', 3), ('concord', 3), ('feast', 3), ('latter', 3), ('hanged', 3), ('beards', 3), ('plays', 3), ('brow', 3), ('unknown', 3), ('mighty', 3), ('kinsman', 3), ('ceremony', 3), ('ice', 3), ('shed', 3), ('despite', 3), ('points', 3), ('played', 3), ('secretly', 3), ('stone', 3), ('aweary', 3), ('fairest', 3), ('balance', 3), ('epilogue', 3), ('profession', 3), ('narbon', 3), ('unclean', 3), ('advise', 3), ('plague', 3), ('capable', 3), ('virgins', 3), ('humility', 3), ('especially', 3), ('backward', 3), ('businesses', 3), ('uses', 3), ('reported', 3), ('freely', 3), ('obey', 3), ('always', 3), ('beggar', 3), ('wickedness', 3), ('kisses', 3), ('sings', 3), ('twould', 3), ('oppress', 3), ('daughter-in-law', 3), ('mystery', 3), ('religious', 3), ('soldiers', 3), ('italy', 3), ('store', 3), ('gainst', 3), ('minister', 3), ('happiness', 3), ('infinite', 3), ('deserv', 3), ('lent', 3), ('lip', 3), ('merrily', 3), ('modern', 3), ('youthful', 3), ('blushes', 3), ('wine', 3), ('distinction', 3), ('derive', 3), ('oblivion', 3), ('produce', 3), ('claims', 3), ('understood', 3), ('scarf', 3), ('beaten', 3), ('scurvy', 3), ('hush', 3), ('strangers', 3), ('teeth', 3), ('getting', 3), ('win', 3), ('provide', 3), ('officer', 3), ('nobly', 3), ('become', 3), ('pleas', 3), ('eldest', 3), ('malice', 3), ('removed', 3), ('caught', 3), ('purse', 3), ('boskos', 3), ('seventeen', 3), ('begins', 3), ('ancestors', 3), ('deeds', 3), ('stronger', 3), ('rogues', 3), ('rotten', 3), ('innocent', 3), ('rime', 3), ('price', 3), ('safest', 3), ('surety', 3), ('unhappy', 3), ('metaphor', 3), ('distress', 3), ('threw', 3), ('testament', 3), ('growth', 3), ('celia', 3), ('challenger', 3), ('suits', 3), ('tongues', 3), ('bears', 3), ('doublet', 3), ('touchstone', 3), ('forbear', 3), ('drops', 3), ('sheep', 3), ('ewes', 3), ('complexion', 3), ('cured', 3), ('poetry', 3), ('draws', 3), ('key', 3), ('vexation', 3), ('window', 3), ('cunning', 3), ('according', 3), ('compos', 3), ('worthier', 3), ('aught', 3), ('darkness', 3), ('sighs', 3), ('golden', 3), ('venus', 3), ('melody', 3), ('sway', 3), ('visage', 3), ('wing', 3), ('herein', 3), ('tear', 3), ('prison', 3), ('fates', 3), ('ah', 3), ('starveling', 3), ('joiner', 3), ('discharge', 3), ('bill', 3), ('coats', 3), ('favours', 3), ('savours', 3), ('indian', 3), ('suck', 3), ('empty', 3), ('floods', 3), ('crown', 3), ('conceive', 3), ('civil', 3), ('shot', 3), ('western', 3), ('purple', 3), ('juice', 3), ('conference', 3), ('nymph', 3), ('sleeps', 3), ('disdainful', 3), ('minute', 3), ('nigh', 3), ('true-love', 3), ('knit', 3), ('lying', 3), ('amen', 3), ('press', 3), ('wash', 3), ('season', 3), ('leads', 3), ('abus', 3), ('surfeit', 3), ('sweetest', 3), ('address', 3), ('pat', 3), ('marvellous', 3), ('afeard', 3), ('odious', 3), ('noise', 3), ('tire', 3), ('knavery', 3), ('flowery', 3), ('grapes', 3), ('crop', 3), ('weeps', 3), ('spy', 3), ('moment', 3), ('stern', 3), ('spend', 3), ('fierce', 3), ('slight', 3), ('fray', 3), ('divine', 3), ('kissing', 3), ('waste', 3), ('persever', 3), ('compel', 3), ('height', 3), ('curst', 3), ('hie', 3), ('cover', 3), ('error', 3), ('clouds', 3), ('troop', 3), ('whip', 3), ('pace', 3), ('shown', 3), ('loath', 3), ('hairy', 3), ('seeking', 3), ('loathe', 3), ('chiding', 3), ('heads', 3), ('bells', 3), ('horn', 3), ('judge', 3), ('soft', 3), ('early', 3), (',and', 3), ('ballad', 3), ('clean', 3), ('antique', 3), ('brains', 3), ('pen', 3), ('tragical', 3), ('loud', 3), ('pick', 3), ('least', 3), ('moral', 3), ('lime', 3), ('sunder', 3), ('mantle', 3), ('blade', 3), ('died', 3), ('discharged', 3), ('strife', 3), ('candle', 3), ('dole', 3), ('dumb', 3), ('bury', 3), ('door', 3), ('offended', 3), ('liar', 3), ('gerard', 3), ('education', 3), ('fairer', 3), ('commendations', 3), ('furnish', 3), ('defence', 3), ('sanctified', 3), ('principal', 3), ('withered', 3), ('advice', 3), ('certainty', 3), ('soldiership', 3), ('wore', 3), ('to-day', 3), ('judgments', 3), ('physician', 3), ('isbel', 3), ('sooner', 3), ('big', 3), ('difference', 3), ('th', 3), ('experience', 3), ('bestow', 3), ('sons', 3), ('bidding', 3), ('seldom', 3), ('profess', 3), ('courage', 3), ('whipping', 3), ('heavenly', 3), ('fore', 3), ('english', 3), ('dower', 3), ('careless', 3), ('birth', 3), ('priest', 3), ('drown', 3), ('probable', 3), ('dial', 3), ('spurs', 3), ('clothes', 3), ('writes', 3), ('sorry', 3), ('affairs', 3), ('limbs', 3), ('whoever', 3), ('effected', 3), ('constraint', 3), ('misery', 3), ('frenchman', 3), ('deliver', 3), ('stratagem', 3), ('pox', 3), ('ones', 3), ('faithfully', 3), ('cozen', 3), ('keeping', 3), ('fifty', 3), ('swears', 3), ('army', 3), ('forehead', 3), ('foolery', 3), ('whate', 3), ('villanous', 3), ('bare', 3), ('forget', 3), ('stays', 3), ('lands', 3), ('envious', 3), ('pancakes', 3), ('mustard', 3), ('beau', 3), ('wrestled', 3), ('lame', 3), ('coat', 3), ('giving', 3), ('lusty', 3), ('lin', 3), ('barks', 3), ('sawest', 3), ('feet', 3), ('ambles', 3), ('shepherdess', 3), ('poetical', 3), ('dowager', 2), ('withering', 2), ('nights', 2), ('silver', 2), ('nimble', 2), ('rimes', 2), ('impression', 2), ('rings', 2), ('messengers', 2), ('form', 2), ('wax', 2), ('wanting', 2), ('concern', 2), ('society', 2), ('cloister', 2), ('barren', 2), ('fruitless', 2), ('disobedience', 2), ('altar', 2), ('beauteous', 2), ('spotted', 2), ('inconstant', 2), ('concerns', 2), ('chance', 2), ('roses', 2), ('engag', 2), ('siege', 2), ('shadow', 2), ('confusion', 2), ('arrow', 2), ('tuneable', 2), ('frown', 2), ('smiles', 2), ('follows', 2), ('unfold', 2), ('pearl', 2), ('grass', 2), ('enrich', 2), ('scrip', 2), ('scroll', 2), ('interlude', 2), ('names', 2), ('weaver', 2), ('kills', 2), ('chief', 2), ('ercles', 2), ('bellows-mender', 2), ('tinker', 2), ('fitted', 2), ('gentleman-like', 2), ('orange-tawny', 2), ('con', 2), ('oak', 2), ('dale', 2), ('spots', 2), ('fountain', 2), ('square', 2), ('maidens', 2), ('bob', 2), ('waxen', 2), ('wasted', 2), ('pipes', 2), ('prosperity', 2), ('jealousy', 2), ('falling', 2), ('ploughman', 2), ('quaint', 2), ('undistinguishable', 2), ('icy', 2), ('wonted', 2), ('amend', 2), ('neptune', 2), ('voyage', 2), ('shun', 2), ('haunts', 2), ('downright', 2), ('dolphin', 2), ('spheres', 2), ('couldst', 2), ('watch', 2), ('liquor', 2), ('page', 2), ('slay', 2), ('fawn', 2), ('neglect', 2), ('hatred', 2), ('wildest', 2), ('wrongs', 2), ('bank', 2), ('blows', 2), ('woodbine', 2), ('skin', 2), ('weed', 2), ('fantasies', 2), ('cock', 2), ('third', 2), ('nightly', 2), ('wonders', 2), ('thorny', 2), ('snail', 2), ('&c', 2), ('languish', 2), ('turf', 2), ('innocence', 2), ('beshrew', 2), ('bachelor', 2), ('loyalty', 2), ('despised', 2), ('haunt', 2), ('richest', 2), ('refus', 2), ('prey', 2), ('stage', 2), ('bully', 2), ('abide', 2), ('parlous', 2), ('saying', 2), ('chamber-window', 2), ('person', 2), ('fingers', 2), ('cranny', 2), ('perhaps', 2), ('haunted', 2), ('changed', 2), ('walk', 2), ('sparrow', 2), ('neighbours', 2), ('jewels', 2), ('walks', 2), ('arise', 2), ('courtesies', 2), ('bread', 2), ('snatch', 2), ('sleeves', 2), ('hats', 2), ('distracted', 2), ('straightway', 2), ('love-juice', 2), ('shoes', 2), ('plunge', 2), ('knee', 2), ('murderer', 2), ('cur', 2), ('bankrupt', 2), ('ensue', 2), ('pageant', 2), ('nativity', 2), ('eastern', 2), ('seal', 2), ('unkind', 2), ('chid', 2), ('childhood', 2), ('created', 2), ('warbling', 2), ('partition', 2), ('wink', 2), ('partly', 2), ('tame', 2), (',o', 2), ('urg', 2), ('personage', 2), ('quiet', 2), ('acorn', 2), ('wilfully', 2), ('crush', 2), ('vision', 2), ('shines', 2), ('groves', 2), ('defil', 2), ('wot', 2), ('daylight', 2), ('east', 2), ('heavens', 2), ('humble-bee', 2), ('dried', 2), ('meeting', 2), ('peep', 2), ('faithful', 2), ('trip', 2), ('observation', 2), ('thereby', 2), ('melted', 2), ('couples', 2), ('mountains', 2), ('recount', 2), ('stolen', 2), ('courageous', 2), ('utter', 2), ('madmen', 2), ('apprehend', 2), ('compact', 2), ('frantic', 2), ('egypt', 2), ('admirable', 2), ('sports', 2), ('rage', 2), ('learning', 2), ('hot', 2), ('simpleness', 2), ('accent', 2), ('chain', 2), ('gentles', 2), ('curs', 2), ('deceiving', 2), ('procrus', 2), ('tide', 2), ('mouse', 2), ('thorn-bush', 2), ('shining', 2), ('furies', 2), ('lik', 2), ('ace', 2), ('spied', 2), ('silk', 2), ('paths', 2), ('team', 2), ('several', 2), ('owner', 2), ('slumber', 2), ('amends', 2), ('ward', 2), ('necessity', 2), ('physicians', 2), ('practices', 2), ('lived', 2), ('notorious', 2), ('approaches', 2), ('share', 2), ('check', 2), ('comfortable', 2), ('line', 2), ('sanctify', 2), ('fix', 2), ('politic', 2), ('metal', 2), ('feeding', 2), ('likes', 2), ('pear', 2), ('poorer', 2), ('baser', 2), ('mounts', 2), ('suppose', 2), ('florentines', 2), ('approv', 2), ('frank', 2), ('inherit', 2), ('below', 2), ('creatures', 2), ('plausive', 2), ('flame', 2), ('honey', 2), ('fam', 2), ('months', 2), ('dearer', 2), ('ladyship', 2), ('drives', 2), ('touched', 2), ('start', 2), ('groan', 2), ('wet', 2), ('vassal', 2), ('gross', 2), ('suspected', 2), ('whereof', 2), ('hurts', 2), ('legacy', 2), ('attendants', 2), ('frenchmen', 2), ('higher', 2), ('beware', 2), ('commanded', 2), ('regiment', 2), ('tidings', 2), ('kneel', 2), ('seriously', 2), ('deliverance', 2), ('praises', 2), ('towards', 2), ('bade', 2), ('self', 2), ('enforce', 2), ('modest', 2), ('babes', 2), ('reap', 2), ('reward', 2), ('impossibility', 2), ('saves', 2), ('helping', 2), ('serv', 2), ('fed', 2), ('easily', 2), ('rush', 2), ('size', 2), ('thick', 2), ('commendation', 2), ('showing', 2), ('acknowledge', 2), ('tooth', 2), ('attends', 2), ('bestowing', 2), ('forsake', 2), ('restor', 2), ('shuns', 2), ('mute', 2), ('dislik', 2), ('acts', 2), ('debosh', 2), ('damn', 2), ('praised', 2), ('contract', 2), ('recantation', 2), ('style', 2), ('contrary', 2), ('bondage', 2), ('authority', 2), ('convenience', 2), ('kernel', 2), ('traveller', 2), ('cares', 2), ('fields', 2), ('compell', 2), ('leaped', 2), ('foes', 2), ('quarrel', 2), ('ling', 2), ('isbels', 2), ('knocked', 2), ('distance', 2), ('unfortunate', 2), ('deserves', 2), ('hourly', 2), ('loses', 2), ('stings', 2), ('diverted', 2), ('prevented', 2), ('suffice', 2), ('earl', 2), ('tokens', 2), ('lust', 2), ('terrible', 2), ('succession', 2), ('grand', 2), ('ample', 2), ('surely', 2), ('yond', 2), ('bubble', 2), ('quality', 2), ('bind', 2), ('forfeit', 2), ('sticks', 2), ('subscribe', 2), ('fish', 2), ('week', 2), ('embossed', 2), ('wondrous', 2), ('borrow', 2), ('instruct', 2), ('sorts', 2), ('thirty', 2), ('secrets', 2), ('muffled', 2), ('safely', 2), ('conditions', 2), ('opinion', 2), ('longing', 2), ('obloquy', 2), ('rebellion', 2), ('overture', 2), ('verity', 2), ('mingled', 2), ('convoy', 2), ('fearing', 2), ('usurping', 2), ('confessed', 2), ('knot', 2), ('wearing', 2), ('revolt', 2), ('sadness', 2), ('lascivious', 2), ('scores', 2), ('offences', 2), ('remainder', 2), ('cardecu', 2), ('retreat', 2), ('lackey', 2), ('impudent', 2), ('nation', 2), ('braggart', 2), ('groans', 2), ('looked', 2), ('exceeding', 2), ('muddied', 2), ('allow', 2), ('survey', 2), ('reference', 2), ('strikes', 2), ('widower', 2), ('relieve', 2), ('pleases', 2), ('wrapp', 2), ('mak', 2), ('deadly', 2), ('wives', 2), ('sickens', 2), ('bail', 2), ('quit', 2), ('feels', 2), ('sayest', 2), ('profit', 2), ('penury', 2), ('first-born', 2), ('albeit', 2), ('nearer', 2), ('throat', 2), ('beloved', 2), ('foil', 2), ('treacherous', 2), ('benefits', 2), ('ill-favouredly', 2), ('lineaments', 2), ('whetstone', 2), ('swearing', 2), ('frederick', 2), ('foolishly', 2), ('presents', 2), ('ribs', 2), ('entreated', 2), ('princes', 2), ('overthrown', 2), ('weaker', 2), ('niece', 2), ('hem', 2), ('public', 2), ('coupled', 2), ('aliena', 2), ('books', 2), ('sum', 2), ('flux', 2), ('greasy', 2), ('wherever', 2), ('fourscore', 2), ('ware', 2), ('graze', 2), ('cote', 2), ('weather', 2), ('savage', 2), ('inland', 2), ('touches', 2), ('boughs', 2), ('knoll', 2), ('sighing', 2), ('jolly', 2), ('freeze', 2), ('twelvemonth', 2), ('complain', 2), ('tar', 2), ('cattle', 2), ('graff', 2), ('chin', 2), ('divers', 2), ('trots', 2), ('term', 2), ('fantastical', 2), ('goats', 2), ('feign', 2), ('covered', 2), ('judas', 2), ('breaks', 2), ('murderers', 2), ('dame', 2), ('philostrate', 2), ('complaint', 2), ('sung', 2), ('fantasy', 2), ('stubborn', 2), ('immediately', 2), ('provided', 2), ('disfigure', 2), ('livery', 2), ('distill', 2), ('patent', 2), ('yoke', 2), ('consents', 2), ('sovereignty', 2), ('everlasting', 2), ('nedar', 2), ('yields', 2), ('belike', 2), ('history', 2), ('destiny', 2), ('dreams', 2), ('aunt', 2), ('respects', 2), ('morn', 2), ('simplicity', 2), ('sail', 2), ('number', 2), ('appointed', 2), ('bated', 2), ('paradise', 2), ('ph', 2), ('wat', 2), ('ry', 2), ('devis', 2), ('dignity', 2), ('blind', 2), ('beguil', 2), ('game', 2), ('heat', 2), ('duchess', 2), ('piece', 2), ('nick', 2), ('audience', 2), ('francis', 2), ('thisne', 2), ('study', 2), ('meantime', 2), ('hill', 2), ('flood', 2), ('cowslip', 2), ('wrath', 2), ('starlight', 2), ('knavish', 2), ('bootless', 2), ('wanderer', 2), ('likeness', 2), ('gossip', 2), ('telling', 2), ('slip', 2), ('merrier', 2), ('rash', 2), ('playing', 2), ('corn', 2), ('glance', 2), ('spring', 2), ('brawls', 2), ('disturb', 2), ('attain', 2), ('drowned', 2), ('morris', 2), ('seasons', 2), ('alter', 2), ('mockery', 2), ('angry', 2), ('debate', 2), ('parents', 2), ('votaress', 2), ('order', 2), ('intend', 2), ('patiently', 2), ('dulcet', 2), ('grew', 2), ('quench', 2), ('imperial', 2), ('eyelids', 2), ('drop', 2), ('wolf', 2), ('busy', 2), ('iron', 2), ('spaniel', 2), ('pursues', 2), ('mild', 2), ('cowardice', 2), ('mischief', 2), ('musk-roses', 2), ('dances', 2), ('leathern', 2), ('philomel', 2), ('worm', 2), ('seest', 2), ('pard', 2), ('pillow', 2), ('prayer', 2), ('ugly', 2), ('dissembling', 2), ('deceive', 2), ('powers', 2), ('quake', 2), ('remov', 2), ('swound', 2), ('whit', 2), ('tremble', 2), ('loam', 2), ('ninus', 2), ('hound', 2), ('hog', 2), ('angel', 2), ('enamour', 2), ('tend', 2), ('airy', 2), ('fan', 2), ('nod', 2), ('peascod', 2), ('kindred', 2), ('tie', 2), ('awak', 2), ('curse', 2), ('mood', 2), ('mistaken', 2), ('misprision', 2), ('hit', 2), ('sink', 2), ('mistook', 2), ('bliss', 2), ('bent', 2), ('aby', 2), ('function', 2), ('sides', 2), ('bodies', 2), ('heraldry', 2), ('hates', 2), ('setting', 2), ('miserable', 2), ('absence', 2), ('grown', 2), ('truer', 2), ('puppet', 2), ('reach', 2), ('stealth', 2), ('threaten', 2), ('coil', 2), ('amaz', 2), ('knaveries', 2), ('leaden', 2), ('eyeballs', 2), ('date', 2), ('whiles', 2), ('release', 2), ('drawn', 2), ('faster', 2), ('woe', 2), ('apply', 2), ('nought', 2), ('signior', 2), ('barber', 2), ('reasonable', 2), ('dry', 2), ('bottle', 2), ('swell', 2), ('undo', 2), ('swain', 2), ('visions', 2), ('rock', 2), ('amity', 2), ('jollity', 2), ('crete', 2), ('bay', 2), ('sparta', 2), ('rite', 2), ('couple', 2), (',my', 2), ('object', 2), (',but', 2), ('peradventure', 2), ('paramour', 2), ('pare', 2), ('onions', 2), ('cool', 2), ('comprehends', 2), ('forms', 2), ('constancy', 2), ('evening', 2), ('lazy', 2), ('battle', 2), ('conn', 2), ('amiss', 2), ('greet', 2), ('dagger', 2), ('drew', 2), ('sinister', 2), ('moans', 2), ('shafalus', 2), ('imagine', 2), ('horned', 2), ('snuff', 2), ('thread', 2), ('quail', 2), ('confound', 2), ('pap', 2), ('recover', 2), ('sisters', 2), ('bergomask', 2), ('blamed', 2), ('garter', 2), ('glow', 2), ('puts', 2), ('lets', 2), ('triple', 2), ('create', 2), ('scape', 2), ('worthiness', 2), ('disease', 2), ('admiringly', 2), ('hopes', 2), ('sorrows', 2), ('affect', 2), ('empire', 2), ('servants', 2), ('table', 2), ('trick', 2), ('bleak', 2), ('war-like', 2), ('blown', 2), ('mothers', 2), ('breeds', 2), ('peevish', 2), ('eats', 2), ('effects', 2), ('running', 2), ('composition', 2), ('ignorance', 2), ('fated', 2), ('pull', 2), ('miss', 2), ('continue', 2), ('vouch', 2), ('credence', 2), ('denied', 2), ('tuscan', 2), ('bravest', 2), ('bitterness', 2), ('humbled', 2), ('copy', 2), ('approof', 2), ('scatter', 2), ('began', 2), ('oil', 2), ('endeavours', 2), ('requires', 2), ('re', 2), ('knaves', 2), ('cuckold', 2), ('puritan', 2), ('herd', 2), ('sighed', 2), ('extend', 2), ('level', 2), ('assault', 2), ('delivered', 2), ('speedily', 2), ('misdoubt', 2), ('ours', 2), ('waters', 2), ('chastely', 2), ('reservation', 2), ('motive', 2), ('supposed', 2), ('venture', 2), ('malady', 2), ('fame', 2), ('spurio', 2), ('cicatrice', 2), ('received', 2), ('followed', 2), ('sinewy', 2), ('breathe', 2), ('powerful', 2), ('weakness', 2), ('special', 2), ('practice', 2), ('concluded', 2), ('miracles', 2), ('despair', 2), ('twice', 2), ('thievish', 2), ('strumpet', 2), ('boldness', 2), ('otherwise', 2), ('extended', 2), ('hazard', 2), ('resolv', 2), ('bountiful', 2), ('friar', 2), ('homely', 2), ('meat', 2), ('sequent', 2), ('entertain', 2), ('serves', 2), ('persons', 2), ('submit', 2), ('recovery', 2), ('weight', 2), ('breed', 2), ('honours', 2), ('obedient', 2), ('err', 2), ('scarfs', 2), ('vessel', 2), ('taking', 2), ('smack', 2), ('eternal', 2), ('filthy', 2), ('concealed', 2), ('forfeited', 2), ('italian', 2), ('serious', 2), ('restraint', 2), ('proceeding', 2), ('dangerous', 2), ('dinner', 2), ('prepar', 2), ('council', 2), ('grounds', 2), ('sold', 2), ('griefs', 2), ('hunger', 2), ('pitiful', 2), ('promising', 2), ('file', 2), ('ambitious', 2), ('juno', 2), ('courtly', 2), ('embrace', 2), ('rinaldo', 2), ('bids', 2), ('trumpets', 2), ('neighbour', 2), ('twigs', 2), ('troops', 2), ('conduct', 2), ('stole', 2), ('unlawful', 2), ('rascal', 2), ('shrewdly', 2), ('requite', 2), ('direct', 2), ('confidently', 2), ('hood', 2), ('highest', 2), ('instrument', 2), ('greatness', 2), ('encourage', 2), ('disguise', 2), ('delivers', 2), ('assay', 2), ('smoke', 2), ('hardly', 2), ('prick', 2), ('wooing', 2), ('renown', 2), ('nobility', 2), ('damnable', 2), ('needful', 2), ('parcels', 2), ('departure', 2), ('expertness', 2), ('egg', 2), ('sell', 2), ('alive', 2), ('marseilles', 2), ('alias', 2), ('runs', 2), ('thinking', 2), ('charter', 2), ('patch', 2), ('presume', 2), ('petition', 2), ('speakest', 2), ('similes', 2), ('penny', 2), ('ha', 2), ('forgotten', 2), ('praising', 2), ('enforcement', 2), ('proofs', 2), ('capilet', 2), ('discovery', 2), ('pitied', 2), ('gamester', 2), ('justly', 2), ('a-bed', 2), ('flow', 2), ('charged', 2), ('animals', 2), ('countenance', 2), ('grieves', 2), ('avoid', 2), ('brothers', 2), ('villains', 2), ('lief', 2), ('misprised', 2), ('pigeons', 2), ('adventure', 2), ('calling', 2), ('humorous', 2), ('burrs', 2), ('turning', 2), ('sudden', 2), ('poverty', 2), ('ganymede', 2), ('liberty', 2), ('churlish', 2), ('tyrants', 2), ('clown', 2), ('doors', 2), ('sav', 2), ('constant', 2), ('wages', 2), ('petticoat', 2), ('ridiculous', 2), ('cottage', 2), ('yesterday', 2), ('cheerly', 2), ('rot', 2), ('sting', 2), ('civility', 2), ('wip', 2), ('woful', 2), ('belly', 2), ('shrunk', 2), ('uncleanly', 2), ('shepherds', 2), ('civet', 2), ('gallop', 2), ('medlar', 2), ('atalanta', 2), ('atomies', 2), ('marks', 2), ('madness', 2), ('ordinary', 2), ('features', 2), ('sauce', 2), ('slut', 2), ('foulness', 2), ('martext', 2), ('village', 2), ('executioner', 2), ('midsummer-night', 1), ('lingers', 1), ('solemnities', 1), ('funerals', 1), ('renowned', 1), ('bewitch', 1), ('interchang', 1), ('love-tokens', 1), ('gawds', 1), ('knacks', 1), ('prevailment', 1), ('obedience', 1), ('harshness', 1), ('advis', 1), ('beauties', 1), ('refuse', 1), ('shady', 1), ('chanting', 1), ('hymns', 1), ('undergo', 1), ('earthlier', 1), ('unwished', 1), ('sealing-day', 1), ('fellowship', 1), ('prepare', 1), ('austerity', 1), ('relent', 1), ('crazed', 1), ('fairly', 1), ('boasts', 1), ('belov', 1), ('avouch', 1), ('devoutly', 1), ('thereof', 1), ('over-full', 1), ('schooling', 1), ('fancies', 1), ('different', 1), ('enthrall', 1), ('misgraffed', 1), ('momentany', 1), ('unfolds', 1), ('edict', 1), ('persuasion', 1), ('remote', 1), ('doves', 1), ('prospers', 1), ('carthage', 1), ('troyan', 1), ('lode-stars', 1), ('wheat', 1), ('hawthorn', 1), ('catching', 1), ('frowns', 1), ('hateth', 1), ('decking', 1), ('flights', 1), ('emptying', 1), ('companies', 1), ('playfellow', 1), ('starve', 1), ('errs', 1), ('admiring', 1), ('transpose', 1), ('unheedy', 1), ('melt', 1), ('expense', 1), ('wedding-day', 1), ('gallantly', 1), ('storms', 1), ('rocks', 1), ('lofty', 1), ('mask', 1), ('extempore', 1), ('terribly', 1), ('shriek', 1), ('aggravate', 1), ('french-crown', 1), ('bare-faced', 1), ('mile', 1), ('dogged', 1), ('obscenely', 1), ('bow-strings', 1), ('orbs', 1), ('cowslips', 1), ('dew-drops', 1), ('lob', 1), ('attendant', 1), ('trace', 1), ('forests', 1), ('withholds', 1), ('spangled', 1), ('sheen', 1), ('goodfellow', 1), ('villagery', 1), ('skim', 1), ('mislead', 1), ('neighing', 1), ('foal', 1), ('bowl', 1), ('crab', 1), ('wither', 1), ('dewlap', 1), ('wisest', 1), ('three-foot', 1), ('stool', 1), ('bum', 1), ('topples', 1), ('cough', 1), ('versing', 1), ('furthest', 1), ('amazon', 1), ('perigouna', 1), ('gle', 1), ('ariadne', 1), ('middle', 1), ('mead', 1), ('paved', 1), ('rushy', 1), ('margent', 1), ('contagious', 1), ('pelting', 1), ('continents', 1), ('rotted', 1), ('fatted', 1), ('mazes', 1), ('hymn', 1), ('governess', 1), ('diseases', 1), ('abound', 1), ('distemperature', 1), ('hoary-headed', 1), ('lap', 1), ('hiems', 1), ('childing', 1), ('liveries', 1), ('dissension', 1), ('buys', 1), ('marking', 1), ('traders', 1), ('swimming', 1), (',her', 1), ('squire', 1), ('imitate', 1), ('weddingday', 1), ('mermaid', 1), ('flying', 1), ('love-shaft', 1), ('shaft', 1), ('passed', 1), ('meditation', 1), ('fancy-free', 1), ('love-in-idleness', 1), ('swim', 1), ('forty', 1), ('meddling', 1), ('ape', 1), ('overhear', 1), ('slayeth', 1), ('adamant', 1), ('entice', 1), ('used', 1), ('tempt', 1), ('opportunity', 1), ('worlds', 1), ('brakes', 1), ('chang', 1), ('apollo', 1), ('daphne', 1), ('tiger', 1), ('thyme', 1), ('over-canopied', 1), ('eglantine', 1), ('lull', 1), ('throws', 1), ('enamell', 1), ('streak', 1), ('cankers', 1), ('musk-rose', 1), ('clamorous', 1), ('owl', 1), ('hoots', 1), ('offices', 1), ('hedge-hogs', 1), ('newts', 1), ('blind-worms', 1), ('weaving', 1), ('spiders', 1), ('beetles', 1), ('sentinel', 1), ('ounce', 1), ('bristled', 1), ('interchained', 1), ('riddles', 1), ('lied', 1), ('separation', 1), ('distant', 1), ('wisher', 1), ('stirring', 1), ('weeds', 1), ('lack-love', 1), ('kill-courtesy', 1), ('churl', 1), ('darkling', 1), ('lesser', 1), ('raven', 1), ('touching', 1), ('book', 1), ('insufficiency', 1), ('deepest', 1), ('heresy', 1), ('smiling', 1), ('lakin', 1), ('killing', 1), ('swords', 1), ('assurance', 1), (',god', 1), ('plaster', 1), ('signify', 1), ('hempen', 1), ('swaggering', 1), ('auditor', 1), ('.thisby', 1), ('lily-white', 1), ('triumphant', 1), ('brisky', 1), ('cues', 1), ('!help', 1), ('bog', 1), ('grunt', 1), ('wakes', 1), ('finch', 1), ('gray', 1), ('enthralled', 1), ('gleek', 1), ('occasion', 1), ('pressed', 1), ('purge', 1), ('grossness', 1), ('mulberries', 1), ('honey-bags', 1), ('humble-bees', 1), ('thighs', 1), ('worships', 1), ('giant-like', 1), ('devoured', 1), ('watery', 1), ('enforced', 1), ('night-rule', 1), ('consecrated', 1), ('crew', 1), ('patches', 1), ('stalls', 1), ('thick-skin', 1), ('presented', 1), ('mimick', 1), ('geese', 1), ('russet-pated', 1), ('choughs', 1), ('rising', 1), ('gun', 1), ('sever', 1), ('finish', 1), ('ey', 1), ('noontide', 1), ('grim', 1), ('pierc', 1), ('carcass', 1), ('doubler', 1), ('stung', 1), ('heaviness', 1), ('er-rules', 1), ('illusion', 1), ('archery', 1), ('espy', 1), ('gloriously', 1), ('preposterously', 1), ('badge', 1), ('scales', 1), ('congealed', 1), ('taurus', 1), ('trim', 1), ('conjure', 1), ('extort', 1), ('mockers', 1), ('guest', 1), ('seeing', 1), ('unkindly', 1), ('engilds', 1), ('oes', 1), ('lo', 1), ('confederacy', 1), ('conjoin', 1), ('injurious', 1), ('conspir', 1), ('contriv', 1), ('bait', 1), ('shar', 1), ('artificial', 1), ('cushion', 1), ('voices', 1), ('incorporate', 1), ('moulded', 1), ('rent', 1), ('asunder', 1), ('scorning', 1), ('maidenly', 1), ('amazed', 1), ('passionate', 1), ('chronicled', 1), ('withdraw', 1), ('tends', 1), ('burr', 1), ('bashfulness', 1), ('impatient', 1), ('prevail', 1), ('maypole', 1), ('counsels', 1), ('vixen', 1), ('dwarf', 1), ('hindering', 1), ('knot-grass', 1), ('bead', 1), ('officious', 1), ('jole', 1), ('quicker', 1), ('negligence', 1), ('mistak', 1), ('blameless', 1), ('proves', 1), ('nointed', 1), ('overcast', 1), ('drooping', 1), ('fog', 1), ('acheron', 1), ('testy', 1), ('batty', 1), ('roll', 1), ('wend', 1), ('harbinger', 1), ('ghosts', 1), ('cross-ways', 1), ('shames', 1), ('consort', 1), ('black-brow', 1), ('green-streams', 1), ('plainer', 1), ('runaway', 1), ('bragging', 1), ('lighter-heel', 1), ('grey', 1), ('shifting', 1), ('abate', 1), ('detest', 1), ('shuts', 1), ('females', 1), ('bedabbled', 1), ('tak', 1), ('jill', 1), ('mare', 1), ('amiable', 1), ('coy', 1), ('sleek', 1), ('weapons', 1), ('overflown', 1), ('neaf', 1), ('cavalery', 1), ('tickle', 1), ('tongs', 1), ('munch', 1), ('oats', 1), ('venturous', 1), ('handful', 1), ('pease', 1), ('honeysuckle', 1), ('female', 1), ('elm', 1), ('upbraid', 1), ('rounded', 1), ('orient', 1), ('pearls', 1), ('flowerets', 1), ('taunted', 1), ('transformed', 1), ('scalp', 1), ('repair', 1), ('accidents', 1), ('sleepers', 1), ('solemnly', 1), ('triumphantly', 1), ('pairs', 1), ('compass', 1), ('valley', 1), ('echo', 1), ('fountains', 1), ('region', 1), ('mutual', 1), ('crook-knee', 1), ('thessalian', 1), ('thessaly', 1), ('valentine', 1), ('wood-birds', 1), ('enmity', 1), ('defeated', 1), ('betroth', 1), ('overbear', 1), ('turned', 1), ('expound', 1), ('transported', 1), ('marred', 1), ('paragon', 1), ('during', 1), ('scaped', 1), ('ribbons', 1), ('pumps', 1), ('preferred', 1), ('garlic', 1), ('seething', 1), ('shaping', 1), ('devils', 1), ('shapes', 1), ('bringer', 1), ('suppos', 1), ('howsoever', 1), ('board', 1), ('after-supper', 1), ('usual', 1), ('manager', 1), ('anguish', 1), ('torturing', 1), ('abridgment', 1), ('harp', 1), ('glory', 1), ('tipsy', 1), ('thracian', 1), ('singer', 1), ('conqueror', 1), ('muses', 1), ('beggary', 1), ('sorting', 1), ('wonderous', 1), ('unbreath', 1), ('memories', 1), ('wretchedness', 1), ('ercharg', 1), ('purposed', 1), ('premeditated', 1), ('welcomes', 1), ('shiver', 1), ('periods', 1), ('midst', 1), ('throttle', 1), ('practis', 1), ('conclusion', 1), ('dumbly', 1), ('paying', 1), ('rattling', 1), ('audacious', 1), ('eloquence', 1), ('capacity', 1), ('rid', 1), ('impaired', 1), ('disordered', 1), ('presenteth', 1), ('grisly', 1), ('affright', 1), ('blameful', 1), ('mulberry', 1), ('twain', 1), ('asses', 1), ('sensible', 1), ('limander', 1), ('walls', 1), ('wilful', 1), ('silliest', 1), ('theirs', 1), ('floor', 1), ('circumference', 1), ('wane', 1), ('oh', 1), ('sunny', 1), ('glittering', 1), ('streams', 1), ('duck', 1), ('lions', 1), ('videlicet', 1), ('tragedy', 1), ('notably', 1), ('twelve', 1), ('out-sleep', 1), ('hungry', 1), ('snores', 1), ('task', 1), ('screech-owl', 1), ('screeching', 1), ('graves', 1), ('gaping', 1), ('church-way', 1), ('hecate', 1), ('drowsy', 1), ('stray', 1), ('mole', 1), ('field-dew', 1), ('theme', 1), ('yielding', 1), ('alls', 1), ('delivering', 1), ('subjection', 1), ('abundance', 1), ('amendment', 1), ('persecuted', 1), ('process', 1), ('losing', 1), ('mourningly', 1), ('sole', 1), ('overlooking', 1), ('achieves', 1), ('tyranny', 1), ('livelihood', 1), ('moderate', 1), ('lamentation', 1), ('contend', 1), ('birthright', 1), ('forged', 1), ('collateral', 1), ('comforted', 1), ('plagues', 1), ('mated', 1), ('arched', 1), ('hawking', 1), ('curls', 1), ('idolatrous', 1), ('reliques', 1), ('solely', 1), ('waiting', 1), ('monarch', 1), ('meditating', 1), ('barricado', 1), ('assails', 1), ('undermine', 1), ('blowers', 1), ('policy', 1), ('breach', 1), ('rational', 1), ('rule', 1), ('offendress', 1), ('consumes', 1), ('unsuitable', 1), ('brooch', 1), ('toothpick', 1), ('pie', 1), ('porridge', 1), ('guide', 1), ('counsellor', 1), ('gossips', 1), ('learning-place', 1), ('returns', 1), ('charitable', 1), ('predominant', 1), ('proposes', 1), ('remedies', 1), ('ascribe', 1), ('scope', 1), ('designs', 1), ('impossible', 1), ('strove', 1), ('project', 1), ('senoys', 1), ('austria', 1), ('caution', 1), ('prejudicates', 1), ('curious', 1), ('tried', 1), ('discipled', 1), ('haggish', 1), ('repairs', 1), ('unnoted', 1), ('exception', 1), ('eminent', 1), ('catastrophe', 1), ('heel', 1), ('apprehensive', 1), ('senses', 1), ('constancies', 1), ('expire', 1), ('dissolved', 1), ('hive', 1), ('clearness', 1), ('publish', 1), ('slowness', 1), ('heritage', 1), ('barnes', 1), ('blessings', 1), ('cherishes', 1), ('charbon', 1), ('poysam', 1), ('papist', 1), ('religion', 1), ('foul-mouthed', 1), ('prophet', 1), ('repeat', 1), ('troy', 1), ('priam', 1), ('tithe-woman', 1), ('parson', 1), ('blazing', 1), ('gown', 1), ('lawfully', 1), ('communicate', 1), ('surprised', 1), ('afterward', 1), ('happen', 1), ('likelihoods', 1), ('stall', 1), ('rightly', 1), ('belong', 1), ('impress', 1), ('remembrances', 1), ('foregone', 1), ('adoption', 1), ('foreign', 1), ('curd', 1), ('pulse', 1), ('asham', 1), ('proclamation', 1), ('behaviours', 1), ('hellish', 1), ('obstinacy', 1), ('disclose', 1), ('passions', 1), ('appeach', 1), ('indian-like', 1), ('aged', 1), ('seeks', 1), ('riddle-like', 1), ('notes', 1), ('faculties', 1), ('amongst', 1), ('languishings', 1), ('conversation', 1), ('unlearned', 1), ('schools', 1), ('embowell', 1), ('doctrine', 1), ('luckiest', 1), ('well-lost', 1), ('knowingly', 1), ('greetings', 1), ('receiv', 1), ('besiege', 1), ('monarchy', 1), ('questant', 1), ('shrinks', 1), ('girls', 1), ('warnings', 1), ('forehorse', 1), ('smock', 1), ('masonry', 1), ('kin', 1), ('sparks', 1), ('metals', 1), ('spacious', 1), ('muster', 1), ('influence', 1), ('swordmen', 1), ('pate', 1), ('infirmity', 1), ('quicken', 1), ('canary', 1), ('spritely', 1), ('araise', 1), ('love-line', 1), ('doctor', 1), ('convey', 1), ('admiration', 1), ('wond', 1), ('prologues', 1), ('safer', 1), ('appliance', 1), ('humbleness', 1), ('credulous', 1), ('college', 1), ('deem', 1), ('grateful', 1), ('finisher', 1), ('judges', 1), ('expectation', 1), ('fails', 1), ('proffers', 1), ('barr', 1), ('presumption', 1), ('experiment', 1), ('lending', 1), ('occidental', 1), ('damp', 1), ('moist', 1), ('impudence', 1), ('divulged', 1), ('traduc', 1), ('estimate', 1), ('intimate', 1), ('practiser', 1), ('ministers', 1), ('unpitied', 1), ('kingly', 1), ('exempted', 1), ('image', 1), ('premises', 1), ('performance', 1), ('rely', 1), ('cam', 1), ('tended', 1), ('undoubted', 1), ('precisely', 1), ('chair', 1), ('quatch-buttock', 1), ('brawn-buttock', 1), ('buttock', 1), ('groats', 1), ('attorney', 1), ('taffeta', 1), ('pancake', 1), ('quean', 1), ('beneath', 1), ('constable', 1), ('demands', 1), ('trifle', 1), ('belongs', 1), ('putting', 1), ('philosophical', 1), ('terrors', 1), ('rarest', 1), ('galen', 1), ('paracelsus', 1), ('authentic', 1), ('assured', 1), ('uncertain', 1), ('earthly', 1), ('lustier', 1), ('facinorous', 1), ('dutchman', 1), ('du', 1), ('vinaigre', 1), ('repeal', 1), ('confirmation', 1), ('naming', 1), ('bachelors', 1), ('curtal', 1), ('furniture', 1), ('wealthiest', 1), ('flames', 1), ('replies', 1), ('turk', 1), ('eunuchs', 1), ('bastards', 1), ('rais', 1), ('sickly', 1), ('differences', 1), ('additions', 1), ('dropsied', 1), ('immediate', 1), ('challenges', 1), ('trophy', 1), ('defeat', 1), ('shackle', 1), ('plant', 1), ('travails', 1), ('loosing', 1), ('nobler', 1), ('ennobled', 1), ('replete', 1), ('expecting', 1), ('succeeding', 1), ('counts', 1), ('ordinaries', 1), ('tolerable', 1), ('believing', 1), ('hen', 1), ('lattice', 1), ('dram', 1), ('default', 1), ('undeserved', 1), ('vagabond', 1), ('commission', 1), ('dog-hole', 1), ('import', 1), ('hugs', 1), ('spending', 1), ('marrow', 1), ('stable', 1), ('jades', 1), ('balls', 1), ('marr', 1), ('wrinkles', 1), ('prerogative', 1), ('sweets', 1), ('distil', 1), ('curbed', 1), ('erflow', 1), ('brim', 1), ('strengthen', 1), ('apology', 1), ('commands', 1), ('obtain', 1), ('bunting', 1), ('sinned', 1), ('transgressed', 1), ('workman', 1), ('treasure', 1), ('orders', 1), ('possession', 1), ('bride', 1), ('thirds', 1), ('nothings', 1), ('boots', 1), ('natures', 1), ('clog', 1), ('ministration', 1), ('unsettled', 1), ('muse', 1), ('coragio', 1), ('fundamental', 1), ('decision', 1), ('thirsts', 1), ('opposer', 1), ('incertain', 1), ('settle', 1), ('avails', 1), ('happened', 1), ('boot', 1), ('ran', 1), ('breadth', 1), ('misprising', 1), ('quirks', 1), ('bend', 1), ('contents', 1), ('engrossest', 1), ('robb', 1), ('consenting', 1), ('corrupts', 1), ('well-derived', 1), ('expose', 1), ('event', 1), ('sportive', 1), ('smoky', 1), ('muskets', 1), ('ride', 1), ('violent', 1), ('still-piecing', 1), ('shoots', 1), ('charges', 1), ('caitiff', 1), ('miseries', 1), ('rumour', 1), ('consolate', 1), ('extreme', 1), ('edge', 1), ('prosp', 1), ('helm', 1), ('hater', 1), ('bare-foot', 1), ('plod', 1), ('sainted', 1), ('amended', 1), ('zealous', 1), ('forgive', 1), ('camping', 1), ('mildest', 1), ('letting', 1), ('delights', 1), ('sharply', 1), ('commander', 1), ('slew', 1), ('enticements', 1), ('wrack', 1), ('maidenhood', 1), ('lodge', 1), ('lodg', 1), ('hears', 1), ('coarsely', 1), ('weighs', 1), ('solicits', 1), ('guard', 1), ('honestest', 1), ('escalus', 1), ('jack-an-apes', 1), ('ring-carrier', 1), ('host', 1), ('thanking', 1), ('hilding', 1), ('notable', 1), ('reposing', 1), ('tents', 1), ('ore', 1), ('john', 1), ('inclining', 1), ('hinder', 1), ('design', 1), ('sorely', 1), ('sar', 1), ('condemn', 1), ('dishonour', 1), ('quarter', 1), ('syllable', 1), ('dilemmas', 1), ('preparation', 1), ('possibility', 1), ('damns', 1), ('escape', 1), ('smoked', 1), ('sprat', 1), ('coxcomb', 1), ('staining', 1), ('woos', 1), ('yielded', 1), ('deceit', 1), ('musics', 1), ('unworthiness', 1), ('steads', 1), ('eaves', 1), ('sally', 1), ('linsey-woolsey', 1), ('adversary', 1), ('neighbouring', 1), ('chough', 1), ('gabble', 1), ('couch', 1), ('forges', 1), ('bajazet', 1), ('prattle', 1), ('cutting', 1), ('afford', 1), ('baring', 1), ('believed', 1), ('movousus', 1), ('corbo', 1), ('german', 1), ('dutch', 1), ('discover', 1), ('betake', 1), ('manka', 1), ('revania', 1), ('dulche', 1), ('gather', 1), ('purposes', 1), ('lock', 1), ('fontibell', 1), ('titled', 1), ('monument', 1), ('barely', 1), ('bareness', 1), ('attributes', 1), ('holy-cruel', 1), ('integrity', 1), ('crafts', 1), ('ropes', 1), ('conquer', 1), ('proceeds', 1), ('shaking', 1), ('incurred', 1), ('darkly', 1), ('perverted', 1), ('fleshes', 1), ('reveal', 1), ('erflows', 1), ('dieted', 1), ('anatomized', 1), ('curiously', 1), ('sanctimony', 1), ('residing', 1), ('tenderness', 1), ('confirmed', 1), ('rector', 1), ('losses', 1), ('acquired', 1), ('yarn', 1), ('offered', 1), ('tartness', 1), ('sixteen', 1), ('month', 1), ('a-piece', 1), ('abstract', 1), ('conge', 1), ('nicer', 1), ('difficulty', 1), ('model', 1), ('prophesier', 1), (',whom', 1), (',from', 1), ('confession', 1), ('hoodman', 1), ('porto', 1), ('tortures', 1), ('pinch', 1), ('chicurmurco', 1), ('scattered', 1), ('phrase', 1), ('theorick', 1), ('chape', 1), ('neatly', 1), (',or', 1), ('thereabouts', 1), ('a-foot', 1), ('corambus', 1), ('guiltian', 1), ('lodowick', 1), ('chitopher', 1), ('vaumond', 1), ('bentii', 1), ('amounts', 1), ('fifteen', 1), ('poll', 1), ('well-weighing', 1), ('sums', 1), ('inter', 1), ('gatories', 1), ('singly', 1), ('botcher', 1), ('shrieve', 1), ('lousy', 1), ('excellently', 1), ('advertisement', 1), ('devours', 1), ('fry', 1), ('both-sides', 1), ('rogue', 1), ('score', 1), ('after-debts', 1), ('devoted', 1), ('manifold', 1), ('linguist', 1), ('armipotent', 1), ('dungeon', 1), ('anywhere', 1), ('parallels', 1), ('nessus', 1), ('volubility', 1), ('drunkenness', 1), ('swine-drunk', 1), ('bed-clothes', 1), ('straw', 1), ('description', 1), ('tragedians', 1), ('files', 1), ('out-villained', 1), ('villany', 1), ('redeems', 1), ('fee-simple', 1), ('salvation', 1), ('inheritance', 1), ('entail', 1), ('remainders', 1), ('nest', 1), ('excels', 1), ('out-runs', 1), ('cramp', 1), ('drums', 1), ('headsman', 1), ('burst', 1), ('rust', 1), ('throne', 1), ('gratitude', 1), ('hies', 1), ('loathes', 1), ('instructions', 1), ('impositions', 1), ('leaves', 1), ('waggon', 1), ('snipt-taffeta', 1), ('unbaked', 1), ('doughy', 1), ('creating', 1), ('salad', 1), ('bauble', 1), ('phisnomy', 1), ('suggest', 1), ('talkest', 1), ('broad', 1), ('self-gracious', 1), ('fitter', 1), ('happily', 1), ('failed', 1), ('admitted', 1), ('pile', 1), ('dozen', 1), ('posting', 1), ('requital', 1), ('unroot', 1), ('goaded', 1), ('occasions', 1), ('nice', 1), ('lavache', 1), ('fresher', 1), ('somewhat', 1), ('strongly', 1), ('close-stool', 1), ('decayed', 1), ('rascally', 1), ('cruelly', 1), ('scratched', 1), ('justices', 1), ('cox', 1), ('blaze', 1), ('erbears', 1), ('burns', 1), ('forgiven', 1), ('captive', 1), ('perfection', 1), ('reconcil', 1), ('repetition', 1), ('deeper', 1), ('offender', 1), ('sunshine', 1), ('consumed', 1), ('noiseless', 1), ('stuck', 1), ('herald', 1), ('proportions', 1), ('remorseful', 1), ('sender', 1), ('crying', 1), ('rasher', 1), ('displeasures', 1), ('shameful', 1), ('afternoon', 1), ('maudlin', 1), ('cesse', 1), ('digested', 1), ('sparkle', 1), ('fasten', 1), ('necessitied', 1), ('craft', 1), ('reave', 1), ('deceiv', 1), ('subscrib', 1), ('ceas', 1), ('satisfaction', 1), ('plutus', 1), ('multiplying', 1), ('science', 1), ('falsely', 1), ('conjectural', 1), ('fore-past', 1), ('vainly', 1), ('husbanded', 1), ('dismal', 1), ('removes', 1), ('vanquish', 1), ('thereto', 1), ('suppliant', 1), ('\"upon', 1), ('protestations', 1), ('seducer', 1), ('son-in-law', 1), ('toll', 1), ('suitors', 1), ('doers', 1), ('sith', 1), ('monsters', 1), ('derived', 1), ('cease', 1), ('embodied', 1), ('parallel', 1), ('commoner', 1), ('preceding', 1), ('ow', 1), ('quoted', 1), ('madding', 1), ('eagerness', 1), ('subdued', 1), ('inferior', 1), ('feather', 1), ('starts', 1), ('equivocal', 1), ('limbo', 1), ('evidence', 1), ('glove', 1), ('customer', 1), ('accus', 1), ('jeweller', 1), ('kick', 1), ('riddle', 1), ('beguiles', 1), ('doubly', 1), ('untrue', 1), ('divorce', 1), ('uncropped', 1), ('keptst', 1), ('progress', 1), ('rustically', 1), ('properly', 1), ('unkept', 1), ('stalling', 1), ('dunghills', 1), ('hinds', 1), ('bars', 1), ('gentility', 1), ('mutiny', 1), ('servitude', 1), ('apart', 1), ('husks', 1), ('orchard', 1), ('nations', 1), ('elder', 1), ('begot', 1), ('pulled', 1), ('railed', 1), ('accord', 1), ('obscuring', 1), ('hiding', 1), ('exercises', 1), ('dennis', 1), ('voluntary', 1), ('revenues', 1), (',being', 1), ('cradles', 1), ('england', 1), ('fleet', 1), ('carelessly', 1), ('acquit', 1), ('intendment', 1), ('laboured', 1), ('secret', 1), ('entrap', 1), ('indirect', 1), (',there', 1), ('brotherly', 1), ('anatomize', 1), ('payment', 1), ('prize', 1), ('lovest', 1), ('equally', 1), ('goest', 1), ('reigns', 1), ('perceiving', 1), ('silenced', 1), ('news-cramm', 1), ('marketable', 1), ('destinies', 1), ('decree', 1), ('amaze', 1), ('ladyships', 1), ('necks', 1), ('served', 1), ('longs', 1), ('rib-breaking', 1), ('forwardness', 1), ('successfully', 1), ('others', 1), ('proof', 1), ('punish', 1), ('willing', 1), ('desirous', 1), ('working', 1), ('mocked', 1), ('thunderbolt', 1), ('ventur', 1), ('block', 1), ('weights', 1), ('applause', 1), ('detain', 1), ('grounded', 1), ('bounden', 1), ('cousins', 1), ('lamed', 1), ('working-day', 1), ('holiday', 1), ('trodden', 1), ('miles', 1), (',then', 1), ('mistrust', 1), ('depends', 1), ('rang', 1), ('value', 1), ('slept', 1), ('swans', 1), ('inseparable', 1), ('subtle', 1), ('smoothness', 1), ('robs', 1), ('irrevocable', 1), ('pronounce', 1), ('griev', 1), ('cheerful', 1), ('teacheth', 1), ('maids', 1), ('thieves', 1), ('attire', 1), ('umber', 1), ('assailants', 1), ('curtle-axe', 1), ('thigh', 1), ('boar-spear', 1), ('hidden', 1), ('martial', 1), ('outface', 1), ('semblances', 1), ('fittest', 1), ('penalty', 1), ('bites', 1), ('shrink', 1), ('adversity', 1), ('venomous', 1), ('exempt', 1), ('sermons', 1), ('translate', 1), ('venison', 1), ('irks', 1), ('dappled', 1), ('forked', 1), ('usurp', 1), ('amiens', 1), ('root', 1), ('stag', 1), ('cours', 1), ('piteous', 1), ('verge', 1), ('augmenting', 1), ('moralize', 1), ('spectacle', 1), ('worldlings', 1), ('citizens', 1), ('assign', 1), ('dwelling-place', 1), ('contemplation', 1), ('commenting', 1), ('sobbing', 1), ('cope', 1), ('untreasur', 1), ('roynish', 1), ('inquisition', 1), ('bony', 1), ('swiftly', 1), ('envenoms', 1), ('lodging', 1), ('butchery', 1), ('abhor', 1), ('boisterous', 1), ('road', 1), ('subject', 1), ('hire', 1), ('unregarded', 1), ('corners', 1), ('providently', 1), ('caters', 1), ('necessities', 1), ('meed', 1), ('promotion', 1), ('choke', 1), ('prun', 1), ('lieu', 1), ('husbandry', 1), ('settled', 1), ('gasp', 1), ('jupiter', 1), ('hearer', 1), ('a-night', 1), ('jane', 1), ('batler', 1), ('cow', 1), ('instead', 1), ('cods', 1), ('capers', 1), ('stale', 1), ('faints', 1), ('succour', 1), ('recks', 1), ('flocks', 1), ('sale', 1), ('buying', 1), ('willingly', 1), ('soil', 1), ('greenwood', 1), ('weasel', 1), ('sucks', 1), ('ragged', 1), ('stanzos', 1), ('compliment', 1), ('renders', 1), ('matters', 1), ('greek', 1), ('invocation', 1), ('circle', 1), ('prepared', 1), ('uncouth', 1), ('conceit', 1), ('lookest', 1), ('liest', 1), ('shelter', 1), ('jars', 1), ('shortly', 1), ('poke', 1), ('looking', 1), ('lack-lustre', 1), ('wags', 1), ('ago', 1), ('eleven', 1), ('lungs', 1), ('chanticleer', 1), ('deep-contemplative', 1), ('intermission', 1), ('biscuit', 1), ('cramm', 1), ('vents', 1), ('parish', 1), ('smart', 1), ('squandering', 1), ('glances', 1), ('invest', 1), ('infected', 1), ('libertine', 1), ('sensual', 1), ('sores', 1), ('headed', 1), ('disgorge', 1), ('shoulders', 1), ('unclaim', 1), ('bolden', 1), ('despiser', 1), ('feasts', 1), ('sacred', 1), ('engender', 1), ('suffic', 1), ('universal', 1), ('exits', 1), ('nurse', 1), ('school-boy', 1), ('satchel', 1), ('unwillingly', 1), ('eyebrow', 1), ('cannon', 1), ('capon', 1), ('formal', 1), ('saws', 1), ('instances', 1), ('sixth', 1), ('shifts', 1), ('pouch', 1), ('shank', 1), ('childish', 1), ('treble', 1), ('whistles', 1), ('eventful', 1), ('childishness', 1), ('venerable', 1), ('trouble', 1), ('ingratitude', 1), ('cave', 1), ('support', 1), ('territory', 1), ('seizure', 1), ('seize', 1), ('push', 1), ('officers', 1), ('extent', 1), ('everywhere', 1), ('carve', 1), ('philosophy', 1), ('ill-roasted', 1), ('damnation', 1), ('behaviour', 1), ('briefly', 1), ('fells', 1), ('wholesome', 1), ('sounder', 1), ('perfumed', 1), ('raw', 1), ('earn', 1), ('envy', 1), ('lambs', 1), ('rams', 1), ('copulation', 1), ('bawd', 1), ('bell-wether', 1), ('cuckoldy', 1), ('ind', 1), ('pictures', 1), ('dinners', 1), ('suppers', 1), ('excepted', 1), ('hart', 1), ('winter-garments', 1), ('slender', 1), ('cart', 1), ('rind', 1), ('infect', 1), ('earliest', 1), ('unpeopled', 1), ('sayings', 1), ('erring', 1), ('stretching', 1), ('buckles', 1), ('violated', 1), ('twixt', 1), ('rosalinda', 1), ('teaching', 1), ('cleopatra', 1), ('lucretia', 1), ('priz', 1), ('wearied', 1), ('parishioners', 1), ('bag', 1), ('carved', 1), ('palm-tree', 1), ('be-rimed', 1), ('irish', 1), ('earthquakes', 1), ('vehemence', 1), ('mightst', 1), ('cork', 1), ('hat', 1), ('mocking', 1), ('gargantua', 1), ('resolve', 1), ('propositions', 1), ('relish', 1), ('dropped', 1), ('wounded', 1), ('hunter', 1), ('ominous', 1), ('burthen', 1), ('bringest', 1), ('tune', 1), ('slink', 1), ('writing', 1), ('love-songs', 1), ('pleasing', 1), ('christened', 1), ('goldsmiths', 1), ('breather', 1), ('habit', 1), ('paces', 1), ('gallops', 1), ('trot', 1), ('solemnized', 1), ('interim', 1), ('nnight', 1), ('gallows', 1), ('moves', 1), ('skirts', 1), ('fringe', 1), ('cony', 1), ('purchase', 1), ('dwelling', 1), ('courtship', 1), ('giddy', 1), ('half-pence', 1), ('abuses', 1), ('odes', 1), ('brambles', 1), ('fancy-monger', 1), ('quotidian', 1), ('love-shaked', 1), ('neglected', 1), ('bonnet', 1), ('unbuttoned', 1), ('untied', 1), ('point-device', 1), ('accoutrements', 1), ('admired', 1), ('punished', 1), ('whippers', 1), ('curing', 1), ('moonish', 1), ('grieve', 1), ('suitor', 1), ('spot', 1), ('feature', 1), ('capricious', 1), ('goths', 1), ('ill-inhabited', 1), ('thatch', 1), ('seconded', 1), ('reckoning', 1), ('hard-favour', 1), ('sugar', 1), ('material', 1), ('vicar', 1), ('assembly', 1), ('goods', 1), ('dowry', 1), ('noblest', 1), ('huge', 1), ('walled', 1), ('curb', 1), ('falcon', 1), ('wedlock', 1), ('nibbling', 1), ('panel', 1), ('bawdry', 1), ('begone', 1), ('wedding', 1), ('chesnut', 1), ('religiously', 1), ('certainly', 1), ('horse-stealer', 1), ('goblet', 1), ('worm-eaten', 1), ('confirmers', 1), ('traverse', 1), ('puisny', 1), ('staff', 1), ('inquir', 1), ('remove', 1), ('accustom', 1), ('pin', 1), ('palm', 1), ('darted', 1), (',as', 1), ('arrows', 1), ('insult', 1), ('pitiless', 1), ('tangle', 1), ('inky', 1), ('bugle', 1), ('cream', 1), ('foggy', 1), ('properer', 1), ('ill-favour', 1), ('flatters', 1), ('knees', 1), ('fasting', 1), ('markets', 1), ('extermin', 1), ('neighbourly', 1), ('covetousness', 1), ('plenteous', 1), ('glean', 1), ('reaps', 1), ('heal', 1), ('riper', 1), ('damask', 1), ('wanes', 1), ('steep', 1), ('new-bent', 1), ('merriments', 1), ('pert', 1), ('injuries', 1), ('triumph', 1), ('revelling', 1), ('bracelets', 1), ('conceits', 1), ('nosegays', 1), ('sweetmeats', 1), ('unharden', 1), ('filch', 1), ('dispose', 1), ('imprinted', 1), ('abjure', 1), ('examine', 1), ('mew', 1), ('blessedness', 1), ('pause', 1), ('deriv', 1), ('possess', 1), ('vantage', 1), ('prosecute', 1), ('idolatry', 1), ('self-affairs', 1), ('extenuate', 1), ('confer', 1), ('nearly', 1), ('fade', 1), ('beteem', 1), ('tempest', 1), ('sympathy', 1), ('lightning', 1), ('collied', 1), ('spleen', 1), ('jaws', 1), ('devour', 1), ('customary', 1), ('followers', 1), ('widow', 1), ('leagues', 1), ('strongest', 1), ('knitteth', 1), ('unsay', 1), ('curses', 1), ('liquid', 1), ('bladed', 1), ('conceal', 1), ('primrose-beds', 1), ('doting', 1), ('quantity', 1), ('waggish', 1), ('perjur', 1), ('dissolv', 1), ('showers', 1), ('treats', 1), ('lamentable', 1), ('spread', 1), ('performing', 1), ('condole', 1), ('rarely', 1), ('split', 1), ('raging', 1), ('shivering', 1), ('shocks', 1), ('locks', 1), ('phibbus', 1), ('car', 1), ('condoling', 1), ('roaring', 1), ('sucking', 1), ('nightingale', 1), ('sweet-faced', 1), ('straw-colour', 1), ('purple-in-grain', 1), ('devices', 1), ('properties', 1), ('courageously', 1), ('park', 1), ('moone', 1), ('pensioners', 1), ('rubies', 1), ('freckles', 1), ('passing', 1), ('train', 1), ('acorn-cups', 1), ('frights', 1), ('quern', 1), ('breathless', 1), ('churn', 1), ('barm', 1), ('night-wanderers', 1), ('laughing', 1), ('hobgoblin', 1), ('aright', 1), ('bean-fed', 1), ('filly', 1), ('lurk', 1), ('roasted', 1), ('drinks', 1), ('ale', 1), ('saddest', 1), ('mistaketh', 1), ('quire', 1), ('hips', 1), ('loff', 1), ('neeze', 1), ('skip', 1), ('phillida', 1), ('steppe', 1), ('india', 1), ('bouncing', 1), ('buskin', 1), ('warrior', 1), ('ravished', 1), ('antiopa', 1), ('forgeries', 1), ('beached', 1), ('ringlets', 1), ('whistling', 1), ('winds', 1), ('piping', 1), ('fogs', 1), ('river', 1), ('overborne', 1), ('fold', 1), ('crows', 1), ('murrion', 1), ('mud', 1), ('carol', 1), ('washes', 1), ('rheumatic', 1), ('frosts', 1), ('crimson', 1), ('thin', 1), ('chaplet', 1), ('autumn', 1), ('mazed', 1), ('progeny', 1), ('original', 1), ('henchman', 1), ('spiced', 1), ('sands', 1), ('embarked', 1), ('sails', 1), ('big-bellied', 1), ('womb', 1), ('merchandise', 1), ('rear', 1), ('kingdom', 1), ('torment', 1), ('promontory', 1), ('uttering', 1), ('harmonious', 1), ('sea-maid', 1), ('vestal', 1), ('throned', 1), ('west', 1), ('loos', 1), ('smartly', 1), ('pierce', 1), ('bolt', 1), ('milk-white', 1), ('leviathan', 1), ('girdle', 1), ('bull', 1), ('monkey', 1), ('hard-hearted', 1), ('steel', 1), ('plainest', 1), ('worser', 1), ('impeach', 1), ('griffin', 1), ('scandal', 1), ('oxlips', 1), ('nodding', 1), ('violet', 1), ('luscious', 1), ('snake', 1), ('wrap', 1), ('anoint', 1), ('espies', 1), ('roundel', 1), ('rere-mice', 1), ('snakes', 1), ('spell', 1), ('ii', 1), ('long-legg', 1), ('spinners', 1), ('aloof', 1), ('boar', 1), ('bed-room', 1), ('prettily', 1), ('meant', 1), ('approve', 1), ('dank', 1), ('dirty', 1), ('seat', 1), ('eyelid', 1), ('attractive', 1), ('oftener', 1), ('sphery', 1), ('transparent', 1), ('perish', 1), ('growing', 1), ('marshal', 1), ('erlook', 1), ('stories', 1), ('loathing', 1), ('heresies', 1), ('crawling', 1), ('?lysander', 1), ('rehearsal', 1), ('hawthorn-brake', 1), ('tiring-house', 1), ('!a', 1), ('wild-fowl', 1), ('defect', 1), ('plainly', 1), ('almanack', 1), ('home-spuns', 1), ('cradle', 1), ('odours', 1), ('radiant', 1), ('juvenal', 1), ('jew', 1), ('!as', 1), ('headless', 1), ('neigh', 1), ('bark', 1), ('ass-head', 1), ('ousel-cock', 1), ('throstle', 1), ('wren', 1), ('quill', 1), ('plain-song', 1), ('now-a-days', 1), ('beautiful', 1), ('moth', 1), ('mustardseed', 1), ('gambol', 1), ('apricocks', 1), ('dewberries', 1), ('figs', 1), ('night-tapers', 1), ('glow-worm', 1), ('butterflies', 1), ('moonbeams', 1), ('squash', 1), ('cowardly', 1), ('ox-beef', 1), ('lamenting', 1), ('silently', 1), ('extremity', 1), ('mechanicals', 1), ('intended', 1), ('shallowest', 1), ('forsook', 1), ('nowl', 1), ('fixed', 1), ('fowler', 1), ('cawing', 1), ('stamp', 1), ('yielders', 1), ('latch', 1), ('rebuke', 1), ('foe', 1), ('bor', 1), ('centre', 1), ('displease', 1), ('antipodes', 1), ('cruelty', 1), ('driv', 1), ('mispris', 1), ('heavier', 1), ('debt', 1), ('fate', 1), ('million', 1), ('confounding', 1), ('fancy-sick', 1), ('dye', 1), ('apple', 1), ('pleading', 1), ('bearing', 1), ('advance', 1), ('devilish-holy', 1), ('tales', 1), ('crystal', 1), ('muddy', 1), ('cherries', 1), ('tempting', 1), ('fann', 1), ('merriment', 1), ('superpraise', 1), ('bequeath', 1), ('sojourn', 1), ('disparage', 1), ('apprehension', 1), ('impair', 1), ('bide', 1), ('yon', 1), ('ungrateful', 1), ('sister-vows', 1), ('hasty-footed', 1), ('school-days', 1), ('neelds', 1), ('sampler', 1), ('union', 1), ('berries', 1), ('stem', 1), ('crowned', 1), ('crest', 1), ('celestial', 1), ('unlov', 1), ('despise', 1), ('mouths', 1), ('threats', 1), ('whereto', 1), ('ethiop', 1), ('tawny', 1), ('loathed', 1), ('juggler', 1), ('canker-blossom', 1), ('statures', 1), ('dwarfish', 1), ('shrewishness', 1), ('hinders', 1), ('minimus', 1), ('scorns', 1), ('services', 1), ('jangling', 1), ('starry', 1), ('welking', 1), ('astray', 1), ('death-counterfeiting', 1), ('affair', 1), ('charmed', 1), ('dragons', 1), ('aurora', 1), ('churchyards', 1), ('burial', 1), ('wormy', 1), ('beds', 1), ('fiery-red', 1), ('opening', 1), ('notwithstanding', 1), ('goblin', 1), ('bushes', 1), ('recreant', 1), ('rod', 1), ('manhood', 1), ('uneven', 1), ('com', 1), ('runn', 1), ('faintness', 1), ('constraineth', 1), ('visited', 1), ('kinds', 1), ('lad', 1), ('torn', 1), ('crawl', 1), ('former', 1), ('proverb', 1), ('jack', 1), ('stick', 1), ('red-hipped', 1), ('thistle', 1), ('fret', 1), ('curtsy', 1), ('desir', 1), ('peck', 1), ('provender', 1), ('squirrel', 1), ('hoard', 1), ('nuts', 1), ('exposition', 1), ('entwist', 1), ('ivy', 1), ('enrings', 1), ('barky', 1), ('dotage', 1), ('temples', 1), ('coronet', 1), ('fragrant', 1), ('bewail', 1), ('begg', 1), ('imperfection', 1), ('awaking', 1), ('bud', 1), ('charmeth', 1), ('globe', 1), ('vaward', 1), ('uncouple', 1), ('mountain', 1), ('conjunction', 1), ('cadmus', 1), ('skies', 1), ('thunder', 1), ('spartan', 1), ('flew', 1), ('sanded', 1), ('dew-lapp', 1), ('bulls', 1), ('nymphs', 1), ('huntsmen', 1), ('rival', 1), ('reply', 1), ('amazedly', 1), (',for', 1), ('bethink', 1), ('fury', 1), ('gaud', 1), ('fortunately', 1), ('eternally', 1), ('purpos', 1), ('hunting', 1), ('far-off', 1), ('patched', 1), ('handicraft', 1), ('lads', 1), ('dined', 1), ('strings', 1), ('linen', 1), ('claws', 1), ('fables', 1), ('toys', 1), ('lunatic', 1), ('vast', 1), ('madman', 1), ('frenzy', 1), ('rolling', 1), ('local', 1), ('habitation', 1), ('imagining', 1), ('transfigur', 1), ('witnesseth', 1), ('images', 1), ('accompany', 1), ('masques', 1), ('bed-time', 1), ('masque', 1), ('centaurs', 1), ('eunuch', 1), ('riot', 1), ('bacchanals', 1), ('tearing', 1), ('thebes', 1), ('mourning', 1), ('deceas', 1), ('satire', 1), ('critical', 1), ('apt', 1), ('player', 1), ('rehears', 1), ('hard-handed', 1), ('toil', 1), ('extremely', 1), ('perishing', 1), ('kinder', 1), ('clerks', 1), ('sentences', 1), ('tongue-tied', 1), ('minding', 1), ('colt', 1), ('recorder', 1), ('government', 1), ('tangled', 1), ('hight', 1), ('scare', 1), ('fied', 1), ('whereat', 1), ('broach', 1), ('boiling', 1), ('tarrying', 1), ('crannied', 1), ('wittiest', 1), ('grim-look', 1), ('blink', 1), ('mural', 1), ('warning', 1), ('stuff', 1), ('smallest', 1), ('creeps', 1), ('lion-fell', 1), ('dam', 1), ('conscience', 1), ('listen', 1), ('crescent', 1), ('roared', 1), ('shone', 1), ('moused', 1), ('vanished', 1), ('dainty', 1), ('thrum', 1), ('conclude', 1), ('quell', 1), ('deflower', 1), ('liv', 1), ('surgeon', 1), ('mote', 1), ('lily', 1), ('moan', 1), ('leeks', 1), ('gore', 1), ('shore', 1), ('shears', 1), ('imbrue', 1), ('overwatch', 1), ('palpable-gross', 1), ('fortnight', 1), ('roars', 1), ('behowls', 1), ('fordone', 1), ('brands', 1), ('wretch', 1), ('shroud', 1), ('glide', 1), ('frolic', 1), ('hallow', 1), ('broom', 1), ('elf', 1), ('ditty', 1), ('trippingly', 1), ('rote', 1), ('bride-bed', 1), ('blots', 1), ('hare-lip', 1), ('prodigious', 1), ('consecrate', 1), ('mended', 1), ('reprehend', 1), ('unearned', 1), ('restore', 1), ('anew', 1), ('wanted', 1), ('abandoned', 1), ('passage', 1), ('!whose', 1), ('stretched', 1), ('immortal', 1), ('famous', 1), ('skilful', 1), ('mortality', 1), ('languishes', 1), ('fistula', 1), ('dispositions', 1), ('inherits', 1), ('derives', 1), ('brine', 1), ('excessive', 1), ('excess', 1), ('succeed', 1), ('few', 1), ('unseason', 1), ('radiance', 1), ('steely', 1), ('superfluous', 1), ('resistance', 1), ('underminers', 1), ('military', 1), ('quicklier', 1), ('blowing', 1), ('commonwealth', 1), ('preserve', 1), ('accuse', 1), ('infallible', 1), ('murders', 1), ('highways', 1), ('limit', 1), ('mites', 1), ('cheese', 1), ('paring', 1), ('self-love', 1), ('inhibited', 1), ('canon', 1), ('commodity', 1), ('gloss', 1), ('vendible', 1), ('richly', 1), ('suited', 1), ('pears', 1), ('drily', 1), ('formerly', 1), ('nix', 1), ('traitress', 1), ('jarring', 1), ('adoptious', 1), ('christendoms', 1), ('blinking', 1), ('wishing', 1), ('retrograde', 1), ('acutely', 1), ('instruction', 1), ('naturalize', 1), ('thrust', 1), ('unthankfulness', 1), ('mightiest', 1), ('attempts', 1), ('fought', 1), ('braving', 1), ('credible', 1), ('speedy', 1), ('denial', 1), ('amplest', 1), ('nursery', 1), ('gentry', 1), ('breathing', 1), ('betram', 1), ('corporal', 1), ('soundness', 1), ('lasted', 1), ('levity', 1), ('sharpness', 1), ('ranks', 1), ('demonstrate', 1), ('goers', 1), ('richer', 1), ('epitaph', 1), ('grafted', 1), ('pastime', 1), ('fashions', 1), ('labourers', 1), ('applications', 1), ('deservings', 1), ('complaints', 1), ('ability', 1), ('driven', 1), ('spares', 1), ('drudge', 1), ('cherisher', 1), ('ergo', 1), ('contented', 1), ('howsome', 1), ('severed', 1), ('joul', 1), ('calumnious', 1), ('grecians', 1), ('sacked', 1), ('purifying', 1), ('earthquake', 1), ('lottery', 1), ('surplice', 1), ('entirely', 1), ('owing', 1), ('wished', 1), ('estates', 1), ('rescue', 1), ('exclaim', 1), ('sithence', 1), ('honestly', 1), ('informed', 1), ('tottering', 1), ('catalogue', 1), ('enwombed', 1), ('strives', 1), ('seeds', 1), ('distemper', 1), ('many-colour', 1), ('iris', 1), ('rounds', 1), ('fondness', 1), ('loneliness', 1), ('grossly', 1), ('clew', 1), ('avail', 1), ('presumptuous', 1), ('captious', 1), ('intenible', 1), ('sieve', 1), ('adore', 1), ('worshipper', 1), ('cites', 1), ('implies', 1), ('sweetly', 1), ('prescriptions', 1), ('prov', 1), ('manifest', 1), ('collected', 1), ('heedfull', 1), ('inclusive', 1), ('receipt', 1), ('principles', 1), ('captives', 1), ('spark', 1), ('creaking', 1), ('theft', 1), ('accessary', 1), ('tortured', 1), ('heroes', 1), ('lustrous', 1), ('spinii', 1), ('emblem', 1), ('entrenched', 1), ('novices', 1), ('restrained', 1), ('list', 1), ('expressive', 1), ('dilated', 1), ('across', 1), ('pepin', 1), ('charlemain', 1), ('arriv', 1), ('cressid', 1), ('receipts', 1), ('chiefly', 1), ('darling', 1), ('malignant', 1), ('doctors', 1), ('congregated', 1), ('labouring', 1), ('inaidable', 1), ('prostitute', 1), ('past-cure', 1), ('empirics', 1), ('dissever', 1), ('entreating', 1), ('works', 1), ('weakest', 1), ('flown', 1), ('sources', 1), ('seas', 1), ('hits', 1), ('coldest', 1), ('inspired', 1), ('impostor', 1), ('proclaim', 1), ('confident', 1), ('torcher', 1), ('diurnal', 1), ('murk', 1), ('hesperus', 1), ('sleepy', 1), ('lamp', 1), ('pilot', 1), ('infirm', 1), ('confidence', 1), ('ballads', 1), ('sear', 1), ('vilest', 1), ('torture', 1), ('organ', 1), ('prime', 1), ('flinch', 1), ('sceptre', 1), ('arrogance', 1), ('propagate', 1), ('branch', 1), ('observ', 1), ('unquestion', 1), ('highly', 1), ('lowly', 1), ('buttocks', 1), ('pin-buttock', 1), ('punk', 1), ('tib', 1), ('forefinger', 1), ('shrove-tuesday', 1), ('mayday', 1), ('nail', 1), ('scolding', 1), ('wrangling', 1), ('pudding', 1), ('fitness', 1), ('hoping', 1), ('urge', 1), ('kinsmen', 1), ('employment', 1), ('fruitfully', 1), ('familiar', 1), ('supernatural', 1), ('causeless', 1), ('ensconcing', 1), ('relinquished', 1), ('artists', 1), ('incurable', 1), ('helped', 1), ('novelty', 1), ('debile', 1), ('transcendence', 1), ('lustig', 1), ('coranto', 1), ('mort', 1), ('preserver', 1), ('healthful', 1), ('parcel', 1), ('sov', 1), ('reign', 1), ('election', 1), ('peruse', 1), ('ames-ace', 1), ('threateningly', 1), ('whipp', 1), ('grape', 1), ('drunk', 1), ('fourteen', 1), ('guiding', 1), ('raising', 1), ('build', 1), ('bloods', 1), ('lowest', 1), ('dignified', 1), ('doer', 1), ('vileness', 1), ('sire', 1), ('foregoers', 1), ('stake', 1), ('poising', 1), ('defective', 1), ('scale', 1), ('beam', 1), ('staggers', 1), ('lapse', 1), ('creation', 1), ('counterpoise', 1), ('expedient', 1), ('now-born', 1), ('harsh', 1), ('satisfy', 1), ('vent', 1), ('bannerets', 1), ('manifoldly', 1), ('antiquity', 1), ('hasten', 1), ('egregious', 1), ('indignity', 1), ('bate', 1), ('scruple', 1), ('insupportable', 1), ('hell-pains', 1), ('fettering', 1), ('unfeignedly', 1), ('picking', 1), ('pomegranate', 1), ('personages', 1), ('merits', 1), ('box', 1), ('unseen', 1), ('kicky-wicky', 1), ('sustain', 1), ('curvet', 1), ('steed', 1), ('regions', 1), ('detested', 1), ('capriccio', 1), ('greets', 1), ('ail', 1), ('shakes', 1), ('undoing', 1), ('witty', 1), ('profitable', 1), ('strew', 1), ('warranted', 1), ('testimony', 1), ('accordingly', 1), ('casketed', 1), ('unkindness', 1), ('shift', 1), ('custard', 1), ('residence', 1), ('consequence', 1), ('procur', 1), ('required', 1), ('appointments', 1), ('timorous', 1), ('borrowing', 1), ('outward', 1), ('frames', 1), ('self-unable', 1), ('ruff', 1), ('manor', 1), ('bedded', 1), ('unbridled', 1), ('indignation', 1), ('standing', 1), ('thitherward', 1), ('passport', 1), ('begotten', 1), ('moiety', 1), ('swiftest', 1), ('tainted', 1), ('inducement', 1), ('worthiest', 1), ('non-sparing', 1), ('drive', 1), ('piercing', 1), ('ravin', 1), ('wins', 1), ('angels', 1), ('offic', 1), ('rous', 1), ('auspicious', 1), ('sending', 1), ('fervour', 1), ('labours', 1), ('despiteful', 1), ('over-night', 1), ('erta', 1), ('reprieve', 1), ('solicited', 1), ('suggestions', 1), ('engines', 1), ('seduced', 1), ('example', 1), ('limed', 1), ('palmers', 1), ('beside', 1), ('port', 1), ('hostess', 1), ('countryman', 1), ('whatsoe', 1), ('repeated', 1), ('deserving', 1), ('reserved', 1), ('examin', 1), ('detesting', 1), ('sadly', 1), ('brokes', 1), ('antonio', 1), ('plume', 1), ('honester', 1), ('goodlier', 1), ('handsome', 1), ('vexed', 1), ('enjoin', 1), ('penitents', 1), ('matron', 1), ('precepts', 1), ('endless', 1), ('promise-breaker', 1), ('surprise', 1), ('leaguer', 1), ('adversaries', 1), ('examination', 1), ('compulsion', 1), ('lump', 1), ('rend', 1), ('greatly', 1), ('attributed', 1), ('exact', 1), ('performer', 1), ('hic', 1), ('jacet', 1), ('its', 1), ('magnanimous', 1), ('utmost', 1), ('discoveries', 1), ('clap', 1), ('lass', 1), ('re-send', 1), ('approves', 1), ('over-pay', 1), ('lays', 1), ('important', 1), ('succeeded', 1), ('descents', 1), ('repented', 1), ('appoints', 1), ('add', 1), ('coherent', 1), ('songs', 1), ('persists', 1), ('sinful', 1), ('fact', 1), ('hedge-corner', 1), ('languages', 1), ('disgraces', 1), ('foolhardy', 1), ('daring', 1), ('ignorant', 1), ('butter-woman', 1), ('perils', 1), ('spanish', 1), ('stripped', 1), ('citadel', 1), ('fathom', 1), ('throca', 1), ('villianda', 1), ('par', 1), ('thromuldo', 1), ('muskos', 1), ('dane', 1), ('vauvado', 1), ('kerelybonto', 1), ('poniards', 1), ('oscorbidulchos', 1), ('volivorco', 1), ('hoodwink', 1), ('acordo', 1), ('linta', 1), ('granted', 1), ('woodcock', 1), ('addition', 1), ('rights', 1), ('unseal', 1), ('scarr', 1), ('champion', 1), ('knock', 1), ('future', 1), ('braid', 1), ('unjustly', 1), ('tuned', 1), ('bounty', 1), ('spoil', 1), ('monumental', 1), ('unchaste', 1), ('treasons', 1), ('abhorred', 1), ('contrives', 1), ('trumpeters', 1), ('gladly', 1), ('meddle', 1), ('pretence', 1), ('undertaking', 1), ('austere', 1), ('accomplished', 1), ('became', 1), ('justified', 1), ('confirmations', 1), ('arming', 1), ('encountered', 1), ('web', 1), ('crimes', 1), ('cherished', 1), ('street', 1), ('dispatched', 1), ('nearest', 1), ('mourned', 1), ('returning', 1), ('entertained', 1), ('dialogue', 1), ('double-meaning', 1), ('wench', 1), ('morgan', 1), ('supposes', 1), ('tartarossa', 1), ('pasty', 1), ('bosko', 1), ('chimurcho', 1), ('boblibindo', 1), ('merciful', 1), ('unserviceable', 1), ('commanders', 1), ('sacrament', 1), ('past-saving', 1), ('militarist', 1), (',i', 1), ('sebastian', 1), ('cosmo', 1), ('gratii', 1), ('muster-file', 1), ('cassocks', 1), ('pieces', 1), ('prentice', 1), ('tile', 1), ('pocket', 1), ('tent', 1), ('allurement', 1), ('ruttish', 1), ('whale', 1), ('mell', 1), ('rapes', 1), ('ravishments', 1), ('professes', 1), (',to', 1), ('belie', 1), ('except', 1), ('mile-end', 1), ('doubling', 1), ('rarity', 1), ('perpetual', 1), ('perpetually', 1), ('reputed', 1), ('saved', 1), ('drumming', 1), ('supposition', 1), ('ambush', 1), ('traitorously', 1), ('discovered', 1), ('pestiferous', 1), ('greeting', 1), ('sonnet', 1), ('crushed', 1), ('christian', 1), ('desired', 1), ('flinty', 1), ('duly', 1), ('aiding', 1), ('helper', 1), ('trusting', 1), ('defiles', 1), ('pitchy', 1), ('revives', 1), ('misled', 1), ('saffron', 1), ('advanced', 1), ('red-tailed', 1), ('partaken', 1), ('owed', 1), ('rooted', 1), ('salads', 1), ('sweet-marjoram', 1), ('salad-herbs', 1), ('nose-herbs', 1), ('nebuchadnezzar', 1), ('hotter', 1), ('woodland', 1), ('narrow', 1), ('chill', 1), ('jade', 1), ('sauciness', 1), ('moved', 1), ('minority', 1), ('propose', 1), ('conceived', 1), ('post', 1), ('numbered', 1), ('rejoices', 1), ('carbonadoed', 1), ('delicate', 1), ('feathers', 1), ('adverse', 1), ('unfit', 1), ('familiarity', 1), ('sluttish', 1), ('buttering', 1), ('spake', 1), ('stink', 1), ('foh', 1), ('nobleman', 1), ('purr', 1), ('musk-cat', 1), ('fishpond', 1), ('carp', 1), ('ingenious', 1), ('inquire', 1), ('estimation', 1), ('revenges', 1), ('shoot', 1), (',the', 1), ('astonish', 1), ('incensing', 1), ('relics', 1), ('brightest', 1), ('high-repented', 1), ('blames', 1), ('decrees', 1), ('inaudible', 1), ('steals', 1), ('infixing', 1), ('perspective', 1), ('contracted', 1), ('hideous', 1), ('prais', 1), ('excus', 1), ('compt', 1), ('slowly', 1), ('sour', 1), ('trivial', 1), ('unjust', 1), ('destroy', 1), ('knell', 1), ('marriage-day', 1), ('speaking', 1), ('stead', 1), ('reckon', 1), ('contain', 1), ('fully', 1), ('tinct', 1), ('saints', 1), ('inhuman', 1), ('vanity', 1), ('sift', 1), ('thinkings', 1), ('undertook', 1), ('attending', 1), ('importing', 1), ('verbal', 1), ('flourishes', 1), ('.\"', 1), ('foully', 1), ('marries', 1), ('validity', 1), ('gem', 1), ('conferr', 1), ('perfidious', 1), ('boarded', 1), ('angle', 1), ('impediments', 1), ('motives', 1), ('market-price', 1), ('diet', 1), ('boggle', 1), ('naughty', 1), ('orator', 1), ('knowest', 1), ('talked', 1), ('satan', 1), ('motions', 1), ('abuse', 1), ('exorcist', 1), ('real', 1), ('clearly', 1), ('handkercher', 1), ('curtsies', 1), ('resolvedly', 1), ('goldenly', 1), ('differs', 1), ('manage', 1), ('riders', 1), ('hired', 1), ('plentifully', 1), ('mines', 1), ('idleness', 1), ('employed', 1), ('hogs', 1), ('prodigal', 1), ('portion', 1), ('allows', 1), ('tradition', 1), ('reverence', 1), ('trained', 1), ('peasant', 1), ('allottery', 1), ('troubled', 1), ('rankness', 1), ('importunes', 1), ('access', 1), ('disguised', 1), ('escapes', 1), ('limb', 1), ('notice', 1), ('underhand', 1), ('resolute', 1), ('stubbornest', 1), ('emulator', 1), ('contriver', 1), ('practise', 1), ('schooled', 1), ('enchantingly', 1), ('kindle', 1), ('extraordinary', 1), ('righteously', 1), ('tempered', 1), ('rejoice', 1), ('wheel', 1), ('bestowed', 1), ('misplaced', 1), ('cutter-off', 1), ('goddesses', 1), ('dulness', 1), ('heap', 1), ('unmuzzle', 1), ('stroke', 1), ('chins', 1), ('meanest', 1), ('taxation', 1), ('bon', 1), ('jour', 1), ('trowel', 1), ('losest', 1), ('bills', 1), ('beholders', 1), ('crept', 1), ('odds', 1), ('challenged', 1), ('foiled', 1), ('shamed', 1), ('lament', 1), ('supplied', 1), ('persuaded', 1), ('breathed', 1), ('descended', 1), ('adopted', 1), ('entreaties', 1), ('exceeded', 1), ('quintain', 1), ('lifeless', 1), ('misconstrues', 1), ('smaller', 1), ('smother', 1), ('petticoats', 1), ('affections', 1), ('jests', 1), ('unborn', 1), ('purgation', 1), ('consist', 1), ('likelihood', 1), ('dukedom', 1), ('treason', 1), ('inherited', 1), ('remorse', 1), ('firm', 1), ('doom', 1), ('outstay', 1), ('girl', 1), ('provoketh', 1), ('smirch', 1), (',in', 1), ('swashing', 1), ('outside', 1), ('mannish', 1), ('cowards', 1), ('clownish', 1), ('banishment', 1), ('co-mates', 1), ('custom', 1), ('woods', 1), ('fang', 1), ('flattery', 1), ('counsellors', 1), ('feelingly', 1), ('persuade', 1), ('toad', 1), ('brooks', 1), ('stubbornness', 1), ('burghers', 1), ('confines', 1), ('haunches', 1), ('gor', 1), ('peeps', 1), ('sequester', 1), ('hunters', 1), ('animal', 1), ('heav', 1), ('bursting', 1), ('marked', 1), ('extremest', 1), ('needless', 1), ('abandon', 1), ('jumps', 1), ('invectively', 1), ('pierceth', 1), ('usurpers', 1), ('sullen', 1), ('sufferance', 1), ('also', 1), ('missing', 1), ('hisperia', 1), ('confesses', 1), ('erheard', 1), ('believes', 1), ('runaways', 1), ('memory', 1), ('overcome', 1), ('priser', 1), ('comely', 1), ('roof', 1), (',no', 1), ('overheard', 1), ('thrifty', 1), ('foster-nurse', 1), ('ravens', 1), ('rebellious', 1), ('liquors', 1), ('unbashful', 1), ('debility', 1), ('frosty', 1), ('blossom', 1), ('debtor', 1), ('travellers', 1), ('sigh', 1), ('actions', 1), ('slightest', 1), ('abruptly', 1), ('searching', 1), ('dugs', 1), ('chopped', 1), ('milked', 1), ('shins', 1), ('betters', 1), ('shear', 1), ('fleeces', 1), ('hospitality', 1), ('sheepcote', 1), ('assuredly', 1), ('feeder', 1), ('eggs', 1), ('stanzo', 1), ('dog-apes', 1), ('beggarly', 1), ('sirs', 1), ('disputable', 1), ('boast', 1), ('warble', 1), ('secking', 1), ('gets', 1), ('leaving', 1), ('banquet', 1), ('mocker', 1), ('transform', 1), ('nowhere', 1), ('bask', 1), ('brain', 1), (',he', 1), ('mangled', 1), ('galled', 1), ('anatomiz', 1), ('cleanse', 1), ('counter', 1), ('mischievous', 1), ('brutish', 1), ('licence', 1), ('party', 1), ('hugely', 1), ('ebb', 1), ('city-woman', 1), ('basest', 1), ('bravery', 1), ('mettle', 1), ('taxing', 1), ('nurture', 1), ('commandment', 1), ('inaccessible', 1), ('bell', 1), ('doe', 1), ('limp', 1), ('bit', 1), ('theatre', 1), ('pageants', 1), ('entrances', 1), ('ages', 1), ('infant', 1), ('mewling', 1), ('puking', 1), ('whining', 1), ('furnace', 1), ('bearded', 1), ('severe', 1), ('slipper', 1), ('pantaloon', 1), ('spectacles', 1), ('bite', 1), ('effigies', 1), ('limn', 1), ('residue', 1), ('expediently', 1), ('thrice-crowned', 1), ('huntress', 1), ('character', 1), ('unexpressive', 1), ('solitary', 1), ('pleaseth', 1), ('plenty', 1), ('philosopher', 1), ('mockable', 1), ('salute', 1), ('courtiers', 1), ('handling', 1), ('grease', 1), ('mutton', 1), ('tarred', 1), ('surgery', 1), ('worms-meat', 1), ('perpend', 1), ('incision', 1), ('labourer', 1), ('she-lamb', 1), ('crooked-pated', 1), ('ram', 1), ('mounted', 1), ('butter-women', 1), ('market', 1), ('sheaf', 1), ('sourest', 1), ('span', 1), ('quintessence', 1), ('charg', 1), ('enlarg', 1), ('synod', 1), ('faces', 1), ('pulpiter', 1), ('homily', 1), ('cried', 1), ('baggage', 1), ('scrippage', 1), ('lamely', 1), ('wondering', 1), ('pythagoras', 1), ('rat', 1), ('trow', 1), ('petitionary', 1), ('whooping', 1), ('caparison', 1), ('inch', 1), ('south-sea', 1), ('stammer', 1), ('narrow-mouth', 1), ('tripped', 1), ('particulars', 1), ('catechism', 1), ('freshly', 1), ('finding', 1), ('curvets', 1), ('unseasonably', 1), ('wi', 1), ('stature', 1), ('cloth', 1), ('studied', 1), ('cipher', 1), ('groaning', 1), ('detect', 1), ('travels', 1), ('se', 1), ('latin', 1), ('gout', 1), ('lacking', 1), ('wasteful', 1), ('softly', 1), ('lawyers', 1), ('vacation', 1), ('kindled', 1), ('finer', 1), ('lectures', 1), ('taxed', 1), ('plants', 1), ('carving', 1), ('hawthorns', 1), ('elegies', 1), ('deifying', 1), ('cage', 1), ('rushes', 1), ('prisoner', 1), ('blue', 1), ('sunken', 1), ('unquestionable', 1), ('ungartered', 1), ('unbanded', 1), ('sleeve', 1), ('shoe', 1), ('demonstrating', 1), ('desolation', 1), ('apter', 1), ('consciences', 1), ('lunacy', 1), ('effeminate', 1), ('changeable', 1), ('apish', 1), ('spit', 1), ('drave', 1), ('nook', 1), ('monastic', 1), ('liver', 1), ('ovid', 1), ('understanding', 1), ('swearest', 1), ('dish', 1), ('sluttishness', 1), ('stagger', 1), ('horn-beasts', 1), ('necessary', 1), ('chapel', 1), ('what-ye-call', 1), ('ild', 1), ('toy', 1), ('wainscot', 1), ('timber', 1), ('browner', 1), ('sanctity', 1), ('pair', 1), ('sisterhood', 1), ('pick-purse', 1), ('concave', 1), ('tapster', 1), ('reckonings', 1), ('asked', 1), ('parentage', 1), ('laughed', 1), ('athwart', 1), ('tilter', 1), ('guides', 1), ('feedeth', 1), ('axe', 1), ('begs', 1), ('sterner', 1), ('injure', 1), ('frail', 1), ('softest', 1), ('butchers', 1), ('impressure', 1), ('wounds', 1), ('afflict', 1), ('mocks', 1), ('exult', 1), ('sale-work', 1), ('od', 1), ('entame', 1), ('south', 1), ('puffing', 1), ('scoffer', 1), ('frowning', 1), ('falser', 1), ('tuft', 1), ('olives', 1), ('ply', 1), ('relief', 1), ('erst', 1), ('irksome', 1), ('gladness', 1), ('harvest', 1), ('carlot', 1), ('talks', 1), ('redness', 1), ('mix', 1)]\n"
     ]
    }
   ],
   "source": [
    "rdd_really_clean = rdd_clean.filter(lambda word: len(word) > 1)\n",
    "rdd_count = rdd_really_clean.map(lambda x: (x, 1))\n",
    "print(rdd_count.reduceByKey(lambda x,y : x+y).sortBy(lambda x: x[1], False).collect())"
   ]
  },
  {
   "cell_type": "code",
   "execution_count": 45,
   "id": "7a376989-e032-47ab-b38e-0ad1ddb04943",
   "metadata": {},
   "outputs": [],
   "source": [
    "from pyspark.sql import SparkSession\n",
    "\n",
    "\n",
    "spark = SparkSession.builder.appName(\"Spark Course\").master(\"local[*]\").getOrCreate()\n",
    "sc = spark.sparkContext"
   ]
  },
  {
   "cell_type": "code",
   "execution_count": 46,
   "id": "d44df7ec-6933-4494-a266-3ab7b17b1890",
   "metadata": {},
   "outputs": [],
   "source": [
    "L = [[0, \"Alexandre\", 28, \"Chatou\", \"December\"], \n",
    "     [1, \"Damien\", 24, \"Courbevoie\", \"November\"], \n",
    "     [2, \"Dimitri\", 25, \"Sibiu\", \"October\"], \n",
    "     [3, \"Sacha\", 32, \"Poissy\", \"September\"], \n",
    "     [4, \"Victor\", 21, \"Montrouge\", \"June\"]]\n",
    "\n",
    "rdd = sc.parallelize(L)\n",
    "\n"
   ]
  },
  {
   "cell_type": "code",
   "execution_count": 47,
   "id": "c9af9d27-c1f9-4268-8209-228eee68d1b8",
   "metadata": {},
   "outputs": [
    {
     "name": "stdout",
     "output_type": "stream",
     "text": [
      "root\n",
      " |-- _1: long (nullable = true)\n",
      " |-- _2: string (nullable = true)\n",
      " |-- _3: long (nullable = true)\n",
      " |-- _4: string (nullable = true)\n",
      " |-- _5: string (nullable = true)\n",
      "\n",
      "+---+---------+---+----------+---------+\n",
      "| _1|       _2| _3|        _4|       _5|\n",
      "+---+---------+---+----------+---------+\n",
      "|  0|Alexandre| 28|    Chatou| December|\n",
      "|  1|   Damien| 24|Courbevoie| November|\n",
      "|  2|  Dimitri| 25|     Sibiu|  October|\n",
      "|  3|    Sacha| 32|    Poissy|September|\n",
      "|  4|   Victor| 21| Montrouge|     June|\n",
      "+---+---------+---+----------+---------+\n",
      "\n"
     ]
    },
    {
     "data": {
      "text/plain": [
       "'\\nThe integers here are deduced to be of long type which is too heavy to store what we want here, interger type would be more suitable. \\nWe do not have our desired column names which is logical because we did not specify those at any moment.\\n'"
      ]
     },
     "execution_count": 47,
     "metadata": {},
     "output_type": "execute_result"
    }
   ],
   "source": [
    "df = rdd.toDF()\n",
    "df.printSchema() \n",
    "df.show()\n",
    "\n",
    "'''\n",
    "The integers here are deduced to be of long type which is too heavy to store what we want here, interger type would be more suitable. \n",
    "We do not have our desired column names which is logical because we did not specify those at any moment.\n",
    "'''"
   ]
  },
  {
   "cell_type": "code",
   "execution_count": 48,
   "id": "8ee9c4ae-a1fd-4203-b6ef-b2fdb6beac10",
   "metadata": {},
   "outputs": [
    {
     "name": "stdout",
     "output_type": "stream",
     "text": [
      "root\n",
      " |-- : integer (nullable = false)\n",
      " |-- FirstName: string (nullable = true)\n",
      " |-- Age: integer (nullable = true)\n",
      " |-- City: string (nullable = true)\n",
      " |-- Cohort: string (nullable = true)\n",
      "\n",
      "+---+---------+---+----------+---------+\n",
      "|   |FirstName|Age|      City|   Cohort|\n",
      "+---+---------+---+----------+---------+\n",
      "|  0|Alexandre| 28|    Chatou| December|\n",
      "|  1|   Damien| 24|Courbevoie| November|\n",
      "|  2|  Dimitri| 25|     Sibiu|  October|\n",
      "|  3|    Sacha| 32|    Poissy|September|\n",
      "|  4|   Victor| 21| Montrouge|     June|\n",
      "+---+---------+---+----------+---------+\n",
      "\n"
     ]
    }
   ],
   "source": [
    "from pyspark.sql.types import *\n",
    "\n",
    "\n",
    "L = [[0, \"Alexandre\", 28, \"Chatou\", \"December\"], \n",
    "     [1, \"Damien\", 24, \"Courbevoie\", \"November\"], \n",
    "     [2, \"Dimitri\", 25, \"Sibiu\", \"October\"], \n",
    "     [3, \"Sacha\", 32, \"Poissy\", \"September\"], \n",
    "     [4, \"Victor\", 21, \"Montrouge\", \"June\"]]\n",
    "\n",
    "rdd = sc.parallelize(L)\n",
    "schema = StructType([\n",
    "    StructField(\"\", IntegerType(), False), \n",
    "    StructField(\"FirstName\", StringType()), \n",
    "    StructField(\"Age\", IntegerType()), \n",
    "    StructField(\"City\", StringType()), \n",
    "    StructField(\"Cohort\", StringType())\n",
    "])\n",
    "\n",
    "df = spark.createDataFrame(rdd, schema)\n",
    "df.printSchema()\n",
    "df.show()"
   ]
  },
  {
   "cell_type": "code",
   "execution_count": 49,
   "id": "7fec4197-8d17-40c7-ac53-49dab143d655",
   "metadata": {},
   "outputs": [
    {
     "name": "stdout",
     "output_type": "stream",
     "text": [
      "root\n",
      " |-- Prénom: string (nullable = true)\n",
      " |-- Âge: integer (nullable = true)\n",
      " |-- Ville: string (nullable = true)\n",
      " |-- Cohorte: string (nullable = true)\n",
      "\n",
      "+---------+---+----------+---------+\n",
      "|   Prénom|Âge|     Ville|  Cohorte|\n",
      "+---------+---+----------+---------+\n",
      "|Alexandre| 28|    Chatou| Décembre|\n",
      "|   Damien| 24|Courbevoie| Novembre|\n",
      "|  Dimitri| 25|     Sibiu|  Octobre|\n",
      "|    Sacha| 32|    Poissy|Septembre|\n",
      "|   Victor| 21| Montrouge|     Juin|\n",
      "+---------+---+----------+---------+\n",
      "\n"
     ]
    }
   ],
   "source": [
    "df_csv = spark.read.option(\"header\", True).option(\"inferSchema\", True).csv(\"csv_comma.csv\")\n",
    "df_csv.printSchema()\n",
    "df_csv.show()"
   ]
  },
  {
   "cell_type": "code",
   "execution_count": 50,
   "id": "cf007973-d4c2-42c9-80cb-99c39e23c3a9",
   "metadata": {},
   "outputs": [
    {
     "name": "stdout",
     "output_type": "stream",
     "text": [
      "+---------+---------+----------+---+\n",
      "|  Cohorte|   Prénom|     Ville|Âge|\n",
      "+---------+---------+----------+---+\n",
      "| Décembre|Alexandre|    Chatou| 28|\n",
      "| Novembre|   Damien|Courbevoie| 24|\n",
      "|  Octobre|  Dimitri|     Sibiu| 25|\n",
      "|Septembre|    Sacha|    Poissy| 32|\n",
      "|     Juin|   Victor| Montrouge| 21|\n",
      "+---------+---------+----------+---+\n",
      "\n",
      "root\n",
      " |-- Cohorte: string (nullable = true)\n",
      " |-- Prénom: string (nullable = true)\n",
      " |-- Ville: string (nullable = true)\n",
      " |-- Âge: long (nullable = true)\n",
      "\n"
     ]
    }
   ],
   "source": [
    "df_json = spark.read.option(\"multiLine\", True).json(\"json_comma.json\")\n",
    "df_json.show()\n",
    "df_json.printSchema()"
   ]
  },
  {
   "cell_type": "code",
   "execution_count": 51,
   "id": "87489b93-7df9-4bcd-949e-b3e79fd6b23f",
   "metadata": {},
   "outputs": [
    {
     "name": "stdout",
     "output_type": "stream",
     "text": [
      "+----+---------+----+----+------+\n",
      "|    |FirstName| Age|City|Cohort|\n",
      "+----+---------+----+----+------+\n",
      "|NULL|     NULL|NULL|NULL|  NULL|\n",
      "|NULL|     NULL|NULL|NULL|  NULL|\n",
      "|NULL|     NULL|NULL|NULL|  NULL|\n",
      "|NULL|     NULL|NULL|NULL|  NULL|\n",
      "|NULL|     NULL|NULL|NULL|  NULL|\n",
      "+----+---------+----+----+------+\n",
      "\n",
      "root\n",
      " |-- : integer (nullable = true)\n",
      " |-- FirstName: string (nullable = true)\n",
      " |-- Age: integer (nullable = true)\n",
      " |-- City: string (nullable = true)\n",
      " |-- Cohort: string (nullable = true)\n",
      "\n"
     ]
    }
   ],
   "source": [
    "df_json_schema = spark.read.schema(schema).option(\"multiLine\", True).json(\"json_comma.json\")\n",
    "df_json_schema.show()\n",
    "df_json_schema.printSchema()"
   ]
  },
  {
   "cell_type": "code",
   "execution_count": 52,
   "id": "32632b18-1199-41b8-832b-bf3c02a931e6",
   "metadata": {},
   "outputs": [
    {
     "name": "stdout",
     "output_type": "stream",
     "text": [
      "+--------------------+--------------+------+-------+----+-----------+----+-----+--------------+--------------------+------------------+------------------+------------+\n",
      "|                 App|      Category|Rating|Reviews|Size|   Installs|Type|Price|Content Rating|              Genres|      Last Updated|       Current Ver| Android Ver|\n",
      "+--------------------+--------------+------+-------+----+-----------+----+-----+--------------+--------------------+------------------+------------------+------------+\n",
      "|Photo Editor & Ca...|ART_AND_DESIGN|   4.1|    159| 19M|    10,000+|Free|    0|      Everyone|        Art & Design|   January 7, 2018|             1.0.0|4.0.3 and up|\n",
      "| Coloring book moana|ART_AND_DESIGN|   3.9|    967| 14M|   500,000+|Free|    0|      Everyone|Art & Design;Pret...|  January 15, 2018|             2.0.0|4.0.3 and up|\n",
      "|U Launcher Lite –...|ART_AND_DESIGN|   4.7|  87510|8.7M| 5,000,000+|Free|    0|      Everyone|        Art & Design|    August 1, 2018|             1.2.4|4.0.3 and up|\n",
      "|Sketch - Draw & P...|ART_AND_DESIGN|   4.5| 215644| 25M|50,000,000+|Free|    0|          Teen|        Art & Design|      June 8, 2018|Varies with device|  4.2 and up|\n",
      "|Pixel Draw - Numb...|ART_AND_DESIGN|   4.3|    967|2.8M|   100,000+|Free|    0|      Everyone|Art & Design;Crea...|     June 20, 2018|               1.1|  4.4 and up|\n",
      "|Paper flowers ins...|ART_AND_DESIGN|   4.4|    167|5.6M|    50,000+|Free|    0|      Everyone|        Art & Design|    March 26, 2017|               1.0|  2.3 and up|\n",
      "|Smoke Effect Phot...|ART_AND_DESIGN|   3.8|    178| 19M|    50,000+|Free|    0|      Everyone|        Art & Design|    April 26, 2018|               1.1|4.0.3 and up|\n",
      "|    Infinite Painter|ART_AND_DESIGN|   4.1|  36815| 29M| 1,000,000+|Free|    0|      Everyone|        Art & Design|     June 14, 2018|          6.1.61.1|  4.2 and up|\n",
      "|Garden Coloring Book|ART_AND_DESIGN|   4.4|  13791| 33M| 1,000,000+|Free|    0|      Everyone|        Art & Design|September 20, 2017|             2.9.2|  3.0 and up|\n",
      "|Kids Paint Free -...|ART_AND_DESIGN|   4.7|    121|3.1M|    10,000+|Free|    0|      Everyone|Art & Design;Crea...|      July 3, 2018|               2.8|4.0.3 and up|\n",
      "|Text on Photo - F...|ART_AND_DESIGN|   4.4|  13880| 28M| 1,000,000+|Free|    0|      Everyone|        Art & Design|  October 27, 2017|             1.0.4|  4.1 and up|\n",
      "|Name Art Photo Ed...|ART_AND_DESIGN|   4.4|   8788| 12M| 1,000,000+|Free|    0|      Everyone|        Art & Design|     July 31, 2018|            1.0.15|  4.0 and up|\n",
      "|Tattoo Name On My...|ART_AND_DESIGN|   4.2|  44829| 20M|10,000,000+|Free|    0|          Teen|        Art & Design|     April 2, 2018|               3.8|  4.1 and up|\n",
      "|Mandala Coloring ...|ART_AND_DESIGN|   4.6|   4326| 21M|   100,000+|Free|    0|      Everyone|        Art & Design|     June 26, 2018|             1.0.4|  4.4 and up|\n",
      "|3D Color Pixel by...|ART_AND_DESIGN|   4.4|   1518| 37M|   100,000+|Free|    0|      Everyone|        Art & Design|    August 3, 2018|             1.2.3|  2.3 and up|\n",
      "|Learn To Draw Kaw...|ART_AND_DESIGN|   3.2|     55|2.7M|     5,000+|Free|    0|      Everyone|        Art & Design|      June 6, 2018|               NaN|  4.2 and up|\n",
      "|Photo Designer - ...|ART_AND_DESIGN|   4.7|   3632|5.5M|   500,000+|Free|    0|      Everyone|        Art & Design|     July 31, 2018|               3.1|  4.1 and up|\n",
      "|350 Diy Room Deco...|ART_AND_DESIGN|   4.5|     27| 17M|    10,000+|Free|    0|      Everyone|        Art & Design|  November 7, 2017|               1.0|  2.3 and up|\n",
      "|FlipaClip - Carto...|ART_AND_DESIGN|   4.3| 194216| 39M| 5,000,000+|Free|    0|      Everyone|        Art & Design|    August 3, 2018|             2.2.5|4.0.3 and up|\n",
      "|        ibis Paint X|ART_AND_DESIGN|   4.6| 224399| 31M|10,000,000+|Free|    0|      Everyone|        Art & Design|     July 30, 2018|             5.5.4|  4.1 and up|\n",
      "+--------------------+--------------+------+-------+----+-----------+----+-----+--------------+--------------------+------------------+------------------+------------+\n",
      "only showing top 20 rows\n",
      "\n",
      "root\n",
      " |-- App: string (nullable = true)\n",
      " |-- Category: string (nullable = true)\n",
      " |-- Rating: string (nullable = true)\n",
      " |-- Reviews: string (nullable = true)\n",
      " |-- Size: string (nullable = true)\n",
      " |-- Installs: string (nullable = true)\n",
      " |-- Type: string (nullable = true)\n",
      " |-- Price: string (nullable = true)\n",
      " |-- Content Rating: string (nullable = true)\n",
      " |-- Genres: string (nullable = true)\n",
      " |-- Last Updated: string (nullable = true)\n",
      " |-- Current Ver: string (nullable = true)\n",
      " |-- Android Ver: string (nullable = true)\n",
      "\n"
     ]
    }
   ],
   "source": [
    "df_gps = spark.read.option(\"header\", True).option(\"interSchema\", True).option(\"escape\", \"\\\"\").csv(\"gps_app.csv\")\n",
    "df_gps.show()\n",
    "df_gps.printSchema()\n"
   ]
  },
  {
   "cell_type": "code",
   "execution_count": 53,
   "id": "e0e17ca4-3dc9-4f04-938d-b9c09c6dc6ba",
   "metadata": {},
   "outputs": [
    {
     "name": "stdout",
     "output_type": "stream",
     "text": [
      "+---------+---+----------+---------+\n",
      "|   Prénom|Âge|     Ville|  Cohorte|\n",
      "+---------+---+----------+---------+\n",
      "|Alexandre| 28|    Chatou| Décembre|\n",
      "|   Damien| 24|Courbevoie| Novembre|\n",
      "|  Dimitri| 25|     Sibiu|  Octobre|\n",
      "|    Sacha| 32|    Poissy|Septembre|\n",
      "|   Victor| 21| Montrouge|     Juin|\n",
      "+---------+---+----------+---------+\n",
      "\n",
      "+---------+---------+----------+---+\n",
      "|  Cohorte|   Prénom|     Ville|Âge|\n",
      "+---------+---------+----------+---+\n",
      "| Décembre|Alexandre|    Chatou| 28|\n",
      "| Novembre|   Damien|Courbevoie| 24|\n",
      "|  Octobre|  Dimitri|     Sibiu| 25|\n",
      "|Septembre|    Sacha|    Poissy| 32|\n",
      "|     Juin|   Victor| Montrouge| 21|\n",
      "+---------+---------+----------+---+\n",
      "\n",
      "+--------------------+--------------+------+-------+----+-----------+----+-----+--------------+--------------------+----------------+------------------+------------+\n",
      "|                 App|      Category|Rating|Reviews|Size|   Installs|Type|Price|Content Rating|              Genres|    Last Updated|       Current Ver| Android Ver|\n",
      "+--------------------+--------------+------+-------+----+-----------+----+-----+--------------+--------------------+----------------+------------------+------------+\n",
      "|Photo Editor & Ca...|ART_AND_DESIGN|   4.1|    159| 19M|    10,000+|Free|    0|      Everyone|        Art & Design| January 7, 2018|             1.0.0|4.0.3 and up|\n",
      "| Coloring book moana|ART_AND_DESIGN|   3.9|    967| 14M|   500,000+|Free|    0|      Everyone|Art & Design;Pret...|January 15, 2018|             2.0.0|4.0.3 and up|\n",
      "|U Launcher Lite –...|ART_AND_DESIGN|   4.7|  87510|8.7M| 5,000,000+|Free|    0|      Everyone|        Art & Design|  August 1, 2018|             1.2.4|4.0.3 and up|\n",
      "|Sketch - Draw & P...|ART_AND_DESIGN|   4.5| 215644| 25M|50,000,000+|Free|    0|          Teen|        Art & Design|    June 8, 2018|Varies with device|  4.2 and up|\n",
      "|Pixel Draw - Numb...|ART_AND_DESIGN|   4.3|    967|2.8M|   100,000+|Free|    0|      Everyone|Art & Design;Crea...|   June 20, 2018|               1.1|  4.4 and up|\n",
      "+--------------------+--------------+------+-------+----+-----------+----+-----+--------------+--------------------+----------------+------------------+------------+\n",
      "only showing top 5 rows\n",
      "\n"
     ]
    }
   ],
   "source": [
    "df_csv.show(5)\n",
    "df_json.show(5)\n",
    "df_gps.show(5)\n"
   ]
  },
  {
   "cell_type": "code",
   "execution_count": 54,
   "id": "ddee1297-8dcb-4f2b-941f-b1d275e3726a",
   "metadata": {},
   "outputs": [
    {
     "name": "stdout",
     "output_type": "stream",
     "text": [
      "[Row(Prénom='Alexandre', Âge=28, Ville='Chatou', Cohorte='Décembre'), Row(Prénom='Damien', Âge=24, Ville='Courbevoie', Cohorte='Novembre'), Row(Prénom='Dimitri', Âge=25, Ville='Sibiu', Cohorte='Octobre'), Row(Prénom='Sacha', Âge=32, Ville='Poissy', Cohorte='Septembre'), Row(Prénom='Victor', Âge=21, Ville='Montrouge', Cohorte='Juin')]\n",
      "[Row(Prénom='Alexandre', Âge=28, Ville='Chatou', Cohorte='Décembre'), Row(Prénom='Damien', Âge=24, Ville='Courbevoie', Cohorte='Novembre'), Row(Prénom='Dimitri', Âge=25, Ville='Sibiu', Cohorte='Octobre'), Row(Prénom='Sacha', Âge=32, Ville='Poissy', Cohorte='Septembre'), Row(Prénom='Victor', Âge=21, Ville='Montrouge', Cohorte='Juin')]\n",
      "Row(Prénom='Alexandre', Âge=28, Ville='Chatou', Cohorte='Décembre')\n"
     ]
    }
   ],
   "source": [
    "print(df_csv.head(5))\n",
    "print(df_csv.tail(5))\n",
    "print(df_csv.first())\n"
   ]
  },
  {
   "cell_type": "code",
   "execution_count": 55,
   "id": "1ebe2d46-8c88-4d4f-a097-107b586e16fe",
   "metadata": {},
   "outputs": [
    {
     "name": "stdout",
     "output_type": "stream",
     "text": [
      "[Row(Cohorte='Décembre', Prénom='Alexandre', Ville='Chatou', Âge=28), Row(Cohorte='Novembre', Prénom='Damien', Ville='Courbevoie', Âge=24), Row(Cohorte='Octobre', Prénom='Dimitri', Ville='Sibiu', Âge=25), Row(Cohorte='Septembre', Prénom='Sacha', Ville='Poissy', Âge=32), Row(Cohorte='Juin', Prénom='Victor', Ville='Montrouge', Âge=21)]\n",
      "[Row(Cohorte='Décembre', Prénom='Alexandre', Ville='Chatou', Âge=28), Row(Cohorte='Novembre', Prénom='Damien', Ville='Courbevoie', Âge=24), Row(Cohorte='Octobre', Prénom='Dimitri', Ville='Sibiu', Âge=25), Row(Cohorte='Septembre', Prénom='Sacha', Ville='Poissy', Âge=32), Row(Cohorte='Juin', Prénom='Victor', Ville='Montrouge', Âge=21)]\n",
      "Row(Cohorte='Décembre', Prénom='Alexandre', Ville='Chatou', Âge=28)\n"
     ]
    }
   ],
   "source": [
    "print(df_json.head(5))\n",
    "print(df_json.tail(5))\n",
    "print(df_json.first())\n"
   ]
  },
  {
   "cell_type": "code",
   "execution_count": 56,
   "id": "8ba8302d-45b0-474c-98f6-a184f3418576",
   "metadata": {},
   "outputs": [
    {
     "name": "stdout",
     "output_type": "stream",
     "text": [
      "[Row(App='Photo Editor & Candy Camera & Grid & ScrapBook', Category='ART_AND_DESIGN', Rating='4.1', Reviews='159', Size='19M', Installs='10,000+', Type='Free', Price='0', Content Rating='Everyone', Genres='Art & Design', Last Updated='January 7, 2018', Current Ver='1.0.0', Android Ver='4.0.3 and up'), Row(App='Coloring book moana', Category='ART_AND_DESIGN', Rating='3.9', Reviews='967', Size='14M', Installs='500,000+', Type='Free', Price='0', Content Rating='Everyone', Genres='Art & Design;Pretend Play', Last Updated='January 15, 2018', Current Ver='2.0.0', Android Ver='4.0.3 and up'), Row(App='U Launcher Lite – FREE Live Cool Themes, Hide Apps', Category='ART_AND_DESIGN', Rating='4.7', Reviews='87510', Size='8.7M', Installs='5,000,000+', Type='Free', Price='0', Content Rating='Everyone', Genres='Art & Design', Last Updated='August 1, 2018', Current Ver='1.2.4', Android Ver='4.0.3 and up'), Row(App='Sketch - Draw & Paint', Category='ART_AND_DESIGN', Rating='4.5', Reviews='215644', Size='25M', Installs='50,000,000+', Type='Free', Price='0', Content Rating='Teen', Genres='Art & Design', Last Updated='June 8, 2018', Current Ver='Varies with device', Android Ver='4.2 and up'), Row(App='Pixel Draw - Number Art Coloring Book', Category='ART_AND_DESIGN', Rating='4.3', Reviews='967', Size='2.8M', Installs='100,000+', Type='Free', Price='0', Content Rating='Everyone', Genres='Art & Design;Creativity', Last Updated='June 20, 2018', Current Ver='1.1', Android Ver='4.4 and up')]\n",
      "[Row(App='Sya9a Maroc - FR', Category='FAMILY', Rating='4.5', Reviews='38', Size='53M', Installs='5,000+', Type='Free', Price='0', Content Rating='Everyone', Genres='Education', Last Updated='July 25, 2017', Current Ver='1.48', Android Ver='4.1 and up'), Row(App='Fr. Mike Schmitz Audio Teachings', Category='FAMILY', Rating='5.0', Reviews='4', Size='3.6M', Installs='100+', Type='Free', Price='0', Content Rating='Everyone', Genres='Education', Last Updated='July 6, 2018', Current Ver='1.0', Android Ver='4.1 and up'), Row(App='Parkinson Exercices FR', Category='MEDICAL', Rating='NaN', Reviews='3', Size='9.5M', Installs='1,000+', Type='Free', Price='0', Content Rating='Everyone', Genres='Medical', Last Updated='January 20, 2017', Current Ver='1.0', Android Ver='2.2 and up'), Row(App='The SCP Foundation DB fr nn5n', Category='BOOKS_AND_REFERENCE', Rating='4.5', Reviews='114', Size='Varies with device', Installs='1,000+', Type='Free', Price='0', Content Rating='Mature 17+', Genres='Books & Reference', Last Updated='January 19, 2015', Current Ver='Varies with device', Android Ver='Varies with device'), Row(App='iHoroscope - 2018 Daily Horoscope & Astrology', Category='LIFESTYLE', Rating='4.5', Reviews='398307', Size='19M', Installs='10,000,000+', Type='Free', Price='0', Content Rating='Everyone', Genres='Lifestyle', Last Updated='July 25, 2018', Current Ver='Varies with device', Android Ver='Varies with device')]\n",
      "Row(App='Photo Editor & Candy Camera & Grid & ScrapBook', Category='ART_AND_DESIGN', Rating='4.1', Reviews='159', Size='19M', Installs='10,000+', Type='Free', Price='0', Content Rating='Everyone', Genres='Art & Design', Last Updated='January 7, 2018', Current Ver='1.0.0', Android Ver='4.0.3 and up')\n"
     ]
    }
   ],
   "source": [
    "print(df_gps.head(5))\n",
    "print(df_gps.tail(5))\n",
    "print(df_gps.first())\n"
   ]
  },
  {
   "cell_type": "code",
   "execution_count": 57,
   "id": "8ad3f77e-a1e7-4ea7-a35b-ec39fa67f7ef",
   "metadata": {},
   "outputs": [
    {
     "name": "stdout",
     "output_type": "stream",
     "text": [
      "200.0\n"
     ]
    }
   ],
   "source": [
    "length = 1000\n",
    "fraction = length/df.count()\n",
    "print(fraction)"
   ]
  },
  {
   "cell_type": "code",
   "execution_count": 58,
   "id": "f3c9465d-761c-43ab-8416-47016d4cecd0",
   "metadata": {},
   "outputs": [
    {
     "name": "stdout",
     "output_type": "stream",
     "text": [
      "+------+---+-----+-------+\n",
      "|Prénom|Âge|Ville|Cohorte|\n",
      "+------+---+-----+-------+\n",
      "+------+---+-----+-------+\n",
      "\n"
     ]
    }
   ],
   "source": [
    "df_subset = df_csv.sample(True, 0.1)\n",
    "df_subset.distinct().show()"
   ]
  },
  {
   "cell_type": "code",
   "execution_count": 59,
   "id": "9101eb33-78d8-49fc-baf0-0843f366188f",
   "metadata": {},
   "outputs": [
    {
     "name": "stdout",
     "output_type": "stream",
     "text": [
      "+-------+------------------+\n",
      "|summary|           Reviews|\n",
      "+-------+------------------+\n",
      "|  count|             10841|\n",
      "|   mean|444152.89603321033|\n",
      "| stddev|2927760.6038856646|\n",
      "|    min|                 0|\n",
      "|    max|              9992|\n",
      "+-------+------------------+\n",
      "\n"
     ]
    }
   ],
   "source": [
    "df_gps.describe([\"Reviews\"]).show()\n"
   ]
  },
  {
   "cell_type": "code",
   "execution_count": 60,
   "id": "411e2701-206c-4495-8426-4aef78707b21",
   "metadata": {},
   "outputs": [
    {
     "name": "stdout",
     "output_type": "stream",
     "text": [
      "+--------------------+\n",
      "|                 App|\n",
      "+--------------------+\n",
      "|Photo Editor & Ca...|\n",
      "| Coloring book moana|\n",
      "|U Launcher Lite –...|\n",
      "|Sketch - Draw & P...|\n",
      "|Pixel Draw - Numb...|\n",
      "|Paper flowers ins...|\n",
      "|Smoke Effect Phot...|\n",
      "|    Infinite Painter|\n",
      "|Garden Coloring Book|\n",
      "|Kids Paint Free -...|\n",
      "|Text on Photo - F...|\n",
      "|Name Art Photo Ed...|\n",
      "|Tattoo Name On My...|\n",
      "|Mandala Coloring ...|\n",
      "|3D Color Pixel by...|\n",
      "|Learn To Draw Kaw...|\n",
      "|Photo Designer - ...|\n",
      "|350 Diy Room Deco...|\n",
      "|FlipaClip - Carto...|\n",
      "|        ibis Paint X|\n",
      "+--------------------+\n",
      "only showing top 20 rows\n",
      "\n",
      "+--------------------+\n",
      "|                 App|\n",
      "+--------------------+\n",
      "|Photo Editor & Ca...|\n",
      "| Coloring book moana|\n",
      "|U Launcher Lite –...|\n",
      "|Sketch - Draw & P...|\n",
      "|Pixel Draw - Numb...|\n",
      "|Paper flowers ins...|\n",
      "|Smoke Effect Phot...|\n",
      "|    Infinite Painter|\n",
      "|Garden Coloring Book|\n",
      "|Kids Paint Free -...|\n",
      "|Text on Photo - F...|\n",
      "|Name Art Photo Ed...|\n",
      "|Tattoo Name On My...|\n",
      "|Mandala Coloring ...|\n",
      "|3D Color Pixel by...|\n",
      "|Learn To Draw Kaw...|\n",
      "|Photo Designer - ...|\n",
      "|350 Diy Room Deco...|\n",
      "|FlipaClip - Carto...|\n",
      "|        ibis Paint X|\n",
      "+--------------------+\n",
      "only showing top 20 rows\n",
      "\n",
      "+--------------------+\n",
      "|                 App|\n",
      "+--------------------+\n",
      "|Photo Editor & Ca...|\n",
      "| Coloring book moana|\n",
      "|U Launcher Lite –...|\n",
      "|Sketch - Draw & P...|\n",
      "|Pixel Draw - Numb...|\n",
      "|Paper flowers ins...|\n",
      "|Smoke Effect Phot...|\n",
      "|    Infinite Painter|\n",
      "|Garden Coloring Book|\n",
      "|Kids Paint Free -...|\n",
      "|Text on Photo - F...|\n",
      "|Name Art Photo Ed...|\n",
      "|Tattoo Name On My...|\n",
      "|Mandala Coloring ...|\n",
      "|3D Color Pixel by...|\n",
      "|Learn To Draw Kaw...|\n",
      "|Photo Designer - ...|\n",
      "|350 Diy Room Deco...|\n",
      "|FlipaClip - Carto...|\n",
      "|        ibis Paint X|\n",
      "+--------------------+\n",
      "only showing top 20 rows\n",
      "\n",
      "+------------+\n",
      "|(Rating * 4)|\n",
      "+------------+\n",
      "|        16.4|\n",
      "|        15.6|\n",
      "|        18.8|\n",
      "|        18.0|\n",
      "|        17.2|\n",
      "|        17.6|\n",
      "|        15.2|\n",
      "|        16.4|\n",
      "|        17.6|\n",
      "|        18.8|\n",
      "|        17.6|\n",
      "|        17.6|\n",
      "|        16.8|\n",
      "|        18.4|\n",
      "|        17.6|\n",
      "|        12.8|\n",
      "|        18.8|\n",
      "|        18.0|\n",
      "|        17.2|\n",
      "|        18.4|\n",
      "+------------+\n",
      "only showing top 20 rows\n",
      "\n"
     ]
    }
   ],
   "source": [
    "from pyspark.sql.functions import *\n",
    "\n",
    "\n",
    "df_gps.select(\"App\").show()\n",
    "df_gps.select(df_gps[\"App\"]).show()\n",
    "df_gps.select(col(\"App\")).show()\n",
    "df_gps.select(4 * col(\"Rating\")).show()"
   ]
  },
  {
   "cell_type": "code",
   "execution_count": 61,
   "id": "379d2b8d-1ba3-496d-a6db-0cc4bd840efe",
   "metadata": {},
   "outputs": [
    {
     "name": "stdout",
     "output_type": "stream",
     "text": [
      "+---+-------+\n",
      "|age|   name|\n",
      "+---+-------+\n",
      "|  2|  Alice|\n",
      "|  2|Nicolai|\n",
      "|  5|    Bob|\n",
      "|  5|   Mary|\n",
      "+---+-------+\n",
      "\n",
      "+---+-------+\n",
      "|age|   name|\n",
      "+---+-------+\n",
      "|  2|Nicolai|\n",
      "|  2|  Alice|\n",
      "|  5|   Mary|\n",
      "|  5|    Bob|\n",
      "+---+-------+\n",
      "\n"
     ]
    }
   ],
   "source": [
    "#from pyspark.sql.functions import asc, desc\n",
    "\n",
    "L_sort = [[5, \"Bob\"], [2, \"Alice\"], [5, \"Mary\"], [2, \"Nicolai\"]]\n",
    "rdd_sort = sc.parallelize(L_sort)\n",
    "df_sort = rdd_sort.toDF([\"age\", \"name\"])\n",
    "\n",
    "df_sort.orderBy([\"age\", \"name\"], Ascending=[1, 0]).show()\n",
    "df_sort.orderBy(asc(\"age\"), desc(\"name\")).show()\n"
   ]
  },
  {
   "cell_type": "code",
   "execution_count": 62,
   "id": "624520a0-8ab2-4024-a3cd-d55a1918bd17",
   "metadata": {},
   "outputs": [
    {
     "name": "stdout",
     "output_type": "stream",
     "text": [
      "+--------------------+--------------+------+-------+----+-----------+----+-----+--------------+--------------------+------------------+------------------+------------+---------+\n",
      "|                 App|      Category|Rating|Reviews|Size|   Installs|Type|Price|Content Rating|              Genres|      Last Updated|       Current Ver| Android Ver|Rating/20|\n",
      "+--------------------+--------------+------+-------+----+-----------+----+-----+--------------+--------------------+------------------+------------------+------------+---------+\n",
      "|Photo Editor & Ca...|ART_AND_DESIGN|   4.1|    159| 19M|    10,000+|Free|    0|      Everyone|        Art & Design|   January 7, 2018|             1.0.0|4.0.3 and up|     16.4|\n",
      "| Coloring book moana|ART_AND_DESIGN|   3.9|    967| 14M|   500,000+|Free|    0|      Everyone|Art & Design;Pret...|  January 15, 2018|             2.0.0|4.0.3 and up|     15.6|\n",
      "|U Launcher Lite –...|ART_AND_DESIGN|   4.7|  87510|8.7M| 5,000,000+|Free|    0|      Everyone|        Art & Design|    August 1, 2018|             1.2.4|4.0.3 and up|     18.8|\n",
      "|Sketch - Draw & P...|ART_AND_DESIGN|   4.5| 215644| 25M|50,000,000+|Free|    0|          Teen|        Art & Design|      June 8, 2018|Varies with device|  4.2 and up|     18.0|\n",
      "|Pixel Draw - Numb...|ART_AND_DESIGN|   4.3|    967|2.8M|   100,000+|Free|    0|      Everyone|Art & Design;Crea...|     June 20, 2018|               1.1|  4.4 and up|     17.2|\n",
      "|Paper flowers ins...|ART_AND_DESIGN|   4.4|    167|5.6M|    50,000+|Free|    0|      Everyone|        Art & Design|    March 26, 2017|               1.0|  2.3 and up|     17.6|\n",
      "|Smoke Effect Phot...|ART_AND_DESIGN|   3.8|    178| 19M|    50,000+|Free|    0|      Everyone|        Art & Design|    April 26, 2018|               1.1|4.0.3 and up|     15.2|\n",
      "|    Infinite Painter|ART_AND_DESIGN|   4.1|  36815| 29M| 1,000,000+|Free|    0|      Everyone|        Art & Design|     June 14, 2018|          6.1.61.1|  4.2 and up|     16.4|\n",
      "|Garden Coloring Book|ART_AND_DESIGN|   4.4|  13791| 33M| 1,000,000+|Free|    0|      Everyone|        Art & Design|September 20, 2017|             2.9.2|  3.0 and up|     17.6|\n",
      "|Kids Paint Free -...|ART_AND_DESIGN|   4.7|    121|3.1M|    10,000+|Free|    0|      Everyone|Art & Design;Crea...|      July 3, 2018|               2.8|4.0.3 and up|     18.8|\n",
      "|Text on Photo - F...|ART_AND_DESIGN|   4.4|  13880| 28M| 1,000,000+|Free|    0|      Everyone|        Art & Design|  October 27, 2017|             1.0.4|  4.1 and up|     17.6|\n",
      "|Name Art Photo Ed...|ART_AND_DESIGN|   4.4|   8788| 12M| 1,000,000+|Free|    0|      Everyone|        Art & Design|     July 31, 2018|            1.0.15|  4.0 and up|     17.6|\n",
      "|Tattoo Name On My...|ART_AND_DESIGN|   4.2|  44829| 20M|10,000,000+|Free|    0|          Teen|        Art & Design|     April 2, 2018|               3.8|  4.1 and up|     16.8|\n",
      "|Mandala Coloring ...|ART_AND_DESIGN|   4.6|   4326| 21M|   100,000+|Free|    0|      Everyone|        Art & Design|     June 26, 2018|             1.0.4|  4.4 and up|     18.4|\n",
      "|3D Color Pixel by...|ART_AND_DESIGN|   4.4|   1518| 37M|   100,000+|Free|    0|      Everyone|        Art & Design|    August 3, 2018|             1.2.3|  2.3 and up|     17.6|\n",
      "|Learn To Draw Kaw...|ART_AND_DESIGN|   3.2|     55|2.7M|     5,000+|Free|    0|      Everyone|        Art & Design|      June 6, 2018|               NaN|  4.2 and up|     12.8|\n",
      "|Photo Designer - ...|ART_AND_DESIGN|   4.7|   3632|5.5M|   500,000+|Free|    0|      Everyone|        Art & Design|     July 31, 2018|               3.1|  4.1 and up|     18.8|\n",
      "|350 Diy Room Deco...|ART_AND_DESIGN|   4.5|     27| 17M|    10,000+|Free|    0|      Everyone|        Art & Design|  November 7, 2017|               1.0|  2.3 and up|     18.0|\n",
      "|FlipaClip - Carto...|ART_AND_DESIGN|   4.3| 194216| 39M| 5,000,000+|Free|    0|      Everyone|        Art & Design|    August 3, 2018|             2.2.5|4.0.3 and up|     17.2|\n",
      "|        ibis Paint X|ART_AND_DESIGN|   4.6| 224399| 31M|10,000,000+|Free|    0|      Everyone|        Art & Design|     July 30, 2018|             5.5.4|  4.1 and up|     18.4|\n",
      "+--------------------+--------------+------+-------+----+-----------+----+-----+--------------+--------------------+------------------+------------------+------------+---------+\n",
      "only showing top 20 rows\n",
      "\n"
     ]
    }
   ],
   "source": [
    "df_gps_20 = df_gps.withColumn(\"Rating/20\", 4 * col(\"Rating\"))\n",
    "df_gps_20.show()\n"
   ]
  },
  {
   "cell_type": "code",
   "execution_count": 63,
   "id": "b6f64793-60fc-4d20-859a-f4bf026f0cc7",
   "metadata": {},
   "outputs": [
    {
     "name": "stdout",
     "output_type": "stream",
     "text": [
      "+--------------------+--------------+------+--------------+----+-----------+----+-----+--------------+--------------------+------------------+------------------+------------+---------+\n",
      "|                 App|      Category|Rating|Nbr of Reviews|Size|   Installs|Type|Price|Content Rating|              Genres|      Last Updated|       Current Ver| Android Ver|Rating/20|\n",
      "+--------------------+--------------+------+--------------+----+-----------+----+-----+--------------+--------------------+------------------+------------------+------------+---------+\n",
      "|Photo Editor & Ca...|ART_AND_DESIGN|   4.1|           159| 19M|    10,000+|Free|    0|      Everyone|        Art & Design|   January 7, 2018|             1.0.0|4.0.3 and up|     16.4|\n",
      "| Coloring book moana|ART_AND_DESIGN|   3.9|           967| 14M|   500,000+|Free|    0|      Everyone|Art & Design;Pret...|  January 15, 2018|             2.0.0|4.0.3 and up|     15.6|\n",
      "|U Launcher Lite –...|ART_AND_DESIGN|   4.7|         87510|8.7M| 5,000,000+|Free|    0|      Everyone|        Art & Design|    August 1, 2018|             1.2.4|4.0.3 and up|     18.8|\n",
      "|Sketch - Draw & P...|ART_AND_DESIGN|   4.5|        215644| 25M|50,000,000+|Free|    0|          Teen|        Art & Design|      June 8, 2018|Varies with device|  4.2 and up|     18.0|\n",
      "|Pixel Draw - Numb...|ART_AND_DESIGN|   4.3|           967|2.8M|   100,000+|Free|    0|      Everyone|Art & Design;Crea...|     June 20, 2018|               1.1|  4.4 and up|     17.2|\n",
      "|Paper flowers ins...|ART_AND_DESIGN|   4.4|           167|5.6M|    50,000+|Free|    0|      Everyone|        Art & Design|    March 26, 2017|               1.0|  2.3 and up|     17.6|\n",
      "|Smoke Effect Phot...|ART_AND_DESIGN|   3.8|           178| 19M|    50,000+|Free|    0|      Everyone|        Art & Design|    April 26, 2018|               1.1|4.0.3 and up|     15.2|\n",
      "|    Infinite Painter|ART_AND_DESIGN|   4.1|         36815| 29M| 1,000,000+|Free|    0|      Everyone|        Art & Design|     June 14, 2018|          6.1.61.1|  4.2 and up|     16.4|\n",
      "|Garden Coloring Book|ART_AND_DESIGN|   4.4|         13791| 33M| 1,000,000+|Free|    0|      Everyone|        Art & Design|September 20, 2017|             2.9.2|  3.0 and up|     17.6|\n",
      "|Kids Paint Free -...|ART_AND_DESIGN|   4.7|           121|3.1M|    10,000+|Free|    0|      Everyone|Art & Design;Crea...|      July 3, 2018|               2.8|4.0.3 and up|     18.8|\n",
      "|Text on Photo - F...|ART_AND_DESIGN|   4.4|         13880| 28M| 1,000,000+|Free|    0|      Everyone|        Art & Design|  October 27, 2017|             1.0.4|  4.1 and up|     17.6|\n",
      "|Name Art Photo Ed...|ART_AND_DESIGN|   4.4|          8788| 12M| 1,000,000+|Free|    0|      Everyone|        Art & Design|     July 31, 2018|            1.0.15|  4.0 and up|     17.6|\n",
      "|Tattoo Name On My...|ART_AND_DESIGN|   4.2|         44829| 20M|10,000,000+|Free|    0|          Teen|        Art & Design|     April 2, 2018|               3.8|  4.1 and up|     16.8|\n",
      "|Mandala Coloring ...|ART_AND_DESIGN|   4.6|          4326| 21M|   100,000+|Free|    0|      Everyone|        Art & Design|     June 26, 2018|             1.0.4|  4.4 and up|     18.4|\n",
      "|3D Color Pixel by...|ART_AND_DESIGN|   4.4|          1518| 37M|   100,000+|Free|    0|      Everyone|        Art & Design|    August 3, 2018|             1.2.3|  2.3 and up|     17.6|\n",
      "|Learn To Draw Kaw...|ART_AND_DESIGN|   3.2|            55|2.7M|     5,000+|Free|    0|      Everyone|        Art & Design|      June 6, 2018|               NaN|  4.2 and up|     12.8|\n",
      "|Photo Designer - ...|ART_AND_DESIGN|   4.7|          3632|5.5M|   500,000+|Free|    0|      Everyone|        Art & Design|     July 31, 2018|               3.1|  4.1 and up|     18.8|\n",
      "|350 Diy Room Deco...|ART_AND_DESIGN|   4.5|            27| 17M|    10,000+|Free|    0|      Everyone|        Art & Design|  November 7, 2017|               1.0|  2.3 and up|     18.0|\n",
      "|FlipaClip - Carto...|ART_AND_DESIGN|   4.3|        194216| 39M| 5,000,000+|Free|    0|      Everyone|        Art & Design|    August 3, 2018|             2.2.5|4.0.3 and up|     17.2|\n",
      "|        ibis Paint X|ART_AND_DESIGN|   4.6|        224399| 31M|10,000,000+|Free|    0|      Everyone|        Art & Design|     July 30, 2018|             5.5.4|  4.1 and up|     18.4|\n",
      "+--------------------+--------------+------+--------------+----+-----------+----+-----+--------------+--------------------+------------------+------------------+------------+---------+\n",
      "only showing top 20 rows\n",
      "\n"
     ]
    }
   ],
   "source": [
    "df_gps_renamed = df_gps_20.withColumnRenamed(\"Reviews\", \"Nbr of Reviews\")\n",
    "df_gps_renamed.show()\n"
   ]
  },
  {
   "cell_type": "code",
   "execution_count": 64,
   "id": "58ae8c83-2b27-4a1c-9aba-3c0c54103e91",
   "metadata": {},
   "outputs": [
    {
     "name": "stdout",
     "output_type": "stream",
     "text": [
      "+--------------------+--------------+------+--------------+----+-----------+----+-----+--------------+--------------------+------------------+------------------+------------+---------+\n",
      "|                 App|      Category|Rating|Nbr of Reviews|Size|   Installs|Type|Price|Content Rating|              Genres|      Last Updated|       Current Ver| Android Ver|Rating/20|\n",
      "+--------------------+--------------+------+--------------+----+-----------+----+-----+--------------+--------------------+------------------+------------------+------------+---------+\n",
      "|Photo Editor & Ca...|ART_AND_DESIGN|   4.1|           159| 19M|    10,000+|Free|    0|      Everyone|        Art & Design|   January 7, 2018|             1.0.0|4.0.3 and up|     16.4|\n",
      "| Coloring book moana|ART_AND_DESIGN|   3.9|           967| 14M|   500,000+|Free|    0|      Everyone|Art & Design;Pret...|  January 15, 2018|             2.0.0|4.0.3 and up|     15.6|\n",
      "|U Launcher Lite –...|ART_AND_DESIGN|   4.7|         87510|8.7M| 5,000,000+|Free|    0|      Everyone|        Art & Design|    August 1, 2018|             1.2.4|4.0.3 and up|     18.8|\n",
      "|Sketch - Draw & P...|ART_AND_DESIGN|   4.5|        215644| 25M|50,000,000+|Free|    0|          Teen|        Art & Design|      June 8, 2018|Varies with device|  4.2 and up|     18.0|\n",
      "|Pixel Draw - Numb...|ART_AND_DESIGN|   4.3|           967|2.8M|   100,000+|Free|    0|      Everyone|Art & Design;Crea...|     June 20, 2018|               1.1|  4.4 and up|     17.2|\n",
      "|Paper flowers ins...|ART_AND_DESIGN|   4.4|           167|5.6M|    50,000+|Free|    0|      Everyone|        Art & Design|    March 26, 2017|               1.0|  2.3 and up|     17.6|\n",
      "|Smoke Effect Phot...|ART_AND_DESIGN|   3.8|           178| 19M|    50,000+|Free|    0|      Everyone|        Art & Design|    April 26, 2018|               1.1|4.0.3 and up|     15.2|\n",
      "|    Infinite Painter|ART_AND_DESIGN|   4.1|         36815| 29M| 1,000,000+|Free|    0|      Everyone|        Art & Design|     June 14, 2018|          6.1.61.1|  4.2 and up|     16.4|\n",
      "|Garden Coloring Book|ART_AND_DESIGN|   4.4|         13791| 33M| 1,000,000+|Free|    0|      Everyone|        Art & Design|September 20, 2017|             2.9.2|  3.0 and up|     17.6|\n",
      "|Kids Paint Free -...|ART_AND_DESIGN|   4.7|           121|3.1M|    10,000+|Free|    0|      Everyone|Art & Design;Crea...|      July 3, 2018|               2.8|4.0.3 and up|     18.8|\n",
      "|Text on Photo - F...|ART_AND_DESIGN|   4.4|         13880| 28M| 1,000,000+|Free|    0|      Everyone|        Art & Design|  October 27, 2017|             1.0.4|  4.1 and up|     17.6|\n",
      "|Name Art Photo Ed...|ART_AND_DESIGN|   4.4|          8788| 12M| 1,000,000+|Free|    0|      Everyone|        Art & Design|     July 31, 2018|            1.0.15|  4.0 and up|     17.6|\n",
      "|Tattoo Name On My...|ART_AND_DESIGN|   4.2|         44829| 20M|10,000,000+|Free|    0|          Teen|        Art & Design|     April 2, 2018|               3.8|  4.1 and up|     16.8|\n",
      "|Mandala Coloring ...|ART_AND_DESIGN|   4.6|          4326| 21M|   100,000+|Free|    0|      Everyone|        Art & Design|     June 26, 2018|             1.0.4|  4.4 and up|     18.4|\n",
      "|3D Color Pixel by...|ART_AND_DESIGN|   4.4|          1518| 37M|   100,000+|Free|    0|      Everyone|        Art & Design|    August 3, 2018|             1.2.3|  2.3 and up|     17.6|\n",
      "|Photo Designer - ...|ART_AND_DESIGN|   4.7|          3632|5.5M|   500,000+|Free|    0|      Everyone|        Art & Design|     July 31, 2018|               3.1|  4.1 and up|     18.8|\n",
      "|350 Diy Room Deco...|ART_AND_DESIGN|   4.5|            27| 17M|    10,000+|Free|    0|      Everyone|        Art & Design|  November 7, 2017|               1.0|  2.3 and up|     18.0|\n",
      "|FlipaClip - Carto...|ART_AND_DESIGN|   4.3|        194216| 39M| 5,000,000+|Free|    0|      Everyone|        Art & Design|    August 3, 2018|             2.2.5|4.0.3 and up|     17.2|\n",
      "|        ibis Paint X|ART_AND_DESIGN|   4.6|        224399| 31M|10,000,000+|Free|    0|      Everyone|        Art & Design|     July 30, 2018|             5.5.4|  4.1 and up|     18.4|\n",
      "|Logo Maker - Smal...|ART_AND_DESIGN|   4.0|           450| 14M|   100,000+|Free|    0|      Everyone|        Art & Design|    April 20, 2018|               4.0|  4.1 and up|     16.0|\n",
      "+--------------------+--------------+------+--------------+----+-----------+----+-----+--------------+--------------------+------------------+------------------+------------+---------+\n",
      "only showing top 20 rows\n",
      "\n"
     ]
    }
   ],
   "source": [
    "df_gps_renamed.where(col(\"Rating/20\") > 15).show()\n"
   ]
  },
  {
   "cell_type": "code",
   "execution_count": 65,
   "id": "bd240e75-9b16-4337-98f8-b28dda2175d4",
   "metadata": {},
   "outputs": [
    {
     "name": "stdout",
     "output_type": "stream",
     "text": [
      "+--------------------+--------------+------+--------------+----+-----------+----+-----+--------------+--------------------+------------------+------------------+------------+---------+\n",
      "|                 App|      Category|Rating|Nbr of Reviews|Size|   Installs|Type|Price|Content Rating|              Genres|      Last Updated|       Current Ver| Android Ver|Rating/20|\n",
      "+--------------------+--------------+------+--------------+----+-----------+----+-----+--------------+--------------------+------------------+------------------+------------+---------+\n",
      "|Photo Editor & Ca...|ART_AND_DESIGN|   4.1|           159| 19M|    10,000+|Free|    0|      Everyone|        Art & Design|   January 7, 2018|             1.0.0|4.0.3 and up|     16.4|\n",
      "| Coloring book moana|ART_AND_DESIGN|   3.9|           967| 14M|   500,000+|Free|    0|      Everyone|Art & Design;Pret...|  January 15, 2018|             2.0.0|4.0.3 and up|     15.6|\n",
      "|U Launcher Lite –...|ART_AND_DESIGN|   4.7|         87510|8.7M| 5,000,000+|Free|    0|      Everyone|        Art & Design|    August 1, 2018|             1.2.4|4.0.3 and up|     18.8|\n",
      "|Sketch - Draw & P...|ART_AND_DESIGN|   4.5|        215644| 25M|50,000,000+|Free|    0|          Teen|        Art & Design|      June 8, 2018|Varies with device|  4.2 and up|     18.0|\n",
      "|Pixel Draw - Numb...|ART_AND_DESIGN|   4.3|           967|2.8M|   100,000+|Free|    0|      Everyone|Art & Design;Crea...|     June 20, 2018|               1.1|  4.4 and up|     17.2|\n",
      "|Paper flowers ins...|ART_AND_DESIGN|   4.4|           167|5.6M|    50,000+|Free|    0|      Everyone|        Art & Design|    March 26, 2017|               1.0|  2.3 and up|     17.6|\n",
      "|Smoke Effect Phot...|ART_AND_DESIGN|   3.8|           178| 19M|    50,000+|Free|    0|      Everyone|        Art & Design|    April 26, 2018|               1.1|4.0.3 and up|     15.2|\n",
      "|    Infinite Painter|ART_AND_DESIGN|   4.1|         36815| 29M| 1,000,000+|Free|    0|      Everyone|        Art & Design|     June 14, 2018|          6.1.61.1|  4.2 and up|     16.4|\n",
      "|Garden Coloring Book|ART_AND_DESIGN|   4.4|         13791| 33M| 1,000,000+|Free|    0|      Everyone|        Art & Design|September 20, 2017|             2.9.2|  3.0 and up|     17.6|\n",
      "|Kids Paint Free -...|ART_AND_DESIGN|   4.7|           121|3.1M|    10,000+|Free|    0|      Everyone|Art & Design;Crea...|      July 3, 2018|               2.8|4.0.3 and up|     18.8|\n",
      "|Text on Photo - F...|ART_AND_DESIGN|   4.4|         13880| 28M| 1,000,000+|Free|    0|      Everyone|        Art & Design|  October 27, 2017|             1.0.4|  4.1 and up|     17.6|\n",
      "|Name Art Photo Ed...|ART_AND_DESIGN|   4.4|          8788| 12M| 1,000,000+|Free|    0|      Everyone|        Art & Design|     July 31, 2018|            1.0.15|  4.0 and up|     17.6|\n",
      "|Tattoo Name On My...|ART_AND_DESIGN|   4.2|         44829| 20M|10,000,000+|Free|    0|          Teen|        Art & Design|     April 2, 2018|               3.8|  4.1 and up|     16.8|\n",
      "|Mandala Coloring ...|ART_AND_DESIGN|   4.6|          4326| 21M|   100,000+|Free|    0|      Everyone|        Art & Design|     June 26, 2018|             1.0.4|  4.4 and up|     18.4|\n",
      "|3D Color Pixel by...|ART_AND_DESIGN|   4.4|          1518| 37M|   100,000+|Free|    0|      Everyone|        Art & Design|    August 3, 2018|             1.2.3|  2.3 and up|     17.6|\n",
      "|Photo Designer - ...|ART_AND_DESIGN|   4.7|          3632|5.5M|   500,000+|Free|    0|      Everyone|        Art & Design|     July 31, 2018|               3.1|  4.1 and up|     18.8|\n",
      "|350 Diy Room Deco...|ART_AND_DESIGN|   4.5|            27| 17M|    10,000+|Free|    0|      Everyone|        Art & Design|  November 7, 2017|               1.0|  2.3 and up|     18.0|\n",
      "|FlipaClip - Carto...|ART_AND_DESIGN|   4.3|        194216| 39M| 5,000,000+|Free|    0|      Everyone|        Art & Design|    August 3, 2018|             2.2.5|4.0.3 and up|     17.2|\n",
      "|        ibis Paint X|ART_AND_DESIGN|   4.6|        224399| 31M|10,000,000+|Free|    0|      Everyone|        Art & Design|     July 30, 2018|             5.5.4|  4.1 and up|     18.4|\n",
      "|Logo Maker - Smal...|ART_AND_DESIGN|   4.0|           450| 14M|   100,000+|Free|    0|      Everyone|        Art & Design|    April 20, 2018|               4.0|  4.1 and up|     16.0|\n",
      "+--------------------+--------------+------+--------------+----+-----------+----+-----+--------------+--------------------+------------------+------------------+------------+---------+\n",
      "only showing top 20 rows\n",
      "\n"
     ]
    }
   ],
   "source": [
    "df_gps_renamed.where((col(\"Rating/20\") > 15) | (col(\"Rating/20\") < 5)).show()\n"
   ]
  },
  {
   "cell_type": "code",
   "execution_count": 66,
   "id": "4637fa4c-29fc-4f0a-99d3-0d27a9936093",
   "metadata": {},
   "outputs": [
    {
     "name": "stdout",
     "output_type": "stream",
     "text": [
      "+------------+---------+\n",
      "|appreciation|Rating/20|\n",
      "+------------+---------+\n",
      "|   Excellent|     16.4|\n",
      "|   Very Good|     15.6|\n",
      "| Outstanding|     18.8|\n",
      "| Outstanding|     18.0|\n",
      "|   Excellent|     17.2|\n",
      "|   Excellent|     17.6|\n",
      "|   Very Good|     15.2|\n",
      "|   Excellent|     16.4|\n",
      "|   Excellent|     17.6|\n",
      "| Outstanding|     18.8|\n",
      "|   Excellent|     17.6|\n",
      "|   Excellent|     17.6|\n",
      "|   Excellent|     16.8|\n",
      "| Outstanding|     18.4|\n",
      "|   Excellent|     17.6|\n",
      "|        Good|     12.8|\n",
      "| Outstanding|     18.8|\n",
      "| Outstanding|     18.0|\n",
      "|   Excellent|     17.2|\n",
      "| Outstanding|     18.4|\n",
      "+------------+---------+\n",
      "only showing top 20 rows\n",
      "\n"
     ]
    }
   ],
   "source": [
    "df_gps_renamed.select(\n",
    "    when(col(\"Rating/20\") >= 18, \"Outstanding\")\n",
    "    .when(col(\"Rating/20\") >= 16, \"Excellent\")\n",
    "    .when(col(\"Rating/20\") >= 14, \"Very Good\")\n",
    "    .when(col(\"Rating/20\") >= 12, \"Good\")\n",
    "    .when(col(\"Rating/20\") >= 10, \"Fair\")\n",
    "    .otherwise(\"bad\").alias(\"appreciation\"), \"Rating/20\"\n",
    ").show()"
   ]
  },
  {
   "cell_type": "code",
   "execution_count": 67,
   "id": "cd02ea80-bce5-4b07-ba97-9420a27a27ce",
   "metadata": {},
   "outputs": [
    {
     "name": "stdout",
     "output_type": "stream",
     "text": [
      "+------------+---------+\n",
      "|appreciation|Rating/20|\n",
      "+------------+---------+\n",
      "|        Fair|     16.4|\n",
      "|        Fair|     15.6|\n",
      "|        Fair|     18.8|\n",
      "|        Fair|     18.0|\n",
      "|        Fair|     17.2|\n",
      "|        Fair|     17.6|\n",
      "|        Fair|     15.2|\n",
      "|        Fair|     16.4|\n",
      "|        Fair|     17.6|\n",
      "|        Fair|     18.8|\n",
      "|        Fair|     17.6|\n",
      "|        Fair|     17.6|\n",
      "|        Fair|     16.8|\n",
      "|        Fair|     18.4|\n",
      "|        Fair|     17.6|\n",
      "|        Fair|     12.8|\n",
      "|        Fair|     18.8|\n",
      "|        Fair|     18.0|\n",
      "|        Fair|     17.2|\n",
      "|        Fair|     18.4|\n",
      "+------------+---------+\n",
      "only showing top 20 rows\n",
      "\n"
     ]
    }
   ],
   "source": [
    "df_gps_renamed.select(\n",
    "    when(col(\"Rating/20\") >= 10, \"Fair\")\n",
    "    .when(col(\"Rating/20\") >= 12, \"Good\")\n",
    "    .when(col(\"Rating/20\") >= 14, \"Very Good\")\n",
    "    .when(col(\"Rating/20\") >= 16, \"Excellent\")\n",
    "    .when(col(\"Rating/20\") >= 18, \"Outstanding\")\n",
    "    .otherwise(\"Bad\").alias(\"appreciation\"), \"Rating/20\"\n",
    ").show()"
   ]
  },
  {
   "cell_type": "code",
   "execution_count": 68,
   "id": "83fefa4b-a0e1-4ac0-8d34-cbcfd5ed859f",
   "metadata": {},
   "outputs": [
    {
     "name": "stdout",
     "output_type": "stream",
     "text": [
      "+--------------------+--------------+------+--------------+----+-----------+----+-----+--------------+--------------------+------------------+------------------+------------+---------+-----+\n",
      "|                 App|      Category|Rating|Nbr of Reviews|Size|   Installs|Type|Price|Content Rating|              Genres|      Last Updated|       Current Ver| Android Ver|Rating/20| used|\n",
      "+--------------------+--------------+------+--------------+----+-----------+----+-----+--------------+--------------------+------------------+------------------+------------+---------+-----+\n",
      "|Photo Editor & Ca...|ART_AND_DESIGN|   4.1|           159| 19M|    10,000+|Free|    0|      Everyone|        Art & Design|   January 7, 2018|             1.0.0|4.0.3 and up|     16.4|false|\n",
      "| Coloring book moana|ART_AND_DESIGN|   3.9|           967| 14M|   500,000+|Free|    0|      Everyone|Art & Design;Pret...|  January 15, 2018|             2.0.0|4.0.3 and up|     15.6|false|\n",
      "|U Launcher Lite –...|ART_AND_DESIGN|   4.7|         87510|8.7M| 5,000,000+|Free|    0|      Everyone|        Art & Design|    August 1, 2018|             1.2.4|4.0.3 and up|     18.8| true|\n",
      "|Sketch - Draw & P...|ART_AND_DESIGN|   4.5|        215644| 25M|50,000,000+|Free|    0|          Teen|        Art & Design|      June 8, 2018|Varies with device|  4.2 and up|     18.0| true|\n",
      "|Pixel Draw - Numb...|ART_AND_DESIGN|   4.3|           967|2.8M|   100,000+|Free|    0|      Everyone|Art & Design;Crea...|     June 20, 2018|               1.1|  4.4 and up|     17.2|false|\n",
      "|Paper flowers ins...|ART_AND_DESIGN|   4.4|           167|5.6M|    50,000+|Free|    0|      Everyone|        Art & Design|    March 26, 2017|               1.0|  2.3 and up|     17.6|false|\n",
      "|Smoke Effect Phot...|ART_AND_DESIGN|   3.8|           178| 19M|    50,000+|Free|    0|      Everyone|        Art & Design|    April 26, 2018|               1.1|4.0.3 and up|     15.2|false|\n",
      "|    Infinite Painter|ART_AND_DESIGN|   4.1|         36815| 29M| 1,000,000+|Free|    0|      Everyone|        Art & Design|     June 14, 2018|          6.1.61.1|  4.2 and up|     16.4| true|\n",
      "|Garden Coloring Book|ART_AND_DESIGN|   4.4|         13791| 33M| 1,000,000+|Free|    0|      Everyone|        Art & Design|September 20, 2017|             2.9.2|  3.0 and up|     17.6| true|\n",
      "|Kids Paint Free -...|ART_AND_DESIGN|   4.7|           121|3.1M|    10,000+|Free|    0|      Everyone|Art & Design;Crea...|      July 3, 2018|               2.8|4.0.3 and up|     18.8|false|\n",
      "|Text on Photo - F...|ART_AND_DESIGN|   4.4|         13880| 28M| 1,000,000+|Free|    0|      Everyone|        Art & Design|  October 27, 2017|             1.0.4|  4.1 and up|     17.6| true|\n",
      "|Name Art Photo Ed...|ART_AND_DESIGN|   4.4|          8788| 12M| 1,000,000+|Free|    0|      Everyone|        Art & Design|     July 31, 2018|            1.0.15|  4.0 and up|     17.6|false|\n",
      "|Tattoo Name On My...|ART_AND_DESIGN|   4.2|         44829| 20M|10,000,000+|Free|    0|          Teen|        Art & Design|     April 2, 2018|               3.8|  4.1 and up|     16.8| true|\n",
      "|Mandala Coloring ...|ART_AND_DESIGN|   4.6|          4326| 21M|   100,000+|Free|    0|      Everyone|        Art & Design|     June 26, 2018|             1.0.4|  4.4 and up|     18.4|false|\n",
      "|3D Color Pixel by...|ART_AND_DESIGN|   4.4|          1518| 37M|   100,000+|Free|    0|      Everyone|        Art & Design|    August 3, 2018|             1.2.3|  2.3 and up|     17.6|false|\n",
      "|Learn To Draw Kaw...|ART_AND_DESIGN|   3.2|            55|2.7M|     5,000+|Free|    0|      Everyone|        Art & Design|      June 6, 2018|               NaN|  4.2 and up|     12.8|false|\n",
      "|Photo Designer - ...|ART_AND_DESIGN|   4.7|          3632|5.5M|   500,000+|Free|    0|      Everyone|        Art & Design|     July 31, 2018|               3.1|  4.1 and up|     18.8|false|\n",
      "|350 Diy Room Deco...|ART_AND_DESIGN|   4.5|            27| 17M|    10,000+|Free|    0|      Everyone|        Art & Design|  November 7, 2017|               1.0|  2.3 and up|     18.0|false|\n",
      "|FlipaClip - Carto...|ART_AND_DESIGN|   4.3|        194216| 39M| 5,000,000+|Free|    0|      Everyone|        Art & Design|    August 3, 2018|             2.2.5|4.0.3 and up|     17.2| true|\n",
      "|        ibis Paint X|ART_AND_DESIGN|   4.6|        224399| 31M|10,000,000+|Free|    0|      Everyone|        Art & Design|     July 30, 2018|             5.5.4|  4.1 and up|     18.4| true|\n",
      "+--------------------+--------------+------+--------------+----+-----------+----+-----+--------------+--------------------+------------------+------------------+------------+---------+-----+\n",
      "only showing top 20 rows\n",
      "\n"
     ]
    }
   ],
   "source": [
    "df_gps_used = df_gps_renamed.withColumn(\"used\", when(col(\"Nbr of Reviews\") >= 10000, True)\n",
    "                                        .otherwise(False))\n",
    "df_gps_used.show()"
   ]
  },
  {
   "cell_type": "code",
   "execution_count": 69,
   "id": "86cf6149-4e67-43ce-a66c-9478ab80b140",
   "metadata": {},
   "outputs": [
    {
     "name": "stdout",
     "output_type": "stream",
     "text": [
      "10841 10358 483\n"
     ]
    }
   ],
   "source": [
    "count_original = df_gps_used.count()\n",
    "count_distinct = df_gps_used.distinct().count()\n",
    "count_duplicates = count_original - count_distinct\n",
    "print(count_original, count_distinct, count_duplicates)"
   ]
  },
  {
   "cell_type": "code",
   "execution_count": 70,
   "id": "5ac7affa-bbb5-40b4-a49d-466e0b35a7b8",
   "metadata": {},
   "outputs": [
    {
     "name": "stdout",
     "output_type": "stream",
     "text": [
      "10841 10358 9660\n"
     ]
    }
   ],
   "source": [
    "df_unique = df_gps_used.dropDuplicates(['App'])\n",
    "count_app_distinct = df_unique.count()\n",
    "print(count_original, count_distinct, count_app_distinct)"
   ]
  },
  {
   "cell_type": "code",
   "execution_count": 71,
   "id": "ee604bee-2f53-42bc-8056-2fd7a922bbe6",
   "metadata": {},
   "outputs": [
    {
     "name": "stdout",
     "output_type": "stream",
     "text": [
      "Requirement already satisfied: numpy in ./.venv/lib/python3.8/site-packages (1.24.4)\n"
     ]
    }
   ],
   "source": [
    "!pip install numpy"
   ]
  },
  {
   "cell_type": "code",
   "execution_count": 72,
   "id": "a6253dbb-c1f4-4c11-965b-4980a4350afd",
   "metadata": {},
   "outputs": [
    {
     "name": "stdout",
     "output_type": "stream",
     "text": [
      "+----------+---+--------+------+--------------+----+--------+----+-----+--------------+------+------------+-----------+-----------+---------+----+\n",
      "|      9660|App|Category|Rating|Nbr of Reviews|Size|Installs|Type|Price|Content Rating|Genres|Last Updated|Current Ver|Android Ver|Rating/20|used|\n",
      "+----------+---+--------+------+--------------+----+--------+----+-----+--------------+------+------------+-----------+-----------+---------+----+\n",
      "| nan count|  0|       0|  1463|             0|   0|       0|   1|    0|             0|     0|           0|          7|          2|     1463|   0|\n",
      "|null count|  0|       0|     0|             0|   0|       0|   0|    0|             1|     0|           0|          1|          1|        0|   0|\n",
      "+----------+---+--------+------+--------------+----+--------+----+-----+--------------+------+------------+-----------+-----------+---------+----+\n"
     ]
    }
   ],
   "source": [
    "import numpy as np\n",
    "from pyspark.sql.functions import isnan, isnull, col\n",
    "from pyspark.sql.types import BooleanType\n",
    "\n",
    "\n",
    "def getMissingValues(dataframe):\n",
    "    count = dataframe.count()\n",
    "    columns = dataframe.columns\n",
    "    nan_count = []\n",
    "    # we can't check for nan in a boolean type column\n",
    "    for column in columns:\n",
    "        if dataframe.schema[column].dataType == BooleanType():\n",
    "            nan_count.append(0)\n",
    "        else:\n",
    "            nan_count.append(dataframe.where(isnan(col(column))).count())\n",
    "    null_count = [dataframe.where(isnull(col(column))).count() for column in columns]\n",
    "    return([count, columns, nan_count, null_count])    \n",
    "\n",
    "def missingTables(stats):\n",
    "    count, columns, nan_count, null_count = stats\n",
    "    count = str(count)\n",
    "    nan_count = [str(element) for element in nan_count]\n",
    "    null_count = [str(element) for element in null_count]\n",
    "    max_init = np.max([len(str(count)), 10])\n",
    "    line1 = \"+\" + max_init*\"-\" + \"+\"\n",
    "    line2 = \"|\" + (max_init-len(count))*\" \" + count + \"|\"\n",
    "    line3 = \"|\" + (max_init-9)*\" \" + \"nan count|\"\n",
    "    line4 = \"|\" + (max_init-10)*\" \" + \"null count|\"\n",
    "    for i in range(len(columns)):\n",
    "        max_column = np.max([len(columns[i]), len(nan_count[i]), len(null_count[i])])\n",
    "        line1 += max_column*\"-\" + \"+\"\n",
    "        line2 += (max_column - len(columns[i]))*\" \" + columns[i] + \"|\"\n",
    "        line3 += (max_column - len(nan_count[i]))*\" \" + nan_count[i] + \"|\"\n",
    "        line4 += (max_column - len(null_count[i]))*\" \" + null_count[i] + \"|\"\n",
    "    lines = f\"{line1}\\n{line2}\\n{line1}\\n{line3}\\n{line4}\\n{line1}\"\n",
    "    print(lines)\n",
    "\n",
    "missingTables(getMissingValues(df_unique))"
   ]
  },
  {
   "cell_type": "code",
   "execution_count": 75,
   "id": "031e56fb-1e7c-4c20-86a2-163334ea981d",
   "metadata": {},
   "outputs": [
    {
     "name": "stdout",
     "output_type": "stream",
     "text": [
      "+----------+---+--------+--------------+----+--------+----+-----+--------------+------+------------+-----------+-----------+---------+----+\n",
      "|      9659|App|Category|Nbr of Reviews|Size|Installs|Type|Price|Content Rating|Genres|Last Updated|Current Ver|Android Ver|Rating/20|used|\n",
      "+----------+---+--------+--------------+----+--------+----+-----+--------------+------+------------+-----------+-----------+---------+----+\n",
      "| nan count|  0|       0|             0|   0|       0|   1|    0|             0|     0|           0|          7|          2|     1463|   0|\n",
      "|null count|  0|       0|             0|   0|       0|   0|    0|             0|     0|           0|          1|          0|        0|   0|\n",
      "+----------+---+--------+--------------+----+--------+----+-----+--------------+------+------------+-----------+-----------+---------+----+\n"
     ]
    }
   ],
   "source": [
    "df_clean = df_unique.drop(\"Rating\")\\\n",
    "                    .dropna(subset=[\"Type\", \"Content Rating\", \"Android Ver\"])\n",
    "missingTables(getMissingValues(df_clean))"
   ]
  },
  {
   "cell_type": "code",
   "execution_count": 76,
   "id": "c73424b4-6e00-4a0e-ae6c-04af8d0d1523",
   "metadata": {},
   "outputs": [
    {
     "name": "stdout",
     "output_type": "stream",
     "text": [
      "+----------+---+--------+--------------+----+--------+----+-----+--------------+------+------------+-----------+-----------+---------+----+\n",
      "|      9656|App|Category|Nbr of Reviews|Size|Installs|Type|Price|Content Rating|Genres|Last Updated|Current Ver|Android Ver|Rating/20|used|\n",
      "+----------+---+--------+--------------+----+--------+----+-----+--------------+------+------------+-----------+-----------+---------+----+\n",
      "| nan count|  0|       0|             0|   0|       0|   0|    0|             0|     0|           0|          7|          0|     1462|   0|\n",
      "|null count|  0|       0|             0|   0|       0|   0|    0|             0|     0|           0|          1|          0|        0|   0|\n",
      "+----------+---+--------+--------------+----+--------+----+-----+--------------+------+------------+-----------+-----------+---------+----+\n"
     ]
    }
   ],
   "source": [
    "df_clean = df_clean.filter(~isnan(\"Type\") & ~isnan(\"Android Ver\"))\n",
    "missingTables(getMissingValues(df_clean))"
   ]
  },
  {
   "cell_type": "code",
   "execution_count": 77,
   "id": "d0207919-8e36-48d8-92ac-5ae269157d33",
   "metadata": {},
   "outputs": [
    {
     "name": "stdout",
     "output_type": "stream",
     "text": [
      "+----------+---+--------+--------------+----+--------+----+-----+--------------+------+------------+-----------+-----------+---------+----+\n",
      "|      9656|App|Category|Nbr of Reviews|Size|Installs|Type|Price|Content Rating|Genres|Last Updated|Current Ver|Android Ver|Rating/20|used|\n",
      "+----------+---+--------+--------------+----+--------+----+-----+--------------+------+------------+-----------+-----------+---------+----+\n",
      "| nan count|  0|       0|             0|   0|       0|   0|    0|             0|     0|           0|          7|          0|        0|   0|\n",
      "|null count|  0|       0|             0|   0|       0|   0|    0|             0|     0|           0|          1|          0|        0|   0|\n",
      "+----------+---+--------+--------------+----+--------+----+-----+--------------+------+------------+-----------+-----------+---------+----+\n"
     ]
    }
   ],
   "source": [
    "# We start by computing the average, be careful not to keep missing values\n",
    "rating_average_df = df_clean.filter(~isnan(\"Rating/20\")).select(avg(\"Rating/20\"))\n",
    "\n",
    "# Then we extract the corresponding float by using the head method\n",
    "rating_average = rating_average_df.head()[\"avg(Rating/20)\"]\n",
    "\n",
    "# Now we can fill the missing values of the Rating/20 column\n",
    "df_nomiss = df_clean.fillna({\"Rating/20\": rating_average})\n",
    "\n",
    "# We check to see if we have remaing missing values\n",
    "missingTables(getMissingValues(df_nomiss))"
   ]
  },
  {
   "cell_type": "code",
   "execution_count": 78,
   "id": "64a7811f-b856-4d63-8e14-67b0aa84e5b1",
   "metadata": {},
   "outputs": [
    {
     "name": "stdout",
     "output_type": "stream",
     "text": [
      "Varies with device\n",
      "+----------+---+--------+--------------+----+--------+----+-----+--------------+------+------------+-----------+-----------+---------+----+\n",
      "|      9656|App|Category|Nbr of Reviews|Size|Installs|Type|Price|Content Rating|Genres|Last Updated|Current Ver|Android Ver|Rating/20|used|\n",
      "+----------+---+--------+--------------+----+--------+----+-----+--------------+------+------------+-----------+-----------+---------+----+\n",
      "| nan count|  0|       0|             0|   0|       0|   0|    0|             0|     0|           0|          0|          0|        0|   0|\n",
      "|null count|  0|       0|             0|   0|       0|   0|    0|             0|     0|           0|          0|          0|        0|   0|\n",
      "+----------+---+--------+--------------+----+--------+----+-----+--------------+------+------------+-----------+-----------+---------+----+\n"
     ]
    }
   ],
   "source": [
    "grouped_ver = df_nomiss.groupBy(\"Current Ver\").count().sort(\"count\", ascending=False)\n",
    "mode_ver = grouped_ver.head()[\"Current Ver\"]\n",
    "print(mode_ver)\n",
    "\n",
    "df_final = df_nomiss.withColumn(\"Current Ver\", when(isnan(\"Current Ver\") | isnull(\"Current Ver\"), mode_ver)\\\n",
    "                                              .otherwise(col(\"Current Ver\")))\n",
    "missingTables(getMissingValues(df_final))"
   ]
  },
  {
   "cell_type": "code",
   "execution_count": 79,
   "id": "c03eaded-7124-4d5e-af18-ae6733be956e",
   "metadata": {},
   "outputs": [
    {
     "name": "stdout",
     "output_type": "stream",
     "text": [
      "+-------------------+------------------+--------------------+\n",
      "|           Category|    avg(Rating/20)|        mode(Genres)|\n",
      "+-------------------+------------------+--------------------+\n",
      "|             EVENTS|17.430645899438602|              Events|\n",
      "|             SPORTS|16.830232703103583|              Sports|\n",
      "|             COMICS|16.724739356323443|              Comics|\n",
      "|            WEATHER| 16.94745460556195|             Weather|\n",
      "|      VIDEO_PLAYERS|16.225708770894755|Video Players & E...|\n",
      "|  AUTO_AND_VEHICLES| 16.75191086734913|     Auto & Vehicles|\n",
      "|          PARENTING| 17.11545032950939|           Parenting|\n",
      "|      ENTERTAINMENT| 16.54117647058823|       Entertainment|\n",
      "|    PERSONALIZATION|17.193665118209623|     Personalization|\n",
      "| HEALTH_AND_FITNESS| 16.92944057982804|    Health & Fitness|\n",
      "|   TRAVEL_AND_LOCAL|16.338659649615547|      Travel & Local|\n",
      "|BOOKS_AND_REFERENCE|17.215825246774724|   Books & Reference|\n",
      "|     FOOD_AND_DRINK|16.689898532026906|        Food & Drink|\n",
      "|        PHOTOGRAPHY| 16.63369621205343|         Photography|\n",
      "|           BUSINESS| 16.50560526285205|            Business|\n",
      "|             FAMILY|16.715495653131338|       Entertainment|\n",
      "|           SHOPPING|16.895244769778415|            Shopping|\n",
      "|     HOUSE_AND_HOME|16.615032753036157|        House & Home|\n",
      "|               GAME|16.974929085424034|              Action|\n",
      "|          EDUCATION|17.451199176277786|           Education|\n",
      "+-------------------+------------------+--------------------+\n",
      "only showing top 20 rows\n",
      "\n"
     ]
    }
   ],
   "source": [
    "df_final.groupBy(\"Category\").agg({\"Genres\": \"mode\", \"Rating/20\": \"mean\"}).show()\n"
   ]
  },
  {
   "cell_type": "code",
   "execution_count": 80,
   "id": "c90bb8e9-c62f-4739-8eeb-9e04587bef73",
   "metadata": {},
   "outputs": [
    {
     "name": "stdout",
     "output_type": "stream",
     "text": [
      "+---+---------+---+----+------+----------+\n",
      "|   |FirstName|Age|City|Cohort|duplicates|\n",
      "+---+---------+---+----+------+----------+\n",
      "+---+---------+---+----+------+----------+\n",
      "\n"
     ]
    }
   ],
   "source": [
    "from pyspark.sql.functions import col, count\n",
    "\n",
    "def return_duplicates(df):\n",
    "    return(df.groupBy(df.columns).agg(count(\"*\").alias(\"duplicates\")).filter(col(\"duplicates\") >= 2))\n",
    "\n",
    "return_duplicates(df).sort(\"duplicates\", ascending=False).show()"
   ]
  },
  {
   "cell_type": "code",
   "execution_count": 82,
   "id": "79fbb1e6-d736-418b-b4ad-9404bd011142",
   "metadata": {},
   "outputs": [
    {
     "name": "stdout",
     "output_type": "stream",
     "text": [
      "+--------------------+-----------------------+\n",
      "|                 App|avg(Sentiment_Polarity)|\n",
      "+--------------------+-----------------------+\n",
      "|            HomeWork|                    1.0|\n",
      "|       Google Slides|     0.9333333333333332|\n",
      "|Daily Workouts - ...|                    0.8|\n",
      "|Bed Time Fan - Wh...|                0.78125|\n",
      "|Cameringo Lite. F...|     0.7702690972222221|\n",
      "|       Google Primer|                   0.75|\n",
      "|        GPS Map Free|                    0.7|\n",
      "|GPS Speedometer a...|                 0.6875|\n",
      "|Best Ovulation Tr...|              0.5953125|\n",
      "|3D Live Neon Weed...|     0.5681818181818181|\n",
      "|    Cookbook Recipes|     0.5654370380932882|\n",
      "|CM Flashlight (Co...|                0.55625|\n",
      "|Goldstar: Live Ev...|     0.5492664141414142|\n",
      "|Hipmunk Hotels & ...|     0.5463015873015874|\n",
      "|850 Sports News D...|     0.5428597480561768|\n",
      "|       C++ Tutorials|     0.5309259259259259|\n",
      "|Haystack TV: Loca...|                 0.5295|\n",
      "|All Football GO- ...|     0.5265151515151514|\n",
      "|Home Workout for ...|     0.5234495192307692|\n",
      "| ASUS Sound Recorder|     0.5167708333333333|\n",
      "+--------------------+-----------------------+\n",
      "only showing top 20 rows\n",
      "\n"
     ]
    }
   ],
   "source": [
    "df_user = spark.read.option(\"header\", True)\\\n",
    "                    .option(\"inferSchema\", True)\\\n",
    "                    .option(\"escape\", \"\\\"\")\\\n",
    "                    .csv(\"gps_user.csv\")\n",
    "\n",
    "df_joined = df_final.join(df_user, \"App\")\n",
    "df_joined.filter(~isnan(\"Sentiment_Polarity\") & ~isnull(\"Sentiment_Polarity\"))\\\n",
    "         .select(\"App\", col(\"Sentiment_Polarity\").cast(\"double\"))\\\n",
    "         .groupBy(\"App\")\\\n",
    "         .avg(\"Sentiment_Polarity\")\\\n",
    "         .sort(\"avg(Sentiment_Polarity)\", ascending=False)\\\n",
    "         .show()"
   ]
  },
  {
   "cell_type": "code",
   "execution_count": 83,
   "id": "88389218-8b7c-452a-b753-76217146aa6f",
   "metadata": {},
   "outputs": [],
   "source": [
    "df_final.createOrReplaceTempView(\"APPS\")"
   ]
  },
  {
   "cell_type": "code",
   "execution_count": 84,
   "id": "c0dc9c06-a354-4e70-9fec-d2589b9a6369",
   "metadata": {},
   "outputs": [
    {
     "name": "stdout",
     "output_type": "stream",
     "text": [
      "+----+---------------+\n",
      "|freq| Content Rating|\n",
      "+----+---------------+\n",
      "|7901|       Everyone|\n",
      "|1036|           Teen|\n",
      "| 393|     Mature 17+|\n",
      "| 321|   Everyone 10+|\n",
      "|   3|Adults only 18+|\n",
      "|   2|        Unrated|\n",
      "+----+---------------+\n",
      "\n"
     ]
    }
   ],
   "source": [
    "spark.sql(\"SELECT count(*) as freq, `Content Rating` FROM APPS GROUP BY `Content Rating` ORDER BY freq DESC\").show()"
   ]
  },
  {
   "cell_type": "code",
   "execution_count": 85,
   "id": "cd55fc07-4756-413a-bf14-c2d467b0a47f",
   "metadata": {},
   "outputs": [
    {
     "name": "stdout",
     "output_type": "stream",
     "text": [
      "+--------------------+--------+--------------+------------------+----------+----+-----+---------------+------+--------------+------------------+------------------+---------+-----+\n",
      "|                 App|Category|Nbr of Reviews|              Size|  Installs|Type|Price| Content Rating|Genres|  Last Updated|       Current Ver|       Android Ver|Rating/20| used|\n",
      "+--------------------+--------+--------------+------------------+----------+----+-----+---------------+------+--------------+------------------+------------------+---------+-----+\n",
      "|DraftKings - Dail...|  SPORTS|         50017|               41M|1,000,000+|Free|    0|Adults only 18+|Sports| July 24, 2018|          3.21.324|        4.4 and up|     18.0| true|\n",
      "|         Manga Books|  COMICS|          7326|Varies with device|  500,000+|Free|    0|Adults only 18+|Comics|August 3, 2018|Varies with device|Varies with device|     15.2|false|\n",
      "|Manga Master - Be...|  COMICS|         24005|              4.9M|  500,000+|Free|    0|Adults only 18+|Comics|  July 4, 2018|           1.1.7.0|        4.1 and up|     18.4| true|\n",
      "+--------------------+--------+--------------+------------------+----------+----+-----+---------------+------+--------------+------------------+------------------+---------+-----+\n",
      "\n"
     ]
    }
   ],
   "source": [
    "spark.sql(\"SELECT * FROM APPS WHERE `Content Rating`='Adults only 18+'\").show()"
   ]
  },
  {
   "cell_type": "code",
   "execution_count": 86,
   "id": "181e62b1-736f-43f8-a4e5-ae8a6b5cebb3",
   "metadata": {},
   "outputs": [
    {
     "name": "stdout",
     "output_type": "stream",
     "text": [
      "+---------+--------+\n",
      "|good apps|Category|\n",
      "+---------+--------+\n",
      "|     1590|  FAMILY|\n",
      "|      886|    GAME|\n",
      "|      662|   TOOLS|\n",
      "+---------+--------+\n",
      "\n"
     ]
    }
   ],
   "source": [
    "spark.sql(\"\"\" \n",
    "    SELECT count(*) as `good apps`, Category\n",
    "    FROM APPS\n",
    "    WHERE `Rating/20` > 15\n",
    "    GROUP BY CATEGORY\n",
    "    HAVING `good apps` > 400\n",
    "    ORDER BY `good apps` DESC\n",
    "\"\"\").show()"
   ]
  },
  {
   "cell_type": "code",
   "execution_count": 87,
   "id": "b0c6889c-a8ed-4a86-a40e-59a4a5ea9fe8",
   "metadata": {},
   "outputs": [
    {
     "name": "stdout",
     "output_type": "stream",
     "text": [
      "+------------------------+\n",
      "|CLEAN_INSTALLS(Installs)|\n",
      "+------------------------+\n",
      "|                     500|\n",
      "|               1,000,000|\n",
      "|                  10,000|\n",
      "|                  10,000|\n",
      "|                  10,000|\n",
      "|                     100|\n",
      "|                 100,000|\n",
      "|                 500,000|\n",
      "|                 100,000|\n",
      "|                     100|\n",
      "|                     500|\n",
      "|              10,000,000|\n",
      "|                   5,000|\n",
      "|                  10,000|\n",
      "|                  50,000|\n",
      "|               1,000,000|\n",
      "|              10,000,000|\n",
      "|                  50,000|\n",
      "|                       5|\n",
      "|                   1,000|\n",
      "+------------------------+\n",
      "only showing top 20 rows\n",
      "\n"
     ]
    }
   ],
   "source": [
    "def clean_installs(installs):\n",
    "    return installs[:-1]\n",
    "\n",
    "spark.udf.register(\"CLEAN_INSTALLS\", clean_installs, StringType())\n",
    "spark.sql(\"SELECT CLEAN_INSTALLS(Installs) FROM APPS\").show()"
   ]
  },
  {
   "cell_type": "code",
   "execution_count": 88,
   "id": "5d82bcd4-226e-4a0b-b6dc-01e8494f91c1",
   "metadata": {},
   "outputs": [
    {
     "name": "stdout",
     "output_type": "stream",
     "text": [
      "+------------------------+\n",
      "|clean_installs(Installs)|\n",
      "+------------------------+\n",
      "|                     500|\n",
      "|               1,000,000|\n",
      "|                  10,000|\n",
      "|                  10,000|\n",
      "|                  10,000|\n",
      "|                     100|\n",
      "|                 100,000|\n",
      "|                 500,000|\n",
      "|                 100,000|\n",
      "|                     100|\n",
      "|                     500|\n",
      "|              10,000,000|\n",
      "|                   5,000|\n",
      "|                  10,000|\n",
      "|                  50,000|\n",
      "|               1,000,000|\n",
      "|              10,000,000|\n",
      "|                  50,000|\n",
      "|                       5|\n",
      "|                   1,000|\n",
      "+------------------------+\n",
      "only showing top 20 rows\n",
      "\n"
     ]
    }
   ],
   "source": [
    "from pyspark.sql.functions import udf\n",
    "\n",
    "\n",
    "clean_installsUDF = udf(clean_installs, StringType())\n",
    "df_final.select(clean_installsUDF(col(\"Installs\"))).show()"
   ]
  },
  {
   "cell_type": "code",
   "execution_count": null,
   "id": "3da48114-800f-428c-aa3e-d97993a21958",
   "metadata": {},
   "outputs": [],
   "source": []
  }
 ],
 "metadata": {
  "kernelspec": {
   "display_name": "Python 3 (ipykernel)",
   "language": "python",
   "name": "python3"
  },
  "language_info": {
   "codemirror_mode": {
    "name": "ipython",
    "version": 3
   },
   "file_extension": ".py",
   "mimetype": "text/x-python",
   "name": "python",
   "nbconvert_exporter": "python",
   "pygments_lexer": "ipython3",
   "version": "3.8.10"
  }
 },
 "nbformat": 4,
 "nbformat_minor": 5
}
